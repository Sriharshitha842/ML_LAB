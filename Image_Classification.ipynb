{
  "nbformat": 4,
  "nbformat_minor": 0,
  "metadata": {
    "colab": {
      "name": "Image Classification.ipynb",
      "provenance": [],
      "include_colab_link": true
    },
    "kernelspec": {
      "name": "python3",
      "display_name": "Python 3"
    },
    "language_info": {
      "name": "python"
    }
  },
  "cells": [
    {
      "cell_type": "markdown",
      "metadata": {
        "id": "view-in-github",
        "colab_type": "text"
      },
      "source": [
        "<a href=\"https://colab.research.google.com/github/Sriharshitha842/ML_LAB/blob/main/Image_Classification.ipynb\" target=\"_parent\"><img src=\"https://colab.research.google.com/assets/colab-badge.svg\" alt=\"Open In Colab\"/></a>"
      ]
    },
    {
      "cell_type": "markdown",
      "metadata": {
        "id": "XMH27AWoJvit"
      },
      "source": [
        "## **IMAGE CLASSIFICATION USING ANN**"
      ]
    },
    {
      "cell_type": "code",
      "metadata": {
        "id": "zjAnT8eyDTxF"
      },
      "source": [
        "import warnings\n",
        "warnings.filterwarnings('ignore')\n",
        "import tensorflow as tf\n",
        "import numpy as np\n",
        "import pandas as pd\n",
        "import matplotlib.pyplot as plt\n",
        "import itertools\n",
        "from tensorflow.keras.datasets import fashion_mnist\n",
        "from sklearn.metrics import confusion_matrix, accuracy_score,classification_report"
      ],
      "execution_count": null,
      "outputs": []
    },
    {
      "cell_type": "code",
      "metadata": {
        "colab": {
          "base_uri": "https://localhost:8080/"
        },
        "id": "nPgEkND-DcoY",
        "outputId": "11edad71-2cb1-43df-f634-2eb6863f4f35"
      },
      "source": [
        "print(f\"Tensorflow Version: {tf.__version__}\")"
      ],
      "execution_count": null,
      "outputs": [
        {
          "output_type": "stream",
          "name": "stdout",
          "text": [
            "Tensorflow Version: 2.8.2\n"
          ]
        }
      ]
    },
    {
      "cell_type": "code",
      "metadata": {
        "id": "FkczTWffDf2s",
        "outputId": "58305b2c-d12d-4a3a-ab3f-b0adde65a84b",
        "colab": {
          "base_uri": "https://localhost:8080/"
        }
      },
      "source": [
        "# load the datasets from fashion_mnist into training and testing datasets\n",
        "(x_train, y_train),(x_test, y_test) = fashion_mnist.load_data()"
      ],
      "execution_count": null,
      "outputs": [
        {
          "output_type": "stream",
          "name": "stdout",
          "text": [
            "Downloading data from https://storage.googleapis.com/tensorflow/tf-keras-datasets/train-labels-idx1-ubyte.gz\n",
            "32768/29515 [=================================] - 0s 0us/step\n",
            "40960/29515 [=========================================] - 0s 0us/step\n",
            "Downloading data from https://storage.googleapis.com/tensorflow/tf-keras-datasets/train-images-idx3-ubyte.gz\n",
            "26427392/26421880 [==============================] - 0s 0us/step\n",
            "26435584/26421880 [==============================] - 0s 0us/step\n",
            "Downloading data from https://storage.googleapis.com/tensorflow/tf-keras-datasets/t10k-labels-idx1-ubyte.gz\n",
            "16384/5148 [===============================================================================================] - 0s 0us/step\n",
            "Downloading data from https://storage.googleapis.com/tensorflow/tf-keras-datasets/t10k-images-idx3-ubyte.gz\n",
            "4423680/4422102 [==============================] - 0s 0us/step\n",
            "4431872/4422102 [==============================] - 0s 0us/step\n"
          ]
        }
      ]
    },
    {
      "cell_type": "code",
      "metadata": {
        "colab": {
          "base_uri": "https://localhost:8080/"
        },
        "id": "8OHU58gwDkaT",
        "outputId": "eb9c8ea2-9916-4d6b-e531-a01948ffce34"
      },
      "source": [
        "print(f\"x_train shape: {x_train.shape}\")\n",
        "print(f\"y_train shape: {y_train.shape}\")\n",
        "print(f\"x_test shape:  {x_test.shape}\")\n",
        "print(f\"y_test shape:  {y_test.shape}\")"
      ],
      "execution_count": null,
      "outputs": [
        {
          "output_type": "stream",
          "name": "stdout",
          "text": [
            "x_train shape: (60000, 28, 28)\n",
            "y_train shape: (60000,)\n",
            "x_test shape:  (10000, 28, 28)\n",
            "y_test shape:  (10000,)\n"
          ]
        }
      ]
    },
    {
      "cell_type": "code",
      "metadata": {
        "colab": {
          "base_uri": "https://localhost:8080/"
        },
        "id": "ecmI634zDoNy",
        "outputId": "be318d60-8af2-48ab-ce86-70ff20eb4dcb"
      },
      "source": [
        "# see the maximum, minimum, and mean values in x_train\n",
        "print(f\"x_train Max Value:  {np.max(x_train)}\")\n",
        "print(f\"x_train Min Value:  {np.min(x_train)}\")\n",
        "print(f\"x_train Mean Value: {np.mean(x_train):.1f}\")"
      ],
      "execution_count": null,
      "outputs": [
        {
          "output_type": "stream",
          "name": "stdout",
          "text": [
            "x_train Max Value:  255\n",
            "x_train Min Value:  0\n",
            "x_train Mean Value: 72.9\n"
          ]
        }
      ]
    },
    {
      "cell_type": "code",
      "metadata": {
        "colab": {
          "base_uri": "https://localhost:8080/"
        },
        "id": "6jVkL1SPDzEv",
        "outputId": "c740e0cc-5228-491f-9758-b629cf10c072"
      },
      "source": [
        "# see the maximum and minimum values in y_train\n",
        "print(f\"y_train Max Value:  {np.max(y_train)}\")\n",
        "print(f\"y_train Min Value:  {np.min(y_train)}\")"
      ],
      "execution_count": null,
      "outputs": [
        {
          "output_type": "stream",
          "name": "stdout",
          "text": [
            "y_train Max Value:  9\n",
            "y_train Min Value:  0\n"
          ]
        }
      ]
    },
    {
      "cell_type": "code",
      "metadata": {
        "id": "hCcqClWVEPNr"
      },
      "source": [
        "# define the classes as a list\n",
        "class_names = ['0 Top/T-Shirt', '1 Trouser', '2 Pullover', '3 Dress', '4 Coat',\n",
        "               '5 Sandal', '6 Shirt', '7 Sneaker', '8 Bag', '9 Ankle boot']"
      ],
      "execution_count": null,
      "outputs": []
    },
    {
      "cell_type": "markdown",
      "metadata": {
        "id": "4vbZ5ZIGD64a"
      },
      "source": [
        "**Data Exploration**"
      ]
    },
    {
      "cell_type": "code",
      "metadata": {
        "colab": {
          "base_uri": "https://localhost:8080/",
          "height": 265
        },
        "id": "hBAC6R56D5T2",
        "outputId": "20c0c537-7971-4671-d2ad-e274272d95fe"
      },
      "source": [
        "#first image in x_train\n",
        "plt.figure()\n",
        "plt.imshow(x_train[2])\n",
        "plt.colorbar()\n",
        "plt.show()"
      ],
      "execution_count": null,
      "outputs": [
        {
          "output_type": "display_data",
          "data": {
            "text/plain": [
              "<Figure size 432x288 with 2 Axes>"
            ],
            "image/png": "[encoded data removed]"
          },
          "metadata": {
            "needs_background": "light"
          }
        }
      ]
    },
    {
      "cell_type": "code",
      "metadata": {
        "colab": {
          "base_uri": "https://localhost:8080/"
        },
        "id": "oKZrkkO7EDBL",
        "outputId": "1e59769b-5010-4f33-8ebc-60a4175a8388"
      },
      "source": [
        "# show the label for the first image in x_train\n",
        "print(f\"x_train[2] = {class_names[y_train[2]]}\")"
      ],
      "execution_count": null,
      "outputs": [
        {
          "output_type": "stream",
          "name": "stdout",
          "text": [
            "x_train[2] = 0 Top/T-Shirt\n"
          ]
        }
      ]
    },
    {
      "cell_type": "markdown",
      "metadata": {
        "id": "zGv46MLVET9w"
      },
      "source": [
        "**Normalize the dataset**"
      ]
    },
    {
      "cell_type": "code",
      "metadata": {
        "id": "sJTUFgy1ESUZ"
      },
      "source": [
        "# this helps the neural network learn faster\n",
        "x_train = x_train / 255.0\n",
        "x_test = x_test / 255.0"
      ],
      "execution_count": null,
      "outputs": []
    },
    {
      "cell_type": "code",
      "metadata": {
        "colab": {
          "base_uri": "https://localhost:8080/",
          "height": 269
        },
        "id": "Ccq1TFNgEbkk",
        "outputId": "f97a161b-b197-435e-c729-6b0d9e427982"
      },
      "source": [
        "# show the image after it has been normalized\n",
        "plt.figure()\n",
        "plt.imshow(x_train[2])\n",
        "plt.colorbar()\n",
        "plt.show()"
      ],
      "execution_count": null,
      "outputs": [
        {
          "output_type": "display_data",
          "data": {
            "text/plain": [
              "<Figure size 432x288 with 2 Axes>"
            ],
            "image/png": "[encoded data removed]"
          },
          "metadata": {
            "needs_background": "light"
          }
        }
      ]
    },
    {
      "cell_type": "markdown",
      "metadata": {
        "id": "wzPG3UW5EgQU"
      },
      "source": [
        "**Flatten the model**"
      ]
    },
    {
      "cell_type": "code",
      "metadata": {
        "colab": {
          "base_uri": "https://localhost:8080/"
        },
        "id": "GFyNQhenEfEW",
        "outputId": "ea1683f7-c77a-4870-842f-23d4e6748e1a"
      },
      "source": [
        "x_train.shape, x_test.shape"
      ],
      "execution_count": null,
      "outputs": [
        {
          "output_type": "execute_result",
          "data": {
            "text/plain": [
              "((60000, 28, 28), (10000, 28, 28))"
            ]
          },
          "metadata": {},
          "execution_count": 14
        }
      ]
    },
    {
      "cell_type": "code",
      "metadata": {
        "id": "JatgRubWEnPD"
      },
      "source": [
        "# -1 selects all images in the dataset\n",
        "# 28*28 converts the 2D 28 x 28 dimension into a 1D dimension\n",
        "\n",
        "x_train = x_train.reshape(-1, 28*28)\n",
        "x_test = x_test.reshape(-1, 28*28)"
      ],
      "execution_count": null,
      "outputs": []
    },
    {
      "cell_type": "code",
      "metadata": {
        "colab": {
          "base_uri": "https://localhost:8080/"
        },
        "id": "mP17IDCRErZV",
        "outputId": "a20e064f-6bb7-437b-9cec-1ebf82fe3618"
      },
      "source": [
        "x_train.shape, x_test.shape"
      ],
      "execution_count": null,
      "outputs": [
        {
          "output_type": "execute_result",
          "data": {
            "text/plain": [
              "((60000, 784), (10000, 784))"
            ]
          },
          "metadata": {},
          "execution_count": 14
        }
      ]
    },
    {
      "cell_type": "markdown",
      "metadata": {
        "id": "jw_Z13POEutN"
      },
      "source": [
        "**Build a model**"
      ]
    },
    {
      "cell_type": "code",
      "metadata": {
        "id": "PBp_uMxIExro"
      },
      "source": [
        "# define an object\n",
        "model = tf.keras.models.Sequential()\n",
        "\n",
        "# adding the first fully connected hidden layer parameters:\n",
        "# 1) units (number of neurons) = 128\n",
        "# 2) activation function = ReLU\n",
        "# 3) input shape = 784 entered as (784,)\n",
        "model.add(tf.keras.layers.Dense(units=300, activation='relu', input_shape=(784,)))\n",
        "model.add(tf.keras.layers.Dense(units=100, activation=\"relu\"))\n",
        "\n",
        "\n",
        "# adding the second layer with dropout\n",
        "# dropout: a regularization technique where randomly selected neurons will be ignored during training to prevent overfitting\n",
        "model.add(tf.keras.layers.Dropout(rate=0.3))\n",
        "\n",
        "# adding the output layer parameters:\n",
        "# 1) units (neurons) = 10  \n",
        "# 2) activation = softmax     \n",
        "model.add(tf.keras.layers.Dense(units=10, activation='softmax'))\n",
        "np.random.seed(0)"
      ],
      "execution_count": null,
      "outputs": []
    },
    {
      "cell_type": "code",
      "source": [
        "tf.keras.utils.plot_model(model, \"my_fashion_mnist_model.png\", show_shapes=True)\n"
      ],
      "metadata": {
        "id": "FZA5SuADFzEr",
        "outputId": "d57a4680-6996-4572-d38c-7afbf74ca617",
        "colab": {
          "base_uri": "https://localhost:8080/",
          "height": 533
        }
      },
      "execution_count": null,
      "outputs": [
        {
          "output_type": "execute_result",
          "data": {
            "text/plain": [
              "<IPython.core.display.Image object>"
            ],
            "image/png": "[encoded data removed]"
          },
          "metadata": {},
          "execution_count": 57
        }
      ]
    },
    {
      "cell_type": "markdown",
      "metadata": {
        "id": "p3vtF3pGE-TL"
      },
      "source": [
        "**Train the model**"
      ]
    },
    {
      "cell_type": "code",
      "metadata": {
        "colab": {
          "base_uri": "https://localhost:8080/"
        },
        "id": "7NnDXe6GE9I5",
        "outputId": "2695ccdd-963f-41bf-b7f6-c78c25c86d87"
      },
      "source": [
        "model.compile(optimizer='adam', loss='sparse_categorical_crossentropy', metrics=['sparse_categorical_accuracy'])\n",
        "model.summary()"
      ],
      "execution_count": null,
      "outputs": [
        {
          "output_type": "stream",
          "name": "stdout",
          "text": [
            "Model: \"sequential_12\"\n",
            "_________________________________________________________________\n",
            " Layer (type)                Output Shape              Param #   \n",
            "=================================================================\n",
            " dense_34 (Dense)            (None, 300)               235500    \n",
            "                                                                 \n",
            " dense_35 (Dense)            (None, 100)               30100     \n",
            "                                                                 \n",
            " dropout_11 (Dropout)        (None, 100)               0         \n",
            "                                                                 \n",
            " dense_36 (Dense)            (None, 10)                1010      \n",
            "                                                                 \n",
            "=================================================================\n",
            "Total params: 266,610\n",
            "Trainable params: 266,610\n",
            "Non-trainable params: 0\n",
            "_________________________________________________________________\n"
          ]
        }
      ]
    },
    {
      "cell_type": "code",
      "metadata": {
        "colab": {
          "base_uri": "https://localhost:8080/"
        },
        "id": "BkvuYiTkFJQq",
        "outputId": "9d643003-ac0c-48bd-9361-1dab10204553"
      },
      "source": [
        "# begin training the model\n",
        "model.fit(x_train, y_train, batch_size=32,epochs=30)"
      ],
      "execution_count": null,
      "outputs": [
        {
          "output_type": "stream",
          "name": "stdout",
          "text": [
            "Epoch 1/30\n",
            "1875/1875 [==============================] - 7s 4ms/step - loss: 0.1609 - sparse_categorical_accuracy: 0.9376\n",
            "Epoch 2/30\n",
            "1875/1875 [==============================] - 7s 4ms/step - loss: 0.1611 - sparse_categorical_accuracy: 0.9374\n",
            "Epoch 3/30\n",
            "1875/1875 [==============================] - 7s 4ms/step - loss: 0.1565 - sparse_categorical_accuracy: 0.9394\n",
            "Epoch 4/30\n",
            "1875/1875 [==============================] - 7s 4ms/step - loss: 0.1582 - sparse_categorical_accuracy: 0.9386\n",
            "Epoch 5/30\n",
            "1875/1875 [==============================] - 7s 4ms/step - loss: 0.1535 - sparse_categorical_accuracy: 0.9401\n",
            "Epoch 6/30\n",
            "1875/1875 [==============================] - 7s 4ms/step - loss: 0.1518 - sparse_categorical_accuracy: 0.9399\n",
            "Epoch 7/30\n",
            "1875/1875 [==============================] - 7s 4ms/step - loss: 0.1485 - sparse_categorical_accuracy: 0.9427\n",
            "Epoch 8/30\n",
            "1875/1875 [==============================] - 7s 4ms/step - loss: 0.1494 - sparse_categorical_accuracy: 0.9420\n",
            "Epoch 9/30\n",
            "1875/1875 [==============================] - 7s 4ms/step - loss: 0.1438 - sparse_categorical_accuracy: 0.9437\n",
            "Epoch 10/30\n",
            "1875/1875 [==============================] - 7s 4ms/step - loss: 0.1430 - sparse_categorical_accuracy: 0.9445\n",
            "Epoch 11/30\n",
            "1875/1875 [==============================] - 7s 4ms/step - loss: 0.1415 - sparse_categorical_accuracy: 0.9447\n",
            "Epoch 12/30\n",
            "1875/1875 [==============================] - 7s 4ms/step - loss: 0.1433 - sparse_categorical_accuracy: 0.9444\n",
            "Epoch 13/30\n",
            "1875/1875 [==============================] - 7s 4ms/step - loss: 0.1378 - sparse_categorical_accuracy: 0.9457\n",
            "Epoch 14/30\n",
            "1875/1875 [==============================] - 7s 4ms/step - loss: 0.1387 - sparse_categorical_accuracy: 0.9463\n",
            "Epoch 15/30\n",
            "1875/1875 [==============================] - 7s 4ms/step - loss: 0.1372 - sparse_categorical_accuracy: 0.9462\n",
            "Epoch 16/30\n",
            "1875/1875 [==============================] - 7s 4ms/step - loss: 0.1331 - sparse_categorical_accuracy: 0.9474\n",
            "Epoch 17/30\n",
            "1875/1875 [==============================] - 7s 4ms/step - loss: 0.1321 - sparse_categorical_accuracy: 0.9476\n",
            "Epoch 18/30\n",
            "1875/1875 [==============================] - 7s 4ms/step - loss: 0.1328 - sparse_categorical_accuracy: 0.9492\n",
            "Epoch 19/30\n",
            "1875/1875 [==============================] - 7s 4ms/step - loss: 0.1318 - sparse_categorical_accuracy: 0.9484\n",
            "Epoch 20/30\n",
            "1875/1875 [==============================] - 7s 4ms/step - loss: 0.1318 - sparse_categorical_accuracy: 0.9493\n",
            "Epoch 21/30\n",
            "1875/1875 [==============================] - 7s 4ms/step - loss: 0.1239 - sparse_categorical_accuracy: 0.9513\n",
            "Epoch 22/30\n",
            "1875/1875 [==============================] - 7s 4ms/step - loss: 0.1267 - sparse_categorical_accuracy: 0.9507\n",
            "Epoch 23/30\n",
            "1875/1875 [==============================] - 7s 4ms/step - loss: 0.1277 - sparse_categorical_accuracy: 0.9512\n",
            "Epoch 24/30\n",
            "1875/1875 [==============================] - 7s 4ms/step - loss: 0.1231 - sparse_categorical_accuracy: 0.9523\n",
            "Epoch 25/30\n",
            "1875/1875 [==============================] - 7s 4ms/step - loss: 0.1230 - sparse_categorical_accuracy: 0.9524\n",
            "Epoch 26/30\n",
            "1875/1875 [==============================] - 7s 4ms/step - loss: 0.1207 - sparse_categorical_accuracy: 0.9524\n",
            "Epoch 27/30\n",
            "1875/1875 [==============================] - 7s 4ms/step - loss: 0.1242 - sparse_categorical_accuracy: 0.9532\n",
            "Epoch 28/30\n",
            "1875/1875 [==============================] - 7s 4ms/step - loss: 0.1198 - sparse_categorical_accuracy: 0.9524\n",
            "Epoch 29/30\n",
            "1875/1875 [==============================] - 7s 4ms/step - loss: 0.1142 - sparse_categorical_accuracy: 0.9559\n",
            "Epoch 30/30\n",
            "1875/1875 [==============================] - 7s 4ms/step - loss: 0.1208 - sparse_categorical_accuracy: 0.9538\n"
          ]
        },
        {
          "output_type": "execute_result",
          "data": {
            "text/plain": [
              "<keras.callbacks.History at 0x7f7aa42a75d0>"
            ]
          },
          "metadata": {},
          "execution_count": 71
        }
      ]
    },
    {
      "cell_type": "markdown",
      "metadata": {
        "id": "uOCYfjL-FQIb"
      },
      "source": [
        "**Model Evalution**"
      ]
    },
    {
      "cell_type": "code",
      "metadata": {
        "colab": {
          "base_uri": "https://localhost:8080/"
        },
        "id": "4u1vQaVFFTNG",
        "outputId": "8174f268-69ad-4a55-a861-3a108cf3d008"
      },
      "source": [
        "# use the test data\n",
        "test_loss, test_accuracy = model.evaluate(x_test, y_test)\n",
        "\n",
        "# print the accuracy and loss\n",
        "print(f\"Test Accuracy: {test_accuracy:.4f}\")\n",
        "print(f\"Test Loss: {test_loss:.4f}\")"
      ],
      "execution_count": null,
      "outputs": [
        {
          "output_type": "stream",
          "name": "stdout",
          "text": [
            "313/313 [==============================] - 1s 2ms/step - loss: 0.5920 - sparse_categorical_accuracy: 0.8908\n",
            "Test Accuracy: 0.8908\n",
            "Test Loss: 0.5920\n"
          ]
        }
      ]
    },
    {
      "cell_type": "markdown",
      "metadata": {
        "id": "O1UYzj2_FhaI"
      },
      "source": [
        "**Model Prediction**"
      ]
    },
    {
      "cell_type": "code",
      "metadata": {
        "id": "h5y-7xCdFf57"
      },
      "source": [
        "# predictions\n",
        "y_Pred=model.predict(x_test) \n",
        "y_pred=np.argmax(y_Pred,axis=1)"
      ],
      "execution_count": null,
      "outputs": []
    },
    {
      "cell_type": "code",
      "metadata": {
        "colab": {
          "base_uri": "https://localhost:8080/"
        },
        "id": "ghLDnsv_GoR-",
        "outputId": "9089c636-e1cb-4c8e-e2ff-68533c28ce0a"
      },
      "source": [
        "# print the predicted class and actual class\n",
        "print(f\"y_pred[0] = {class_names[4]}\")\n",
        "print(f\"y_test[0] = {class_names[4]}\")"
      ],
      "execution_count": null,
      "outputs": [
        {
          "output_type": "stream",
          "name": "stdout",
          "text": [
            "y_pred[0] = 4 Coat\n",
            "y_test[0] = 4 Coat\n"
          ]
        }
      ]
    },
    {
      "cell_type": "markdown",
      "metadata": {
        "id": "vmT1KjW4Gsf7"
      },
      "source": [
        "**Confusion Matrix**"
      ]
    },
    {
      "cell_type": "code",
      "metadata": {
        "id": "Q-w5pLyvGvi7"
      },
      "source": [
        "label_names = ['Top/T-Shirt', 'Trouser', 'Pullover', 'Dress', 'Coat',\n",
        "               'Sandal', 'Shirt', 'Sneaker', 'Bag', 'Ankle boot']\n",
        "\n",
        "cm = confusion_matrix(y_test, y_pred)\n",
        "\n",
        "nr_rows = cm.shape[0]\n",
        "nr_cols = cm.shape[1]"
      ],
      "execution_count": null,
      "outputs": []
    },
    {
      "cell_type": "code",
      "metadata": {
        "colab": {
          "base_uri": "https://localhost:8080/",
          "height": 761
        },
        "id": "I3oGeHD2HRWG",
        "outputId": "09a0fb2c-2c31-4274-80e1-2c16ef626e0b"
      },
      "source": [
        "plt.figure(figsize=(10,10), dpi=95)\n",
        "plt.imshow(cm, cmap=plt.cm.Greens)\n",
        "\n",
        "plt.title('Confusion Matrix', fontsize=16)\n",
        "plt.ylabel('Actual Labels', fontsize=12)\n",
        "plt.xlabel('Predicted Labels', fontsize=12)\n",
        "\n",
        "tick_marks = np.arange(10)\n",
        "plt.yticks(tick_marks, label_names)\n",
        "plt.xticks(tick_marks, label_names)\n",
        "\n",
        "plt.colorbar()\n",
        "\n",
        "for i, j in itertools.product(range(nr_rows), range(nr_cols)):\n",
        "    plt.text(j, i, cm[i, j], horizontalalignment='center',\n",
        "            color='white' if cm[i, j] > cm.max()/2 else 'black')\n",
        "    \n",
        "\n",
        "plt.show()"
      ],
      "execution_count": null,
      "outputs": [
        {
          "output_type": "display_data",
          "data": {
            "text/plain": [
              "<Figure size 950x950 with 2 Axes>"
            ],
            "image/png": "[encoded data removed]"
          },
          "metadata": {
            "needs_background": "light"
          }
        }
      ]
    },
    {
      "cell_type": "code",
      "metadata": {
        "colab": {
          "base_uri": "https://localhost:8080/"
        },
        "id": "QEnndvEhHVUI",
        "outputId": "72cc626f-9446-42a5-a31a-619c200841e3"
      },
      "source": [
        "# print the accuracy\n",
        "acc_cm = accuracy_score(y_test, y_pred)\n",
        "print(f\"Accuracy = {acc_cm * 100}%\")"
      ],
      "execution_count": null,
      "outputs": [
        {
          "output_type": "stream",
          "name": "stdout",
          "text": [
            "Accuracy = 89.08%\n"
          ]
        }
      ]
    },
    {
      "cell_type": "code",
      "source": [
        "print(classification_report(y_test, y_pred))\n"
      ],
      "metadata": {
        "id": "k14MbkZ1_AsS",
        "outputId": "52aa5cf1-f2fa-49bc-d757-7ffcbaf954aa",
        "colab": {
          "base_uri": "https://localhost:8080/"
        }
      },
      "execution_count": null,
      "outputs": [
        {
          "output_type": "stream",
          "name": "stdout",
          "text": [
            "              precision    recall  f1-score   support\n",
            "\n",
            "           0       0.84      0.85      0.84      1000\n",
            "           1       1.00      0.98      0.99      1000\n",
            "           2       0.76      0.87      0.81      1000\n",
            "           3       0.89      0.90      0.90      1000\n",
            "           4       0.85      0.74      0.79      1000\n",
            "           5       0.98      0.96      0.97      1000\n",
            "           6       0.73      0.71      0.72      1000\n",
            "           7       0.94      0.97      0.96      1000\n",
            "           8       0.98      0.97      0.97      1000\n",
            "           9       0.96      0.96      0.96      1000\n",
            "\n",
            "    accuracy                           0.89     10000\n",
            "   macro avg       0.89      0.89      0.89     10000\n",
            "weighted avg       0.89      0.89      0.89     10000\n",
            "\n"
          ]
        }
      ]
    }
  ]
}