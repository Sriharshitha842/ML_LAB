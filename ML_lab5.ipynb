{
  "nbformat": 4,
  "nbformat_minor": 0,
  "metadata": {
    "colab": {
      "name": "ML_lab5.ipynb",
      "provenance": [],
      "authorship_tag": "ABX9TyP5Z/sJhXXEL9ecUuwj9Smr",
      "include_colab_link": true
    },
    "kernelspec": {
      "name": "python3",
      "display_name": "Python 3"
    },
    "language_info": {
      "name": "python"
    }
  },
  "cells": [
    {
      "cell_type": "markdown",
      "metadata": {
        "id": "view-in-github",
        "colab_type": "text"
      },
      "source": [
        "<a href=\"https://colab.research.google.com/github/Sriharshitha842/ML_LAB/blob/main/ML_lab5.ipynb\" target=\"_parent\"><img src=\"https://colab.research.google.com/assets/colab-badge.svg\" alt=\"Open In Colab\"/></a>"
      ]
    },
    {
      "cell_type": "code",
      "metadata": {
        "id": "-aehQDJrR_vf"
      },
      "source": [
        "import pandas as pd\n",
        "import numpy as np\n",
        "import seaborn as sns\n",
        "import matplotlib.pyplot as plt\n",
        "from sklearn.linear_model import LinearRegression\n",
        "from sklearn.model_selection import train_test_split\n",
        "from sklearn import metrics"
      ],
      "execution_count": null,
      "outputs": []
    },
    {
      "cell_type": "code",
      "metadata": {
        "colab": {
          "base_uri": "https://localhost:8080/",
          "height": 317
        },
        "id": "O33PVxgBWxz1",
        "outputId": "2c74153a-96f5-46dd-878d-d11885d1dde4"
      },
      "source": [
        "df = pd.read_csv(r\"/content/sample_data/deaths.csv\")\n",
        "df.describe()"
      ],
      "execution_count": null,
      "outputs": [
        {
          "output_type": "execute_result",
          "data": {
            "text/html": [
              "<div>\n",
              "<style scoped>\n",
              "    .dataframe tbody tr th:only-of-type {\n",
              "        vertical-align: middle;\n",
              "    }\n",
              "\n",
              "    .dataframe tbody tr th {\n",
              "        vertical-align: top;\n",
              "    }\n",
              "\n",
              "    .dataframe thead th {\n",
              "        text-align: right;\n",
              "    }\n",
              "</style>\n",
              "<table border=\"1\" class=\"dataframe\">\n",
              "  <thead>\n",
              "    <tr style=\"text-align: right;\">\n",
              "      <th></th>\n",
              "      <th>days</th>\n",
              "      <th>year</th>\n",
              "      <th>week</th>\n",
              "      <th>population</th>\n",
              "      <th>total_deaths</th>\n",
              "      <th>covid_deaths</th>\n",
              "      <th>expected_deaths</th>\n",
              "      <th>excess_deaths</th>\n",
              "      <th>non_covid_deaths</th>\n",
              "      <th>covid_deaths_per_100k</th>\n",
              "      <th>excess_deaths_per_100k</th>\n",
              "      <th>excess_deaths_pct_change</th>\n",
              "    </tr>\n",
              "  </thead>\n",
              "  <tbody>\n",
              "    <tr>\n",
              "      <th>count</th>\n",
              "      <td>8504.000000</td>\n",
              "      <td>8504.000000</td>\n",
              "      <td>8504.000000</td>\n",
              "      <td>8.504000e+03</td>\n",
              "      <td>8504.00000</td>\n",
              "      <td>8504.000000</td>\n",
              "      <td>8504.000000</td>\n",
              "      <td>8504.000000</td>\n",
              "      <td>8504.000000</td>\n",
              "      <td>8504.000000</td>\n",
              "      <td>8504.000000</td>\n",
              "      <td>8504.000000</td>\n",
              "    </tr>\n",
              "    <tr>\n",
              "      <th>mean</th>\n",
              "      <td>6.999412</td>\n",
              "      <td>2020.389464</td>\n",
              "      <td>23.445202</td>\n",
              "      <td>1.799890e+07</td>\n",
              "      <td>3321.58389</td>\n",
              "      <td>358.398812</td>\n",
              "      <td>2846.622938</td>\n",
              "      <td>474.960952</td>\n",
              "      <td>2963.185078</td>\n",
              "      <td>1.874765</td>\n",
              "      <td>2.391807</td>\n",
              "      <td>0.146437</td>\n",
              "    </tr>\n",
              "    <tr>\n",
              "      <th>std</th>\n",
              "      <td>0.054220</td>\n",
              "      <td>0.487657</td>\n",
              "      <td>14.262333</td>\n",
              "      <td>3.834793e+07</td>\n",
              "      <td>7440.36516</td>\n",
              "      <td>1184.625571</td>\n",
              "      <td>6274.577523</td>\n",
              "      <td>1715.419048</td>\n",
              "      <td>6569.418007</td>\n",
              "      <td>2.872299</td>\n",
              "      <td>3.872820</td>\n",
              "      <td>0.249260</td>\n",
              "    </tr>\n",
              "    <tr>\n",
              "      <th>min</th>\n",
              "      <td>2.000000</td>\n",
              "      <td>2020.000000</td>\n",
              "      <td>1.000000</td>\n",
              "      <td>3.433600e+05</td>\n",
              "      <td>28.00000</td>\n",
              "      <td>-1625.000000</td>\n",
              "      <td>36.958708</td>\n",
              "      <td>-3906.712360</td>\n",
              "      <td>-1740.000000</td>\n",
              "      <td>-8.803323</td>\n",
              "      <td>-8.774060</td>\n",
              "      <td>-0.490654</td>\n",
              "    </tr>\n",
              "    <tr>\n",
              "      <th>25%</th>\n",
              "      <td>7.000000</td>\n",
              "      <td>2020.000000</td>\n",
              "      <td>11.000000</td>\n",
              "      <td>2.689862e+06</td>\n",
              "      <td>543.00000</td>\n",
              "      <td>4.000000</td>\n",
              "      <td>488.139077</td>\n",
              "      <td>2.913332</td>\n",
              "      <td>494.000000</td>\n",
              "      <td>0.111607</td>\n",
              "      <td>0.083359</td>\n",
              "      <td>0.005458</td>\n",
              "    </tr>\n",
              "    <tr>\n",
              "      <th>50%</th>\n",
              "      <td>7.000000</td>\n",
              "      <td>2020.000000</td>\n",
              "      <td>22.000000</td>\n",
              "      <td>6.137428e+06</td>\n",
              "      <td>1236.50000</td>\n",
              "      <td>44.000000</td>\n",
              "      <td>1106.709293</td>\n",
              "      <td>66.400000</td>\n",
              "      <td>1115.500000</td>\n",
              "      <td>0.821416</td>\n",
              "      <td>1.422197</td>\n",
              "      <td>0.085038</td>\n",
              "    </tr>\n",
              "    <tr>\n",
              "      <th>75%</th>\n",
              "      <td>7.000000</td>\n",
              "      <td>2021.000000</td>\n",
              "      <td>34.000000</td>\n",
              "      <td>1.551927e+07</td>\n",
              "      <td>2664.00000</td>\n",
              "      <td>210.000000</td>\n",
              "      <td>2350.073077</td>\n",
              "      <td>277.219944</td>\n",
              "      <td>2388.500000</td>\n",
              "      <td>2.362897</td>\n",
              "      <td>3.440577</td>\n",
              "      <td>0.207045</td>\n",
              "    </tr>\n",
              "    <tr>\n",
              "      <th>max</th>\n",
              "      <td>7.000000</td>\n",
              "      <td>2021.000000</td>\n",
              "      <td>53.000000</td>\n",
              "      <td>3.283005e+08</td>\n",
              "      <td>87331.00000</td>\n",
              "      <td>23481.000000</td>\n",
              "      <td>62616.096154</td>\n",
              "      <td>27843.656410</td>\n",
              "      <td>70455.000000</td>\n",
              "      <td>43.366504</td>\n",
              "      <td>48.776160</td>\n",
              "      <td>3.756511</td>\n",
              "    </tr>\n",
              "  </tbody>\n",
              "</table>\n",
              "</div>"
            ],
            "text/plain": [
              "              days  ...  excess_deaths_pct_change\n",
              "count  8504.000000  ...               8504.000000\n",
              "mean      6.999412  ...                  0.146437\n",
              "std       0.054220  ...                  0.249260\n",
              "min       2.000000  ...                 -0.490654\n",
              "25%       7.000000  ...                  0.005458\n",
              "50%       7.000000  ...                  0.085038\n",
              "75%       7.000000  ...                  0.207045\n",
              "max       7.000000  ...                  3.756511\n",
              "\n",
              "[8 rows x 12 columns]"
            ]
          },
          "metadata": {},
          "execution_count": 5
        }
      ]
    },
    {
      "cell_type": "code",
      "metadata": {
        "colab": {
          "base_uri": "https://localhost:8080/",
          "height": 309
        },
        "id": "rX-VB90yXJ0P",
        "outputId": "84ce5cd3-75b1-4b7e-a295-9f9c87fe5336"
      },
      "source": [
        "df.head()"
      ],
      "execution_count": null,
      "outputs": [
        {
          "output_type": "execute_result",
          "data": {
            "text/html": [
              "<div>\n",
              "<style scoped>\n",
              "    .dataframe tbody tr th:only-of-type {\n",
              "        vertical-align: middle;\n",
              "    }\n",
              "\n",
              "    .dataframe tbody tr th {\n",
              "        vertical-align: top;\n",
              "    }\n",
              "\n",
              "    .dataframe thead th {\n",
              "        text-align: right;\n",
              "    }\n",
              "</style>\n",
              "<table border=\"1\" class=\"dataframe\">\n",
              "  <thead>\n",
              "    <tr style=\"text-align: right;\">\n",
              "      <th></th>\n",
              "      <th>country</th>\n",
              "      <th>region</th>\n",
              "      <th>region_code</th>\n",
              "      <th>start_date</th>\n",
              "      <th>end_date</th>\n",
              "      <th>days</th>\n",
              "      <th>year</th>\n",
              "      <th>week</th>\n",
              "      <th>population</th>\n",
              "      <th>total_deaths</th>\n",
              "      <th>covid_deaths</th>\n",
              "      <th>expected_deaths</th>\n",
              "      <th>excess_deaths</th>\n",
              "      <th>non_covid_deaths</th>\n",
              "      <th>covid_deaths_per_100k</th>\n",
              "      <th>excess_deaths_per_100k</th>\n",
              "      <th>excess_deaths_pct_change</th>\n",
              "    </tr>\n",
              "  </thead>\n",
              "  <tbody>\n",
              "    <tr>\n",
              "      <th>0</th>\n",
              "      <td>Australia</td>\n",
              "      <td>Australia</td>\n",
              "      <td>0</td>\n",
              "      <td>2019-12-30</td>\n",
              "      <td>2020-01-05</td>\n",
              "      <td>7</td>\n",
              "      <td>2020</td>\n",
              "      <td>1</td>\n",
              "      <td>25788217</td>\n",
              "      <td>2510.0</td>\n",
              "      <td>0.0</td>\n",
              "      <td>2569.892790</td>\n",
              "      <td>-59.892790</td>\n",
              "      <td>2510.0</td>\n",
              "      <td>0.0</td>\n",
              "      <td>-0.232249</td>\n",
              "      <td>-0.023306</td>\n",
              "    </tr>\n",
              "    <tr>\n",
              "      <th>1</th>\n",
              "      <td>Australia</td>\n",
              "      <td>Australia</td>\n",
              "      <td>0</td>\n",
              "      <td>2020-01-06</td>\n",
              "      <td>2020-01-12</td>\n",
              "      <td>7</td>\n",
              "      <td>2020</td>\n",
              "      <td>2</td>\n",
              "      <td>25788217</td>\n",
              "      <td>2523.0</td>\n",
              "      <td>0.0</td>\n",
              "      <td>2565.059457</td>\n",
              "      <td>-42.059457</td>\n",
              "      <td>2523.0</td>\n",
              "      <td>0.0</td>\n",
              "      <td>-0.163096</td>\n",
              "      <td>-0.016397</td>\n",
              "    </tr>\n",
              "    <tr>\n",
              "      <th>2</th>\n",
              "      <td>Australia</td>\n",
              "      <td>Australia</td>\n",
              "      <td>0</td>\n",
              "      <td>2020-01-13</td>\n",
              "      <td>2020-01-19</td>\n",
              "      <td>7</td>\n",
              "      <td>2020</td>\n",
              "      <td>3</td>\n",
              "      <td>25788217</td>\n",
              "      <td>2516.0</td>\n",
              "      <td>0.0</td>\n",
              "      <td>2543.559457</td>\n",
              "      <td>-27.559457</td>\n",
              "      <td>2516.0</td>\n",
              "      <td>0.0</td>\n",
              "      <td>-0.106868</td>\n",
              "      <td>-0.010835</td>\n",
              "    </tr>\n",
              "    <tr>\n",
              "      <th>3</th>\n",
              "      <td>Australia</td>\n",
              "      <td>Australia</td>\n",
              "      <td>0</td>\n",
              "      <td>2020-01-20</td>\n",
              "      <td>2020-01-26</td>\n",
              "      <td>7</td>\n",
              "      <td>2020</td>\n",
              "      <td>4</td>\n",
              "      <td>25788217</td>\n",
              "      <td>2619.0</td>\n",
              "      <td>0.0</td>\n",
              "      <td>2544.892790</td>\n",
              "      <td>74.107210</td>\n",
              "      <td>2619.0</td>\n",
              "      <td>0.0</td>\n",
              "      <td>0.287368</td>\n",
              "      <td>0.029120</td>\n",
              "    </tr>\n",
              "    <tr>\n",
              "      <th>4</th>\n",
              "      <td>Australia</td>\n",
              "      <td>Australia</td>\n",
              "      <td>0</td>\n",
              "      <td>2020-01-27</td>\n",
              "      <td>2020-02-02</td>\n",
              "      <td>7</td>\n",
              "      <td>2020</td>\n",
              "      <td>5</td>\n",
              "      <td>25788217</td>\n",
              "      <td>2522.0</td>\n",
              "      <td>0.0</td>\n",
              "      <td>2532.392790</td>\n",
              "      <td>-10.392790</td>\n",
              "      <td>2522.0</td>\n",
              "      <td>0.0</td>\n",
              "      <td>-0.040301</td>\n",
              "      <td>-0.004104</td>\n",
              "    </tr>\n",
              "  </tbody>\n",
              "</table>\n",
              "</div>"
            ],
            "text/plain": [
              "     country     region  ... excess_deaths_per_100k excess_deaths_pct_change\n",
              "0  Australia  Australia  ...              -0.232249                -0.023306\n",
              "1  Australia  Australia  ...              -0.163096                -0.016397\n",
              "2  Australia  Australia  ...              -0.106868                -0.010835\n",
              "3  Australia  Australia  ...               0.287368                 0.029120\n",
              "4  Australia  Australia  ...              -0.040301                -0.004104\n",
              "\n",
              "[5 rows x 17 columns]"
            ]
          },
          "metadata": {},
          "execution_count": 6
        }
      ]
    },
    {
      "cell_type": "code",
      "metadata": {
        "colab": {
          "base_uri": "https://localhost:8080/"
        },
        "id": "X6f6Fn1mYwUG",
        "outputId": "ac6189ff-22eb-42be-de41-93914b38b70c"
      },
      "source": [
        "incol = ['days','year','week','population']\n",
        "outcol = ['total_deaths']\n",
        "X = df[incol]\n",
        "Y = df[outcol]\n",
        "x_train,x_test,y_train,y_test = train_test_split(X,Y,test_size = 0.3,random_state=42)\n",
        "lin = LinearRegression()\n",
        "sol = lin.fit(x_train, y_train)\n",
        "print(\"Score : \"+str(sol.score(x_train,y_train)))\n",
        "predict = sol.predict(x_test)\n",
        "print(\"ME : \"+str(np.sqrt(metrics.mean_squared_error(y_test,predict))))\n",
        "print(\"AE : \"+str(metrics.mean_absolute_error(y_test,predict)))\n",
        "print(\"RSS : \"+str(metrics.r2_score(y_test,predict)))\n"
      ],
      "execution_count": null,
      "outputs": [
        {
          "output_type": "stream",
          "name": "stdout",
          "text": [
            "Score : 0.9402672748601043\n",
            "ME : 1830.2154854059502\n",
            "AE : 779.006469837511\n",
            "RSS : 0.9430916613360467\n"
          ]
        }
      ]
    },
    {
      "cell_type": "code",
      "metadata": {
        "colab": {
          "base_uri": "https://localhost:8080/",
          "height": 282
        },
        "id": "SV6_DCcbb_Or",
        "outputId": "300f4386-096b-43d2-9c21-c8eaecfded19"
      },
      "source": [
        "xx = np.linspace(1,x_test.shape[0],x_test.shape[0])\n",
        "res = predict-y_test\n",
        "plt.scatter(xx,res)"
      ],
      "execution_count": null,
      "outputs": [
        {
          "output_type": "execute_result",
          "data": {
            "text/plain": [
              "<matplotlib.collections.PathCollection at 0x7f9a9f050450>"
            ]
          },
          "metadata": {},
          "execution_count": 32
        },
        {
          "output_type": "display_data",
          "data": {
            "image/png": "[encoded data removed]",
            "text/plain": [
              "<Figure size 432x288 with 1 Axes>"
            ]
          },
          "metadata": {
            "needs_background": "light"
          }
        }
      ]
    }
  ]
}