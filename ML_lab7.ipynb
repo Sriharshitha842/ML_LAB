{
  "nbformat": 4,
  "nbformat_minor": 0,
  "metadata": {
    "colab": {
      "name": "ML_lab7.ipynb",
      "provenance": [],
      "authorship_tag": "ABX9TyPeMg+OebPanSQqsg1BAEId",
      "include_colab_link": true
    },
    "kernelspec": {
      "name": "python3",
      "display_name": "Python 3"
    },
    "language_info": {
      "name": "python"
    }
  },
  "cells": [
    {
      "cell_type": "markdown",
      "metadata": {
        "id": "view-in-github",
        "colab_type": "text"
      },
      "source": [
        "<a href=\"https://colab.research.google.com/github/Sriharshitha842/ML_LAB/blob/main/ML_lab7.ipynb\" target=\"_parent\"><img src=\"https://colab.research.google.com/assets/colab-badge.svg\" alt=\"Open In Colab\"/></a>"
      ]
    },
    {
      "cell_type": "markdown",
      "metadata": {
        "id": "3VvHj4pguYl3"
      },
      "source": [
        "**NAME OF THE STUDENT : SRIHARSHITHA DEEPALA**\n",
        "\n",
        "**REGISTRATION NUMBER : 19BCD7246**\n",
        "\n",
        "**COURSE CODE : CSE3008**\n",
        "\n",
        "**LAB NUMBER : 07**"
      ]
    },
    {
      "cell_type": "markdown",
      "metadata": {
        "id": "BI8OaDlYu2-u"
      },
      "source": [
        "# **KNN Classification Algorithm**"
      ]
    },
    {
      "cell_type": "code",
      "metadata": {
        "id": "QVVuQgSclYs0"
      },
      "source": [
        "#importing essential libraries\n",
        "import pandas as pd\n",
        "import sklearn\n",
        "import numpy as np\n",
        "import matplotlib.pyplot as plt\n",
        "from sklearn.preprocessing import LabelEncoder\n",
        "from sklearn.model_selection import train_test_split\n",
        "from sklearn.preprocessing import StandardScaler\n",
        "from sklearn.neighbors import KNeighborsClassifier\n",
        "from sklearn.metrics import confusion_matrix,accuracy_score"
      ],
      "execution_count": 56,
      "outputs": []
    },
    {
      "cell_type": "code",
      "metadata": {
        "id": "oSSYDLjWoGln"
      },
      "source": [
        "#read the data set\n",
        "df = pd.read_csv(\"/content/sample_data/Social_Network_Ads.csv\")"
      ],
      "execution_count": 57,
      "outputs": []
    },
    {
      "cell_type": "code",
      "metadata": {
        "colab": {
          "base_uri": "https://localhost:8080/"
        },
        "id": "K0hRxUBroSJr",
        "outputId": "879cd4ed-01e8-49c0-b073-f46aef407b4c"
      },
      "source": [
        "print(df.head())"
      ],
      "execution_count": 58,
      "outputs": [
        {
          "output_type": "stream",
          "name": "stdout",
          "text": [
            "    User ID  Gender  Age  EstimatedSalary  Purchased\n",
            "0  15624510    Male   19            19000          0\n",
            "1  15810944    Male   35            20000          0\n",
            "2  15668575  Female   26            43000          0\n",
            "3  15603246  Female   27            57000          0\n",
            "4  15804002    Male   19            76000          0\n"
          ]
        }
      ]
    },
    {
      "cell_type": "code",
      "metadata": {
        "colab": {
          "base_uri": "https://localhost:8080/"
        },
        "id": "kW8I3xdQoXoL",
        "outputId": "48ccc591-c0a4-4532-df9e-b6b022fb03dd"
      },
      "source": [
        "print(df.describe())"
      ],
      "execution_count": 59,
      "outputs": [
        {
          "output_type": "stream",
          "name": "stdout",
          "text": [
            "            User ID         Age  EstimatedSalary   Purchased\n",
            "count  4.000000e+02  400.000000       400.000000  400.000000\n",
            "mean   1.569154e+07   37.655000     69742.500000    0.357500\n",
            "std    7.165832e+04   10.482877     34096.960282    0.479864\n",
            "min    1.556669e+07   18.000000     15000.000000    0.000000\n",
            "25%    1.562676e+07   29.750000     43000.000000    0.000000\n",
            "50%    1.569434e+07   37.000000     70000.000000    0.000000\n",
            "75%    1.575036e+07   46.000000     88000.000000    1.000000\n",
            "max    1.581524e+07   60.000000    150000.000000    1.000000\n"
          ]
        }
      ]
    },
    {
      "cell_type": "code",
      "metadata": {
        "colab": {
          "base_uri": "https://localhost:8080/"
        },
        "id": "r4qxW0Vdoc-X",
        "outputId": "673b7011-bfcf-498a-9cbe-7a8ae4c8e456"
      },
      "source": [
        "print(df.shape)"
      ],
      "execution_count": 60,
      "outputs": [
        {
          "output_type": "stream",
          "name": "stdout",
          "text": [
            "(400, 5)\n"
          ]
        }
      ]
    },
    {
      "cell_type": "code",
      "metadata": {
        "id": "ZZcFejJ0oija"
      },
      "source": [
        "#slicing the dataset into dependent and independent variables\n",
        "X = df.iloc[:, [1, 2, 3]].values\n",
        "Y = df.iloc[:,-1].values"
      ],
      "execution_count": 61,
      "outputs": []
    },
    {
      "cell_type": "code",
      "metadata": {
        "id": "byYwIoA5o4jw"
      },
      "source": [
        "lb = LabelEncoder()\n",
        "X[:,0] = lb.fit_transform(X[:,0])"
      ],
      "execution_count": 62,
      "outputs": []
    },
    {
      "cell_type": "code",
      "metadata": {
        "colab": {
          "base_uri": "https://localhost:8080/"
        },
        "id": "8gReANo4vDF8",
        "outputId": "d2f96c42-52e5-4ed9-d06e-60e601f38041"
      },
      "source": [
        "print(df.head())"
      ],
      "execution_count": 63,
      "outputs": [
        {
          "output_type": "stream",
          "name": "stdout",
          "text": [
            "    User ID  Gender  Age  EstimatedSalary  Purchased\n",
            "0  15624510    Male   19            19000          0\n",
            "1  15810944    Male   35            20000          0\n",
            "2  15668575  Female   26            43000          0\n",
            "3  15603246  Female   27            57000          0\n",
            "4  15804002    Male   19            76000          0\n"
          ]
        }
      ]
    },
    {
      "cell_type": "code",
      "metadata": {
        "id": "3mXNtk6jpKN5"
      },
      "source": [
        "#perform train test split on the given dataset\n",
        "X_train, X_test, Y_train, Y_test = train_test_split(X, Y, test_size = 0.2, random_state = 0) #20% test and 70% training"
      ],
      "execution_count": 64,
      "outputs": []
    },
    {
      "cell_type": "code",
      "metadata": {
        "id": "HpJsFy6ypn4W"
      },
      "source": [
        "#feature scaling of training and test set of independent variables for reducing the size to smaller values\n",
        "sc = StandardScaler()\n",
        "X_train = sc.fit_transform(X_train)\n",
        "X_test = sc.transform(X_test)"
      ],
      "execution_count": 65,
      "outputs": []
    },
    {
      "cell_type": "code",
      "metadata": {
        "colab": {
          "base_uri": "https://localhost:8080/"
        },
        "id": "Cj8z1RaxqF3q",
        "outputId": "95ffbf26-119f-431e-d3c5-18a9c523a871"
      },
      "source": [
        "clasifier = KNeighborsClassifier(n_neighbors=5, metric = 'minkowski', p=2)\n",
        "clasifier.fit(X_train, Y_train)"
      ],
      "execution_count": 66,
      "outputs": [
        {
          "output_type": "execute_result",
          "data": {
            "text/plain": [
              "KNeighborsClassifier(algorithm='auto', leaf_size=30, metric='minkowski',\n",
              "                     metric_params=None, n_jobs=None, n_neighbors=5, p=2,\n",
              "                     weights='uniform')"
            ]
          },
          "metadata": {},
          "execution_count": 66
        }
      ]
    },
    {
      "cell_type": "code",
      "metadata": {
        "id": "Yl17klHhqwwZ"
      },
      "source": [
        "Y_pred = clasifier.predict(X_test)"
      ],
      "execution_count": 67,
      "outputs": []
    },
    {
      "cell_type": "code",
      "metadata": {
        "colab": {
          "base_uri": "https://localhost:8080/"
        },
        "id": "YiiIESjmrDvn",
        "outputId": "da609378-d35b-46b3-b186-cd940c9d5a4a"
      },
      "source": [
        "#compare the true and predicted values\n",
        "print(Y_test)\n",
        "print(Y_pred)"
      ],
      "execution_count": 68,
      "outputs": [
        {
          "output_type": "stream",
          "name": "stdout",
          "text": [
            "[0 0 0 0 0 0 0 1 0 0 0 0 0 0 0 0 0 0 1 0 0 1 0 1 0 1 0 0 0 0 0 1 1 0 0 0 0\n",
            " 0 0 1 0 0 0 0 1 0 0 1 0 1 1 0 0 0 1 1 0 0 1 0 0 1 0 1 0 1 0 0 0 0 1 0 0 1\n",
            " 0 0 0 0 1 1]\n",
            "[0 0 0 0 0 0 0 1 0 1 0 0 0 0 0 1 0 0 1 0 0 1 0 1 0 1 0 0 0 0 0 0 1 0 0 0 0\n",
            " 0 0 1 0 0 0 0 1 0 0 1 0 1 1 0 0 1 1 1 0 0 1 0 0 1 0 1 0 1 0 0 0 0 1 0 0 1\n",
            " 0 0 0 0 1 1]\n"
          ]
        }
      ]
    },
    {
      "cell_type": "code",
      "metadata": {
        "id": "tR5HN9rMrTyT"
      },
      "source": [
        "confusion_mat = confusion_matrix(Y_test, Y_pred)\n",
        "acc = accuracy_score(Y_test,Y_pred)"
      ],
      "execution_count": 69,
      "outputs": []
    },
    {
      "cell_type": "code",
      "metadata": {
        "colab": {
          "base_uri": "https://localhost:8080/"
        },
        "id": "LPT-oRedrsOi",
        "outputId": "0c822a98-a220-493c-ce06-a75e7e03e56a"
      },
      "source": [
        "print(confusion_mat)"
      ],
      "execution_count": 70,
      "outputs": [
        {
          "output_type": "stream",
          "name": "stdout",
          "text": [
            "[[55  3]\n",
            " [ 1 21]]\n"
          ]
        }
      ]
    },
    {
      "cell_type": "code",
      "metadata": {
        "colab": {
          "base_uri": "https://localhost:8080/"
        },
        "id": "CdV0bZA0rx2D",
        "outputId": "b68d9ef1-5f74-401b-f566-53d75f714b38"
      },
      "source": [
        "print(acc)"
      ],
      "execution_count": 71,
      "outputs": [
        {
          "output_type": "stream",
          "name": "stdout",
          "text": [
            "0.95\n"
          ]
        }
      ]
    }
  ]
}