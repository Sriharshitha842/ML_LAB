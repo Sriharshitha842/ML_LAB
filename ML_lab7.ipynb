{
  "nbformat": 4,
  "nbformat_minor": 0,
  "metadata": {
    "colab": {
      "name": "ML_lab7.ipynb",
      "provenance": [],
      "authorship_tag": "ABX9TyP4ighvdYiMxRiXeIxwewZV",
      "include_colab_link": true
    },
    "kernelspec": {
      "name": "python3",
      "display_name": "Python 3"
    },
    "language_info": {
      "name": "python"
    }
  },
  "cells": [
    {
      "cell_type": "markdown",
      "metadata": {
        "id": "view-in-github",
        "colab_type": "text"
      },
      "source": [
        "<a href=\"https://colab.research.google.com/github/Sriharshitha842/ML_LAB/blob/main/ML_lab7.ipynb\" target=\"_parent\"><img src=\"https://colab.research.google.com/assets/colab-badge.svg\" alt=\"Open In Colab\"/></a>"
      ]
    },
    {
      "cell_type": "markdown",
      "metadata": {
        "id": "3VvHj4pguYl3"
      },
      "source": [
        "**NAME OF THE STUDENT : SRIHARSHITHA DEEPALA**\n",
        "\n",
        "**REGISTRATION NUMBER : 19BCD7246**\n",
        "\n",
        "**COURSE CODE : CSE3008**\n",
        "\n",
        "**LAB NUMBER : 07**"
      ]
    },
    {
      "cell_type": "markdown",
      "metadata": {
        "id": "BI8OaDlYu2-u"
      },
      "source": [
        "# **KNN Classification Algorithm**"
      ]
    },
    {
      "cell_type": "code",
      "metadata": {
        "id": "QVVuQgSclYs0"
      },
      "source": [
        "#Import necessary libraries\n",
        "import math\n",
        "from pprint import pprint\n",
        "from matplotlib import pyplot as plt\n",
        "import pandas as pd\n",
        "import numpy as np\n",
        "import warnings\n",
        "warnings.filterwarnings('ignore')"
      ],
      "execution_count": 59,
      "outputs": []
    },
    {
      "cell_type": "code",
      "metadata": {
        "id": "oSSYDLjWoGln",
        "colab": {
          "base_uri": "https://localhost:8080/",
          "height": 202
        },
        "outputId": "d82dccc3-d7c6-4ebe-ad4a-a96d0c76434d"
      },
      "source": [
        "#Load the dataset\n",
        "file_columns = ['sepal_len','sepal_width','petal_len','petal_width','class']\n",
        "data = pd.read_csv('/content/sample_data/Iris.csv',header=None, names=file_columns)\n",
        "data.head()"
      ],
      "execution_count": 61,
      "outputs": [
        {
          "output_type": "execute_result",
          "data": {
            "text/html": [
              "<div>\n",
              "<style scoped>\n",
              "    .dataframe tbody tr th:only-of-type {\n",
              "        vertical-align: middle;\n",
              "    }\n",
              "\n",
              "    .dataframe tbody tr th {\n",
              "        vertical-align: top;\n",
              "    }\n",
              "\n",
              "    .dataframe thead th {\n",
              "        text-align: right;\n",
              "    }\n",
              "</style>\n",
              "<table border=\"1\" class=\"dataframe\">\n",
              "  <thead>\n",
              "    <tr style=\"text-align: right;\">\n",
              "      <th></th>\n",
              "      <th>sepal_len</th>\n",
              "      <th>sepal_width</th>\n",
              "      <th>petal_len</th>\n",
              "      <th>petal_width</th>\n",
              "      <th>class</th>\n",
              "    </tr>\n",
              "  </thead>\n",
              "  <tbody>\n",
              "    <tr>\n",
              "      <th>0</th>\n",
              "      <td>5.1</td>\n",
              "      <td>3.5</td>\n",
              "      <td>1.4</td>\n",
              "      <td>0.2</td>\n",
              "      <td>Iris-setosa</td>\n",
              "    </tr>\n",
              "    <tr>\n",
              "      <th>1</th>\n",
              "      <td>4.9</td>\n",
              "      <td>3.0</td>\n",
              "      <td>1.4</td>\n",
              "      <td>0.2</td>\n",
              "      <td>Iris-setosa</td>\n",
              "    </tr>\n",
              "    <tr>\n",
              "      <th>2</th>\n",
              "      <td>4.7</td>\n",
              "      <td>3.2</td>\n",
              "      <td>1.3</td>\n",
              "      <td>0.2</td>\n",
              "      <td>Iris-setosa</td>\n",
              "    </tr>\n",
              "    <tr>\n",
              "      <th>3</th>\n",
              "      <td>4.6</td>\n",
              "      <td>3.1</td>\n",
              "      <td>1.5</td>\n",
              "      <td>0.2</td>\n",
              "      <td>Iris-setosa</td>\n",
              "    </tr>\n",
              "    <tr>\n",
              "      <th>4</th>\n",
              "      <td>5.0</td>\n",
              "      <td>3.6</td>\n",
              "      <td>1.4</td>\n",
              "      <td>0.2</td>\n",
              "      <td>Iris-setosa</td>\n",
              "    </tr>\n",
              "  </tbody>\n",
              "</table>\n",
              "</div>"
            ],
            "text/plain": [
              "   sepal_len  sepal_width  petal_len  petal_width        class\n",
              "0        5.1          3.5        1.4          0.2  Iris-setosa\n",
              "1        4.9          3.0        1.4          0.2  Iris-setosa\n",
              "2        4.7          3.2        1.3          0.2  Iris-setosa\n",
              "3        4.6          3.1        1.5          0.2  Iris-setosa\n",
              "4        5.0          3.6        1.4          0.2  Iris-setosa"
            ]
          },
          "metadata": {},
          "execution_count": 61
        }
      ]
    },
    {
      "cell_type": "code",
      "metadata": {
        "colab": {
          "base_uri": "https://localhost:8080/",
          "height": 202
        },
        "id": "K0hRxUBroSJr",
        "outputId": "0bc2446a-7045-457e-8f94-22a84e8e39a4"
      },
      "source": [
        "#Shuffle the data\n",
        "data = data.sample(frac=1).reset_index(drop=True)\n",
        "data['seq'] = data.index\n",
        "data.head()"
      ],
      "execution_count": 62,
      "outputs": [
        {
          "output_type": "execute_result",
          "data": {
            "text/html": [
              "<div>\n",
              "<style scoped>\n",
              "    .dataframe tbody tr th:only-of-type {\n",
              "        vertical-align: middle;\n",
              "    }\n",
              "\n",
              "    .dataframe tbody tr th {\n",
              "        vertical-align: top;\n",
              "    }\n",
              "\n",
              "    .dataframe thead th {\n",
              "        text-align: right;\n",
              "    }\n",
              "</style>\n",
              "<table border=\"1\" class=\"dataframe\">\n",
              "  <thead>\n",
              "    <tr style=\"text-align: right;\">\n",
              "      <th></th>\n",
              "      <th>sepal_len</th>\n",
              "      <th>sepal_width</th>\n",
              "      <th>petal_len</th>\n",
              "      <th>petal_width</th>\n",
              "      <th>class</th>\n",
              "      <th>seq</th>\n",
              "    </tr>\n",
              "  </thead>\n",
              "  <tbody>\n",
              "    <tr>\n",
              "      <th>0</th>\n",
              "      <td>4.9</td>\n",
              "      <td>3.1</td>\n",
              "      <td>1.5</td>\n",
              "      <td>0.1</td>\n",
              "      <td>Iris-setosa</td>\n",
              "      <td>0</td>\n",
              "    </tr>\n",
              "    <tr>\n",
              "      <th>1</th>\n",
              "      <td>6.2</td>\n",
              "      <td>3.4</td>\n",
              "      <td>5.4</td>\n",
              "      <td>2.3</td>\n",
              "      <td>Iris-virginica</td>\n",
              "      <td>1</td>\n",
              "    </tr>\n",
              "    <tr>\n",
              "      <th>2</th>\n",
              "      <td>6.3</td>\n",
              "      <td>3.3</td>\n",
              "      <td>6.0</td>\n",
              "      <td>2.5</td>\n",
              "      <td>Iris-virginica</td>\n",
              "      <td>2</td>\n",
              "    </tr>\n",
              "    <tr>\n",
              "      <th>3</th>\n",
              "      <td>6.8</td>\n",
              "      <td>2.8</td>\n",
              "      <td>4.8</td>\n",
              "      <td>1.4</td>\n",
              "      <td>Iris-versicolor</td>\n",
              "      <td>3</td>\n",
              "    </tr>\n",
              "    <tr>\n",
              "      <th>4</th>\n",
              "      <td>4.9</td>\n",
              "      <td>3.0</td>\n",
              "      <td>1.4</td>\n",
              "      <td>0.2</td>\n",
              "      <td>Iris-setosa</td>\n",
              "      <td>4</td>\n",
              "    </tr>\n",
              "  </tbody>\n",
              "</table>\n",
              "</div>"
            ],
            "text/plain": [
              "   sepal_len  sepal_width  petal_len  petal_width            class  seq\n",
              "0        4.9          3.1        1.5          0.1      Iris-setosa    0\n",
              "1        6.2          3.4        5.4          2.3   Iris-virginica    1\n",
              "2        6.3          3.3        6.0          2.5   Iris-virginica    2\n",
              "3        6.8          2.8        4.8          1.4  Iris-versicolor    3\n",
              "4        4.9          3.0        1.4          0.2      Iris-setosa    4"
            ]
          },
          "metadata": {},
          "execution_count": 62
        }
      ]
    },
    {
      "cell_type": "code",
      "metadata": {
        "id": "kW8I3xdQoXoL"
      },
      "source": [
        "#split dataset into train and test data\n",
        "dev_size = int(data.shape[0]*0.70)\n",
        "test_size = int(data.shape[0]*0.30)\n",
        "\n",
        "# Take first 70% of the data as dev set\n",
        "dev = data[:dev_size]\n",
        "\n",
        "# Take last 30% of the data as test set\n",
        "test = data[test_size:]"
      ],
      "execution_count": 63,
      "outputs": []
    },
    {
      "cell_type": "code",
      "metadata": {
        "id": "r4qxW0Vdoc-X"
      },
      "source": [
        "# Euclidean distance method\n",
        "def get_euclidean(row1, row2):\n",
        "    return math.sqrt(sum([(x1-x2)**2 for x1,x2 in zip(row1,row2)]))"
      ],
      "execution_count": 64,
      "outputs": []
    },
    {
      "cell_type": "code",
      "metadata": {
        "id": "ZZcFejJ0oija"
      },
      "source": [
        "#calculate distance between every point in the dataset and every other point\n",
        "dev2 = dev.values\n",
        "eud = []\n",
        "l = len(dev2)\n",
        "for i in range(l):\n",
        "    eu_distance = []\n",
        "    for j in range(l):\n",
        "        if(i!=j):\n",
        "            index = dev2[j][5]\n",
        "            ed = get_euclidean(dev2[i][:-2], dev2[j][:-2])\n",
        "            \n",
        "            eu_distance.append((ed, index))\n",
        "    eu_distance.sort(key= lambda x: x[0])\n",
        "    eu_distance = [i[1] for i in eu_distance]\n",
        "    eud.append(eu_distance)\n",
        "dev['euclidean'] = eud"
      ],
      "execution_count": 65,
      "outputs": []
    },
    {
      "cell_type": "code",
      "metadata": {
        "id": "byYwIoA5o4jw"
      },
      "source": [
        "#k closest neighbors are selected for every point in the dev set.\n",
        "def get_nearest(row, distance_measure,k):\n",
        "    return row[distance_measure][:k]"
      ],
      "execution_count": 66,
      "outputs": []
    },
    {
      "cell_type": "code",
      "metadata": {
        "id": "3mXNtk6jpKN5"
      },
      "source": [
        "#Among the K nearest neighbors, the dominant class is elected and the data point is classified to belong to this class.\n",
        "def get_dominant_class(df, neighbors):\n",
        "    classes = df[df['seq'].isin(neighbors)]['class']\n",
        "    return classes.value_counts().index[0]"
      ],
      "execution_count": 67,
      "outputs": []
    },
    {
      "cell_type": "code",
      "metadata": {
        "id": "HpJsFy6ypn4W"
      },
      "source": [
        "#Optimize K\n",
        "k = 1\n",
        "hyper_params = []\n",
        "acc = {1: {}, 3:{}, 5:{}, 7:{}}\n",
        "\n",
        "while k <= 7:\n",
        "    dev['eud_{}'.format(k)] = dev.apply(lambda x: get_nearest(x, 'euclidean',k), axis=1)\n",
        "    dev['eud_{}_class'.format(k)] = dev['eud_{}'.format(k)].apply(lambda row: get_dominant_class(dev, row))\n",
        "    hyper_params.append('eud_{}_class'.format(k))\n",
        "    acc[k]['eud'] = dev[dev['class']==dev['eud_{}_class'.format(k)]].shape[0]/dev.shape[0]\n",
        "    k+=2"
      ],
      "execution_count": 68,
      "outputs": []
    },
    {
      "cell_type": "code",
      "metadata": {
        "colab": {
          "base_uri": "https://localhost:8080/",
          "height": 202
        },
        "id": "Cj8z1RaxqF3q",
        "outputId": "54fbdc94-b7a8-47c8-cb41-19c0ce126cd3"
      },
      "source": [
        "#Observe various hyper parameters\n",
        "cols = ['class'] + hyper_params\n",
        "dev[cols].head()"
      ],
      "execution_count": 69,
      "outputs": [
        {
          "output_type": "execute_result",
          "data": {
            "text/html": [
              "<div>\n",
              "<style scoped>\n",
              "    .dataframe tbody tr th:only-of-type {\n",
              "        vertical-align: middle;\n",
              "    }\n",
              "\n",
              "    .dataframe tbody tr th {\n",
              "        vertical-align: top;\n",
              "    }\n",
              "\n",
              "    .dataframe thead th {\n",
              "        text-align: right;\n",
              "    }\n",
              "</style>\n",
              "<table border=\"1\" class=\"dataframe\">\n",
              "  <thead>\n",
              "    <tr style=\"text-align: right;\">\n",
              "      <th></th>\n",
              "      <th>class</th>\n",
              "      <th>eud_1_class</th>\n",
              "      <th>eud_3_class</th>\n",
              "      <th>eud_5_class</th>\n",
              "      <th>eud_7_class</th>\n",
              "    </tr>\n",
              "  </thead>\n",
              "  <tbody>\n",
              "    <tr>\n",
              "      <th>0</th>\n",
              "      <td>Iris-setosa</td>\n",
              "      <td>Iris-setosa</td>\n",
              "      <td>Iris-setosa</td>\n",
              "      <td>Iris-setosa</td>\n",
              "      <td>Iris-setosa</td>\n",
              "    </tr>\n",
              "    <tr>\n",
              "      <th>1</th>\n",
              "      <td>Iris-virginica</td>\n",
              "      <td>Iris-virginica</td>\n",
              "      <td>Iris-virginica</td>\n",
              "      <td>Iris-virginica</td>\n",
              "      <td>Iris-virginica</td>\n",
              "    </tr>\n",
              "    <tr>\n",
              "      <th>2</th>\n",
              "      <td>Iris-virginica</td>\n",
              "      <td>Iris-virginica</td>\n",
              "      <td>Iris-virginica</td>\n",
              "      <td>Iris-virginica</td>\n",
              "      <td>Iris-virginica</td>\n",
              "    </tr>\n",
              "    <tr>\n",
              "      <th>3</th>\n",
              "      <td>Iris-versicolor</td>\n",
              "      <td>Iris-versicolor</td>\n",
              "      <td>Iris-versicolor</td>\n",
              "      <td>Iris-versicolor</td>\n",
              "      <td>Iris-versicolor</td>\n",
              "    </tr>\n",
              "    <tr>\n",
              "      <th>4</th>\n",
              "      <td>Iris-setosa</td>\n",
              "      <td>Iris-setosa</td>\n",
              "      <td>Iris-setosa</td>\n",
              "      <td>Iris-setosa</td>\n",
              "      <td>Iris-setosa</td>\n",
              "    </tr>\n",
              "  </tbody>\n",
              "</table>\n",
              "</div>"
            ],
            "text/plain": [
              "             class      eud_1_class  ...      eud_5_class      eud_7_class\n",
              "0      Iris-setosa      Iris-setosa  ...      Iris-setosa      Iris-setosa\n",
              "1   Iris-virginica   Iris-virginica  ...   Iris-virginica   Iris-virginica\n",
              "2   Iris-virginica   Iris-virginica  ...   Iris-virginica   Iris-virginica\n",
              "3  Iris-versicolor  Iris-versicolor  ...  Iris-versicolor  Iris-versicolor\n",
              "4      Iris-setosa      Iris-setosa  ...      Iris-setosa      Iris-setosa\n",
              "\n",
              "[5 rows x 5 columns]"
            ]
          },
          "metadata": {},
          "execution_count": 69
        }
      ]
    },
    {
      "cell_type": "code",
      "metadata": {
        "id": "Yl17klHhqwwZ",
        "colab": {
          "base_uri": "https://localhost:8080/"
        },
        "outputId": "18a5170e-75ad-4d62-a463-52109aa9c4fc"
      },
      "source": [
        "pprint(acc)"
      ],
      "execution_count": 70,
      "outputs": [
        {
          "output_type": "stream",
          "name": "stdout",
          "text": [
            "{1: {'eud': 0.9428571428571428},\n",
            " 3: {'eud': 0.9523809523809523},\n",
            " 5: {'eud': 0.9619047619047619},\n",
            " 7: {'eud': 0.9619047619047619}}\n"
          ]
        }
      ]
    },
    {
      "cell_type": "code",
      "metadata": {
        "id": "YiiIESjmrDvn"
      },
      "source": [
        "#Calculate euclidean distance between every point in the test dataset \n",
        "#with every point in the dev set and pick 3 nearest neighbors\n",
        "test['seq'] = test.index\n",
        "test2 = test.values\n",
        "test_eud = []\n",
        "l = len(test)\n",
        "for i in range(l):\n",
        "    test_eu_distance = []\n",
        "    for j in range(len(dev)):\n",
        "        index = dev2[j][5]\n",
        "        ed = get_euclidean(test2[i][:-2], dev2[j][:-2])\n",
        "        test_eu_distance.append((ed, index))\n",
        "        \n",
        "    test_eu_distance.sort(key= lambda x: x[0])\n",
        "    test_eu_distance = [i[1] for i in test_eu_distance]\n",
        "    test_eud.append(test_eu_distance)\n",
        "    \n",
        "test['euclidean'] = test_eud"
      ],
      "execution_count": 71,
      "outputs": []
    },
    {
      "cell_type": "code",
      "metadata": {
        "colab": {
          "base_uri": "https://localhost:8080/",
          "height": 202
        },
        "id": "TpT5o0223Lbr",
        "outputId": "b97e8883-9357-4988-a786-f713ca27b8f1"
      },
      "source": [
        "#Since we obtained 3 as optimal value for the hyperparameter k, \n",
        "#we find 3 nearest neighbors between every point in the test set\n",
        "# and every point in the dev set using Euclidean Distance\n",
        "test['eu'] = test.apply(lambda x: get_nearest(x, 'euclidean',3), axis=1)\n",
        "test[file_columns+['eu']].head()"
      ],
      "execution_count": 72,
      "outputs": [
        {
          "output_type": "execute_result",
          "data": {
            "text/html": [
              "<div>\n",
              "<style scoped>\n",
              "    .dataframe tbody tr th:only-of-type {\n",
              "        vertical-align: middle;\n",
              "    }\n",
              "\n",
              "    .dataframe tbody tr th {\n",
              "        vertical-align: top;\n",
              "    }\n",
              "\n",
              "    .dataframe thead th {\n",
              "        text-align: right;\n",
              "    }\n",
              "</style>\n",
              "<table border=\"1\" class=\"dataframe\">\n",
              "  <thead>\n",
              "    <tr style=\"text-align: right;\">\n",
              "      <th></th>\n",
              "      <th>sepal_len</th>\n",
              "      <th>sepal_width</th>\n",
              "      <th>petal_len</th>\n",
              "      <th>petal_width</th>\n",
              "      <th>class</th>\n",
              "      <th>eu</th>\n",
              "    </tr>\n",
              "  </thead>\n",
              "  <tbody>\n",
              "    <tr>\n",
              "      <th>45</th>\n",
              "      <td>4.7</td>\n",
              "      <td>3.2</td>\n",
              "      <td>1.6</td>\n",
              "      <td>0.2</td>\n",
              "      <td>Iris-setosa</td>\n",
              "      <td>[45, 71, 48]</td>\n",
              "    </tr>\n",
              "    <tr>\n",
              "      <th>46</th>\n",
              "      <td>5.1</td>\n",
              "      <td>3.8</td>\n",
              "      <td>1.9</td>\n",
              "      <td>0.4</td>\n",
              "      <td>Iris-setosa</td>\n",
              "      <td>[46, 31, 26]</td>\n",
              "    </tr>\n",
              "    <tr>\n",
              "      <th>47</th>\n",
              "      <td>5.4</td>\n",
              "      <td>3.4</td>\n",
              "      <td>1.7</td>\n",
              "      <td>0.2</td>\n",
              "      <td>Iris-setosa</td>\n",
              "      <td>[47, 60, 62]</td>\n",
              "    </tr>\n",
              "    <tr>\n",
              "      <th>48</th>\n",
              "      <td>4.8</td>\n",
              "      <td>3.4</td>\n",
              "      <td>1.6</td>\n",
              "      <td>0.2</td>\n",
              "      <td>Iris-setosa</td>\n",
              "      <td>[48, 45, 89]</td>\n",
              "    </tr>\n",
              "    <tr>\n",
              "      <th>49</th>\n",
              "      <td>5.8</td>\n",
              "      <td>4.0</td>\n",
              "      <td>1.2</td>\n",
              "      <td>0.2</td>\n",
              "      <td>Iris-setosa</td>\n",
              "      <td>[49, 12, 81]</td>\n",
              "    </tr>\n",
              "  </tbody>\n",
              "</table>\n",
              "</div>"
            ],
            "text/plain": [
              "    sepal_len  sepal_width  petal_len  petal_width        class            eu\n",
              "45        4.7          3.2        1.6          0.2  Iris-setosa  [45, 71, 48]\n",
              "46        5.1          3.8        1.9          0.4  Iris-setosa  [46, 31, 26]\n",
              "47        5.4          3.4        1.7          0.2  Iris-setosa  [47, 60, 62]\n",
              "48        4.8          3.4        1.6          0.2  Iris-setosa  [48, 45, 89]\n",
              "49        5.8          4.0        1.2          0.2  Iris-setosa  [49, 12, 81]"
            ]
          },
          "metadata": {},
          "execution_count": 72
        }
      ]
    },
    {
      "cell_type": "code",
      "metadata": {
        "id": "tR5HN9rMrTyT",
        "colab": {
          "base_uri": "https://localhost:8080/",
          "height": 202
        },
        "outputId": "c4a8ad59-a3d1-4672-afff-32afe85403b9"
      },
      "source": [
        "#Pick the most dominant class among 3 nearest neighbors\n",
        "test['eu_class'] = test['eu'].apply(lambda row: get_dominant_class(dev, row))\n",
        "test[file_columns+['eu_class']].head()"
      ],
      "execution_count": 73,
      "outputs": [
        {
          "output_type": "execute_result",
          "data": {
            "text/html": [
              "<div>\n",
              "<style scoped>\n",
              "    .dataframe tbody tr th:only-of-type {\n",
              "        vertical-align: middle;\n",
              "    }\n",
              "\n",
              "    .dataframe tbody tr th {\n",
              "        vertical-align: top;\n",
              "    }\n",
              "\n",
              "    .dataframe thead th {\n",
              "        text-align: right;\n",
              "    }\n",
              "</style>\n",
              "<table border=\"1\" class=\"dataframe\">\n",
              "  <thead>\n",
              "    <tr style=\"text-align: right;\">\n",
              "      <th></th>\n",
              "      <th>sepal_len</th>\n",
              "      <th>sepal_width</th>\n",
              "      <th>petal_len</th>\n",
              "      <th>petal_width</th>\n",
              "      <th>class</th>\n",
              "      <th>eu_class</th>\n",
              "    </tr>\n",
              "  </thead>\n",
              "  <tbody>\n",
              "    <tr>\n",
              "      <th>45</th>\n",
              "      <td>4.7</td>\n",
              "      <td>3.2</td>\n",
              "      <td>1.6</td>\n",
              "      <td>0.2</td>\n",
              "      <td>Iris-setosa</td>\n",
              "      <td>Iris-setosa</td>\n",
              "    </tr>\n",
              "    <tr>\n",
              "      <th>46</th>\n",
              "      <td>5.1</td>\n",
              "      <td>3.8</td>\n",
              "      <td>1.9</td>\n",
              "      <td>0.4</td>\n",
              "      <td>Iris-setosa</td>\n",
              "      <td>Iris-setosa</td>\n",
              "    </tr>\n",
              "    <tr>\n",
              "      <th>47</th>\n",
              "      <td>5.4</td>\n",
              "      <td>3.4</td>\n",
              "      <td>1.7</td>\n",
              "      <td>0.2</td>\n",
              "      <td>Iris-setosa</td>\n",
              "      <td>Iris-setosa</td>\n",
              "    </tr>\n",
              "    <tr>\n",
              "      <th>48</th>\n",
              "      <td>4.8</td>\n",
              "      <td>3.4</td>\n",
              "      <td>1.6</td>\n",
              "      <td>0.2</td>\n",
              "      <td>Iris-setosa</td>\n",
              "      <td>Iris-setosa</td>\n",
              "    </tr>\n",
              "    <tr>\n",
              "      <th>49</th>\n",
              "      <td>5.8</td>\n",
              "      <td>4.0</td>\n",
              "      <td>1.2</td>\n",
              "      <td>0.2</td>\n",
              "      <td>Iris-setosa</td>\n",
              "      <td>Iris-setosa</td>\n",
              "    </tr>\n",
              "  </tbody>\n",
              "</table>\n",
              "</div>"
            ],
            "text/plain": [
              "    sepal_len  sepal_width  petal_len  petal_width        class     eu_class\n",
              "45        4.7          3.2        1.6          0.2  Iris-setosa  Iris-setosa\n",
              "46        5.1          3.8        1.9          0.4  Iris-setosa  Iris-setosa\n",
              "47        5.4          3.4        1.7          0.2  Iris-setosa  Iris-setosa\n",
              "48        4.8          3.4        1.6          0.2  Iris-setosa  Iris-setosa\n",
              "49        5.8          4.0        1.2          0.2  Iris-setosa  Iris-setosa"
            ]
          },
          "metadata": {},
          "execution_count": 73
        }
      ]
    },
    {
      "cell_type": "code",
      "metadata": {
        "id": "LPT-oRedrsOi"
      },
      "source": [
        "y_test=test[\"class\"].tolist()"
      ],
      "execution_count": 74,
      "outputs": []
    },
    {
      "cell_type": "code",
      "metadata": {
        "id": "IzYywsIh7gFL"
      },
      "source": [
        "y_pred=test[\"eu_class\"].tolist()"
      ],
      "execution_count": 75,
      "outputs": []
    },
    {
      "cell_type": "code",
      "metadata": {
        "colab": {
          "base_uri": "https://localhost:8080/"
        },
        "id": "y1jdDM567hnK",
        "outputId": "e759aaae-2201-41bd-d24d-a31cbf479999"
      },
      "source": [
        "# Accuracy, Confusion Matrix, Classification report of KNN classifier\n",
        "from sklearn.metrics import classification_report, confusion_matrix,accuracy_score\n",
        "print(confusion_matrix(y_test, y_pred))\n",
        "print(\"Accuracy:\",accuracy_score(y_test,y_pred)*100)\n",
        "print(classification_report(y_test, y_pred))"
      ],
      "execution_count": 76,
      "outputs": [
        {
          "output_type": "stream",
          "name": "stdout",
          "text": [
            "[[40  0  0]\n",
            " [ 0 31  3]\n",
            " [ 0  1 30]]\n",
            "Accuracy: 96.19047619047619\n",
            "                 precision    recall  f1-score   support\n",
            "\n",
            "    Iris-setosa       1.00      1.00      1.00        40\n",
            "Iris-versicolor       0.97      0.91      0.94        34\n",
            " Iris-virginica       0.91      0.97      0.94        31\n",
            "\n",
            "       accuracy                           0.96       105\n",
            "      macro avg       0.96      0.96      0.96       105\n",
            "   weighted avg       0.96      0.96      0.96       105\n",
            "\n"
          ]
        }
      ]
    },
    {
      "cell_type": "markdown",
      "metadata": {
        "id": "5Jbayn7w8YMh"
      },
      "source": [
        "# **Weighted KNN Algorithm**"
      ]
    },
    {
      "cell_type": "code",
      "metadata": {
        "id": "JNS2-_meQuRs"
      },
      "source": [
        "import pandas as pd\n",
        "import matplotlib.pyplot as plt\n",
        "import matplotlib.colors\n",
        "import matplotlib.lines as mlines\n",
        "import numpy as np\n",
        "from sklearn.neighbors import KNeighborsClassifier\n",
        "from sklearn import preprocessing, metrics\n",
        "from sklearn.metrics import confusion_matrix\n",
        "from sklearn.model_selection import train_test_split\n",
        "plt.style.use('ggplot')"
      ],
      "execution_count": 77,
      "outputs": []
    },
    {
      "cell_type": "code",
      "metadata": {
        "id": "Ni3X0aF8RM2N"
      },
      "source": [
        "df = pd.read_csv('/content/sample_data/default_data.csv')\n",
        "df = df.drop(columns=['Index'])"
      ],
      "execution_count": 79,
      "outputs": []
    },
    {
      "cell_type": "markdown",
      "metadata": {
        "id": "ynMjW8hORckF"
      },
      "source": [
        "DATA EXPLORATION"
      ]
    },
    {
      "cell_type": "code",
      "metadata": {
        "colab": {
          "base_uri": "https://localhost:8080/"
        },
        "id": "7ZQK2D1XRYit",
        "outputId": "00cf200b-f439-4969-d0e2-48c69088c348"
      },
      "source": [
        "#no.of defaults\n",
        "df['Defaulted?'].value_counts()"
      ],
      "execution_count": 80,
      "outputs": [
        {
          "output_type": "execute_result",
          "data": {
            "text/plain": [
              "0    9667\n",
              "1     333\n",
              "Name: Defaulted?, dtype: int64"
            ]
          },
          "metadata": {},
          "execution_count": 80
        }
      ]
    },
    {
      "cell_type": "code",
      "metadata": {
        "colab": {
          "base_uri": "https://localhost:8080/",
          "height": 294
        },
        "id": "pOdgxwEuRi9p",
        "outputId": "3bace421-1e9e-4d4c-d424-7fd66fbbed54"
      },
      "source": [
        "#Non-default descriptive statistics\n",
        "df[df['Defaulted?']==0].describe()\n"
      ],
      "execution_count": 81,
      "outputs": [
        {
          "output_type": "execute_result",
          "data": {
            "text/html": [
              "<div>\n",
              "<style scoped>\n",
              "    .dataframe tbody tr th:only-of-type {\n",
              "        vertical-align: middle;\n",
              "    }\n",
              "\n",
              "    .dataframe tbody tr th {\n",
              "        vertical-align: top;\n",
              "    }\n",
              "\n",
              "    .dataframe thead th {\n",
              "        text-align: right;\n",
              "    }\n",
              "</style>\n",
              "<table border=\"1\" class=\"dataframe\">\n",
              "  <thead>\n",
              "    <tr style=\"text-align: right;\">\n",
              "      <th></th>\n",
              "      <th>Employed</th>\n",
              "      <th>Bank Balance</th>\n",
              "      <th>Annual Salary</th>\n",
              "      <th>Defaulted?</th>\n",
              "    </tr>\n",
              "  </thead>\n",
              "  <tbody>\n",
              "    <tr>\n",
              "      <th>count</th>\n",
              "      <td>9667.000000</td>\n",
              "      <td>9667.000000</td>\n",
              "      <td>9667.000000</td>\n",
              "      <td>9667.0</td>\n",
              "    </tr>\n",
              "    <tr>\n",
              "      <th>mean</th>\n",
              "      <td>0.708596</td>\n",
              "      <td>9647.324961</td>\n",
              "      <td>402793.999321</td>\n",
              "      <td>0.0</td>\n",
              "    </tr>\n",
              "    <tr>\n",
              "      <th>std</th>\n",
              "      <td>0.454433</td>\n",
              "      <td>5477.714672</td>\n",
              "      <td>159819.015334</td>\n",
              "      <td>0.0</td>\n",
              "    </tr>\n",
              "    <tr>\n",
              "      <th>min</th>\n",
              "      <td>0.000000</td>\n",
              "      <td>0.000000</td>\n",
              "      <td>9263.640000</td>\n",
              "      <td>0.0</td>\n",
              "    </tr>\n",
              "    <tr>\n",
              "      <th>25%</th>\n",
              "      <td>0.000000</td>\n",
              "      <td>5588.580000</td>\n",
              "      <td>256860.720000</td>\n",
              "      <td>0.0</td>\n",
              "    </tr>\n",
              "    <tr>\n",
              "      <th>50%</th>\n",
              "      <td>1.000000</td>\n",
              "      <td>9634.320000</td>\n",
              "      <td>415073.880000</td>\n",
              "      <td>0.0</td>\n",
              "    </tr>\n",
              "    <tr>\n",
              "      <th>75%</th>\n",
              "      <td>1.000000</td>\n",
              "      <td>13539.000000</td>\n",
              "      <td>525885.060000</td>\n",
              "      <td>0.0</td>\n",
              "    </tr>\n",
              "    <tr>\n",
              "      <th>max</th>\n",
              "      <td>1.000000</td>\n",
              "      <td>28692.120000</td>\n",
              "      <td>882650.760000</td>\n",
              "      <td>0.0</td>\n",
              "    </tr>\n",
              "  </tbody>\n",
              "</table>\n",
              "</div>"
            ],
            "text/plain": [
              "          Employed  Bank Balance  Annual Salary  Defaulted?\n",
              "count  9667.000000   9667.000000    9667.000000      9667.0\n",
              "mean      0.708596   9647.324961  402793.999321         0.0\n",
              "std       0.454433   5477.714672  159819.015334         0.0\n",
              "min       0.000000      0.000000    9263.640000         0.0\n",
              "25%       0.000000   5588.580000  256860.720000         0.0\n",
              "50%       1.000000   9634.320000  415073.880000         0.0\n",
              "75%       1.000000  13539.000000  525885.060000         0.0\n",
              "max       1.000000  28692.120000  882650.760000         0.0"
            ]
          },
          "metadata": {},
          "execution_count": 81
        }
      ]
    },
    {
      "cell_type": "code",
      "metadata": {
        "colab": {
          "base_uri": "https://localhost:8080/",
          "height": 294
        },
        "id": "UKwzsKihRyqh",
        "outputId": "99e451a4-2c09-4483-cd76-4388ff762c7c"
      },
      "source": [
        "#descriptive default statistics\n",
        "df[df['Defaulted?']==1].describe()\n"
      ],
      "execution_count": 82,
      "outputs": [
        {
          "output_type": "execute_result",
          "data": {
            "text/html": [
              "<div>\n",
              "<style scoped>\n",
              "    .dataframe tbody tr th:only-of-type {\n",
              "        vertical-align: middle;\n",
              "    }\n",
              "\n",
              "    .dataframe tbody tr th {\n",
              "        vertical-align: top;\n",
              "    }\n",
              "\n",
              "    .dataframe thead th {\n",
              "        text-align: right;\n",
              "    }\n",
              "</style>\n",
              "<table border=\"1\" class=\"dataframe\">\n",
              "  <thead>\n",
              "    <tr style=\"text-align: right;\">\n",
              "      <th></th>\n",
              "      <th>Employed</th>\n",
              "      <th>Bank Balance</th>\n",
              "      <th>Annual Salary</th>\n",
              "      <th>Defaulted?</th>\n",
              "    </tr>\n",
              "  </thead>\n",
              "  <tbody>\n",
              "    <tr>\n",
              "      <th>count</th>\n",
              "      <td>333.000000</td>\n",
              "      <td>333.000000</td>\n",
              "      <td>333.000000</td>\n",
              "      <td>333.0</td>\n",
              "    </tr>\n",
              "    <tr>\n",
              "      <th>mean</th>\n",
              "      <td>0.618619</td>\n",
              "      <td>20973.858378</td>\n",
              "      <td>385069.762162</td>\n",
              "      <td>1.0</td>\n",
              "    </tr>\n",
              "    <tr>\n",
              "      <th>std</th>\n",
              "      <td>0.486457</td>\n",
              "      <td>4095.198311</td>\n",
              "      <td>165650.649999</td>\n",
              "      <td>0.0</td>\n",
              "    </tr>\n",
              "    <tr>\n",
              "      <th>min</th>\n",
              "      <td>0.000000</td>\n",
              "      <td>7828.800000</td>\n",
              "      <td>115965.480000</td>\n",
              "      <td>1.0</td>\n",
              "    </tr>\n",
              "    <tr>\n",
              "      <th>25%</th>\n",
              "      <td>0.000000</td>\n",
              "      <td>18139.320000</td>\n",
              "      <td>228330.120000</td>\n",
              "      <td>1.0</td>\n",
              "    </tr>\n",
              "    <tr>\n",
              "      <th>50%</th>\n",
              "      <td>1.000000</td>\n",
              "      <td>21469.080000</td>\n",
              "      <td>378184.080000</td>\n",
              "      <td>1.0</td>\n",
              "    </tr>\n",
              "    <tr>\n",
              "      <th>75%</th>\n",
              "      <td>1.000000</td>\n",
              "      <td>23866.440000</td>\n",
              "      <td>516807.960000</td>\n",
              "      <td>1.0</td>\n",
              "    </tr>\n",
              "    <tr>\n",
              "      <th>max</th>\n",
              "      <td>1.000000</td>\n",
              "      <td>31851.840000</td>\n",
              "      <td>797597.520000</td>\n",
              "      <td>1.0</td>\n",
              "    </tr>\n",
              "  </tbody>\n",
              "</table>\n",
              "</div>"
            ],
            "text/plain": [
              "         Employed  Bank Balance  Annual Salary  Defaulted?\n",
              "count  333.000000    333.000000     333.000000       333.0\n",
              "mean     0.618619  20973.858378  385069.762162         1.0\n",
              "std      0.486457   4095.198311  165650.649999         0.0\n",
              "min      0.000000   7828.800000  115965.480000         1.0\n",
              "25%      0.000000  18139.320000  228330.120000         1.0\n",
              "50%      1.000000  21469.080000  378184.080000         1.0\n",
              "75%      1.000000  23866.440000  516807.960000         1.0\n",
              "max      1.000000  31851.840000  797597.520000         1.0"
            ]
          },
          "metadata": {},
          "execution_count": 82
        }
      ]
    },
    {
      "cell_type": "code",
      "metadata": {
        "id": "1uujfi2rR8uI"
      },
      "source": [
        "#visualization\n",
        "df_sample = df.sample(300)"
      ],
      "execution_count": 83,
      "outputs": []
    },
    {
      "cell_type": "code",
      "metadata": {
        "id": "o-u0gT1ZSGOS"
      },
      "source": [
        "bal = df_sample['Bank Balance'].to_numpy()\n",
        "sal = df_sample['Annual Salary'].to_numpy()\n",
        "emp = df_sample['Employed'].to_numpy()\n",
        "deflt = df_sample['Defaulted?'].to_numpy()"
      ],
      "execution_count": 84,
      "outputs": []
    },
    {
      "cell_type": "code",
      "metadata": {
        "colab": {
          "base_uri": "https://localhost:8080/",
          "height": 411
        },
        "id": "ZBn9Fyt_SLFg",
        "outputId": "e6ba30f6-78d8-47d6-a055-644f666a4164"
      },
      "source": [
        "colors = ['green' if i == 0 else 'red' for i in deflt]\n",
        "markers = ['v' if i == 0 else '^' for i in emp]\n",
        "\n",
        "green_triangle = mlines.Line2D([], [], color='green', marker='^', linestyle='None', markersize=10, label='Employed, no default')\n",
        "red_triangle = mlines.Line2D([], [], color='red', marker='^', linestyle='None', markersize=10, label='Employed, default')\n",
        "green_ups_triangle = mlines.Line2D([], [], color='green', marker='v', linestyle='None', markersize=10, label='Unemployed, no default')\n",
        "red_ups_triangle = mlines.Line2D([], [], color='red', marker='v', linestyle='None', markersize=10, label='Unemployed, default')\n",
        "\n",
        "plt.figure(figsize=(10,6))\n",
        "for x, y, c, m in zip(bal, sal, colors, markers):\n",
        "    plt.scatter(x, y, c=c, marker=m)\n",
        "plt.title('Loan Default Data')\n",
        "plt.xlabel('Bank Balance')\n",
        "plt.ylabel('Annual Salary')\n",
        "plt.legend(handles=[green_triangle, red_triangle, green_ups_triangle, red_ups_triangle], bbox_to_anchor=(1.35, 1), loc='best')\n",
        "plt.show()"
      ],
      "execution_count": 85,
      "outputs": [
        {
          "output_type": "display_data",
          "data": {
            "image/png": "[encoded data removed]",
            "text/plain": [
              "<Figure size 720x432 with 1 Axes>"
            ]
          },
          "metadata": {}
        }
      ]
    },
    {
      "cell_type": "markdown",
      "metadata": {
        "id": "ukbRKVOZST35"
      },
      "source": [
        "MODEL"
      ]
    },
    {
      "cell_type": "code",
      "metadata": {
        "id": "ggT1H5ZwSRt5"
      },
      "source": [
        "#Split the dataset\n",
        "X = df.drop(['Defaulted?'], axis = 1)\n",
        "y = df['Defaulted?']\n",
        "X = preprocessing.StandardScaler().fit(X).transform(X.astype(float))"
      ],
      "execution_count": 87,
      "outputs": []
    },
    {
      "cell_type": "code",
      "metadata": {
        "id": "8AYCwd7dSfNh"
      },
      "source": [
        "X_train, X_test, y_train, y_test = train_test_split(X, y, test_size=0.2, random_state=4)"
      ],
      "execution_count": 88,
      "outputs": []
    },
    {
      "cell_type": "code",
      "metadata": {
        "colab": {
          "base_uri": "https://localhost:8080/"
        },
        "id": "-fj80FX_SjHq",
        "outputId": "68bdc2d4-6cbe-4375-c615-f23ffa48c024"
      },
      "source": [
        "print(X_train.shape)\n",
        "print(X_test.shape)\n",
        "print(y_train.shape)\n",
        "print(y_test.shape)"
      ],
      "execution_count": 89,
      "outputs": [
        {
          "output_type": "stream",
          "name": "stdout",
          "text": [
            "(8000, 3)\n",
            "(2000, 3)\n",
            "(8000,)\n",
            "(2000,)\n"
          ]
        }
      ]
    },
    {
      "cell_type": "code",
      "metadata": {
        "colab": {
          "base_uri": "https://localhost:8080/"
        },
        "id": "8U6gdYhpSmBv",
        "outputId": "2ee00bea-0036-4480-b40d-5c4e1880b388"
      },
      "source": [
        "#Fit the model\n",
        "k = 29\n",
        "neigh = KNeighborsClassifier(n_neighbors = k, weights='distance').fit(X_train,y_train)\n",
        "pred_y = neigh.predict(X_test)\n",
        "print(\"Accuracy of model at K =\",k,\" is\",metrics.accuracy_score(y_test, pred_y))"
      ],
      "execution_count": 104,
      "outputs": [
        {
          "output_type": "stream",
          "name": "stdout",
          "text": [
            "Accuracy of model at K = 29  is 0.973\n"
          ]
        }
      ]
    },
    {
      "cell_type": "code",
      "metadata": {
        "colab": {
          "base_uri": "https://localhost:8080/"
        },
        "id": "FSDw0sVdSuZb",
        "outputId": "52f3cea8-5246-4b76-8d08-4039e124cbde"
      },
      "source": [
        "confusion_matrix(y_test, pred_y)"
      ],
      "execution_count": 105,
      "outputs": [
        {
          "output_type": "execute_result",
          "data": {
            "text/plain": [
              "array([[1922,    9],\n",
              "       [  45,   24]])"
            ]
          },
          "metadata": {},
          "execution_count": 105
        }
      ]
    },
    {
      "cell_type": "code",
      "metadata": {
        "colab": {
          "base_uri": "https://localhost:8080/",
          "height": 428
        },
        "id": "-WvgXd4bSyvu",
        "outputId": "92775ed2-26c5-4541-ae4b-699aa0384d6c"
      },
      "source": [
        "#best value for k\n",
        "error_rate = []\n",
        "for i in range(1,40):\n",
        "    knn = KNeighborsClassifier(n_neighbors=i, weights='distance')\n",
        "    knn.fit(X_train,y_train)\n",
        "    pred_i = knn.predict(X_test)\n",
        "    error_rate.append(np.mean(pred_i != y_test))\n",
        "\n",
        "plt.figure(figsize=(10,6))\n",
        "plt.plot(range(1,40),error_rate,color='blue', linestyle='dashed', \n",
        "         marker='o',markerfacecolor='red', markersize=10)\n",
        "plt.title('Error Rate vs. K Value')\n",
        "plt.xlabel('K')\n",
        "plt.ylabel('Error Rate')\n",
        "print(\"Minimum error:\",min(error_rate),\"at K =\",error_rate.index(min(error_rate)))"
      ],
      "execution_count": 106,
      "outputs": [
        {
          "output_type": "stream",
          "name": "stdout",
          "text": [
            "Minimum error: 0.0265 at K = 29\n"
          ]
        },
        {
          "output_type": "display_data",
          "data": {
            "image/png": "[encoded data removed]",
            "text/plain": [
              "<Figure size 720x432 with 1 Axes>"
            ]
          },
          "metadata": {}
        }
      ]
    },
    {
      "cell_type": "code",
      "metadata": {
        "colab": {
          "base_uri": "https://localhost:8080/",
          "height": 428
        },
        "id": "3gl7LenCTIaD",
        "outputId": "a5cc5774-98b0-4f7e-fc6e-35d20b3c1fe3"
      },
      "source": [
        "acc = []\n",
        "for i in range(1,40):\n",
        "    neigh = KNeighborsClassifier(n_neighbors = i, weights='distance').fit(X_train,y_train)\n",
        "    yhat = neigh.predict(X_test)\n",
        "    acc.append(metrics.accuracy_score(y_test, yhat))\n",
        "    \n",
        "plt.figure(figsize=(10,6))\n",
        "plt.plot(range(1,40),acc,color = 'blue',linestyle='dashed', \n",
        "         marker='o',markerfacecolor='red', markersize=10)\n",
        "plt.title('accuracy vs. K Value')\n",
        "plt.xlabel('K')\n",
        "plt.ylabel('Accuracy')\n",
        "print(\"Maximum accuracy:\",max(acc),\"at K =\",acc.index(max(acc)))"
      ],
      "execution_count": 107,
      "outputs": [
        {
          "output_type": "stream",
          "name": "stdout",
          "text": [
            "Maximum accuracy: 0.9735 at K = 29\n"
          ]
        },
        {
          "output_type": "display_data",
          "data": {
            "image/png": "[encoded data removed]",
            "text/plain": [
              "<Figure size 720x432 with 1 Axes>"
            ]
          },
          "metadata": {}
        }
      ]
    }
  ]
}