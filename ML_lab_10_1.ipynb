{
  "nbformat": 4,
  "nbformat_minor": 0,
  "metadata": {
    "colab": {
      "name": "ML_lab_10.ipynb",
      "provenance": [],
      "authorship_tag": "ABX9TyO4VjHdGqqbjaOA0PbQdrqW",
      "include_colab_link": true
    },
    "kernelspec": {
      "name": "python3",
      "display_name": "Python 3"
    },
    "language_info": {
      "name": "python"
    }
  },
  "cells": [
    {
      "cell_type": "markdown",
      "metadata": {
        "id": "view-in-github",
        "colab_type": "text"
      },
      "source": [
        "<a href=\"https://colab.research.google.com/github/Sriharshitha842/ML_LAB/blob/main/ML_lab_10_1.ipynb\" target=\"_parent\"><img src=\"https://colab.research.google.com/assets/colab-badge.svg\" alt=\"Open In Colab\"/></a>"
      ]
    },
    {
      "cell_type": "code",
      "metadata": {
        "id": "BgeSUUXeW81B"
      },
      "source": [
        "import numpy as np\n",
        "import pandas as pd\n",
        "import matplotlib.pyplot as plt\n",
        "import matplotlib\n",
        "from sklearn.utils import shuffle\n",
        "from sklearn.preprocessing import LabelEncoder\n",
        "from sklearn import preprocessing\n",
        "from termcolor import colored, cprint\n",
        "%matplotlib inline"
      ],
      "execution_count": 77,
      "outputs": []
    },
    {
      "cell_type": "code",
      "metadata": {
        "id": "piCcJrLKAfD-"
      },
      "source": [
        "testdata = pd.read_csv('/content/sample_data/test.csv')\n",
        "traindata = pd.read_csv('/content/sample_data/train.csv')"
      ],
      "execution_count": 78,
      "outputs": []
    },
    {
      "cell_type": "code",
      "metadata": {
        "colab": {
          "base_uri": "https://localhost:8080/"
        },
        "id": "E1pYwIn3Ak0q",
        "outputId": "93cd6031-d9dc-4acc-eaa4-4942735d6ef3"
      },
      "source": [
        "print(testdata)"
      ],
      "execution_count": 79,
      "outputs": [
        {
          "output_type": "stream",
          "name": "stdout",
          "text": [
            "      tBodyAcc-mean()-X  tBodyAcc-mean()-Y  ...  subject          Activity\n",
            "0              0.257178          -0.023285  ...        2          STANDING\n",
            "1              0.286027          -0.013163  ...        2          STANDING\n",
            "2              0.275485          -0.026050  ...        2          STANDING\n",
            "3              0.270298          -0.032614  ...        2          STANDING\n",
            "4              0.274833          -0.027848  ...        2          STANDING\n",
            "...                 ...                ...  ...      ...               ...\n",
            "2942           0.310155          -0.053391  ...       24  WALKING_UPSTAIRS\n",
            "2943           0.363385          -0.039214  ...       24  WALKING_UPSTAIRS\n",
            "2944           0.349966           0.030077  ...       24  WALKING_UPSTAIRS\n",
            "2945           0.237594           0.018467  ...       24  WALKING_UPSTAIRS\n",
            "2946           0.153627          -0.018437  ...       24  WALKING_UPSTAIRS\n",
            "\n",
            "[2947 rows x 563 columns]\n"
          ]
        }
      ]
    },
    {
      "cell_type": "code",
      "metadata": {
        "colab": {
          "base_uri": "https://localhost:8080/"
        },
        "id": "jTcwvG-9AoEe",
        "outputId": "00dc377c-0399-402e-9c95-180341141574"
      },
      "source": [
        "print(traindata)"
      ],
      "execution_count": 80,
      "outputs": [
        {
          "output_type": "stream",
          "name": "stdout",
          "text": [
            "      tBodyAcc-mean()-X  tBodyAcc-mean()-Y  ...  subject          Activity\n",
            "0              0.288585          -0.020294  ...        1          STANDING\n",
            "1              0.278419          -0.016411  ...        1          STANDING\n",
            "2              0.279653          -0.019467  ...        1          STANDING\n",
            "3              0.279174          -0.026201  ...        1          STANDING\n",
            "4              0.276629          -0.016570  ...        1          STANDING\n",
            "...                 ...                ...  ...      ...               ...\n",
            "7347           0.299665          -0.057193  ...       30  WALKING_UPSTAIRS\n",
            "7348           0.273853          -0.007749  ...       30  WALKING_UPSTAIRS\n",
            "7349           0.273387          -0.017011  ...       30  WALKING_UPSTAIRS\n",
            "7350           0.289654          -0.018843  ...       30  WALKING_UPSTAIRS\n",
            "7351           0.351503          -0.012423  ...       30  WALKING_UPSTAIRS\n",
            "\n",
            "[7352 rows x 563 columns]\n"
          ]
        }
      ]
    },
    {
      "cell_type": "code",
      "metadata": {
        "id": "Zw51GxaCoWf8"
      },
      "source": [
        "def predict(w,b,x,y):\n",
        "    pred = np.dot(x,w)+b\n",
        "    n = x.shape[0]\n",
        "    pred[pred>0] = 1\n",
        "    pred[pred<0] = -1\n",
        "    t = np.sum(pred == y)\n",
        "    acc = t/n\n",
        "    return acc*100"
      ],
      "execution_count": 81,
      "outputs": []
    },
    {
      "cell_type": "code",
      "metadata": {
        "id": "Wjww1w02onsx"
      },
      "source": [
        "def train_svm(x,y,lr,lambd,epochs = 100): \n",
        "    n = x.shape[0]\n",
        "    w = np.zeros([len(x[0]),1])\n",
        "    loss_ar = []\n",
        "    b = 0\n",
        "    acc_ar = []\n",
        "    acc_ar.append(0)\n",
        "    for epoch in range(epochs):\n",
        "        dw = np.zeros(w.shape)\n",
        "        z = np.maximum(0,1-y*(np.dot(x,w)+b))\n",
        "        loss = np.sum(z) + lambd*np.sum(w*w)/2\n",
        "        loss_ar.append(loss)\n",
        "        dw = lambd*w - 1/n *(np.sum((x*y),axis = 0).reshape(-1,1))\n",
        "        q = x*y\n",
        "        for i in range(n):\n",
        "            if(z[i] == 0):\n",
        "                q[i][:] = 0\n",
        "        dw = lambd*w - (np.sum(q,axis = 0).reshape(-1,1))/n\n",
        "        w = w - lr * dw\n",
        "        acc = predict(w,b,x,y)\n",
        "        acc_ar.append(acc)\n",
        "        b = lr*np.sum(y - np.dot(x,w))/n\n",
        "        if(loss<1):\n",
        "            cprint(\"epoch {}, loss = {}, accuracy = {}.\\nTerminating due to reaching threshold of loss < 1\".format(epoch+1,loss,acc), 'blue',attrs=['bold'])\n",
        "            return w,b,loss_ar,acc_ar\n",
        "        if(acc>99):\n",
        "            cprint(\"epoch {}, loss = {}, accuracy = {}.\\nTerminating due to reaching threshold of train accuracy > 99\".format(epoch+1,loss,acc), 'blue',attrs=['bold'])\n",
        "            return w,b,loss_ar,acc_ar\n",
        "        if(not epoch):\n",
        "            print(\"epoch {}, loss = {}, accuracy = {}.\".format(epoch,loss,acc))\n",
        "        elif(epoch <101):\n",
        "            if(epoch%99 == 0):\n",
        "                print(\"epoch {}, loss = {}, accuracy = {}.\".format(epoch+1,loss,acc))\n",
        "        elif(epoch%499 ==0):\n",
        "            print(\"epoch {}, loss = {}, accuracy = {}.\".format(epoch+1,loss,acc))\n",
        "        \n",
        "    return w,b,loss_ar,acc_ar"
      ],
      "execution_count": 82,
      "outputs": []
    },
    {
      "cell_type": "code",
      "metadata": {
        "id": "wZwq7S8botfF"
      },
      "source": [
        "def train_multi_svm(train_set,test_set,y_train,y_test):\n",
        "    accuracy = []\n",
        "    arr = len(np.unique(y_test))\n",
        "    loss_t = []\n",
        "    parameters = {}\n",
        "    cprint(\"Found {} unique labels. Training {} Support vector machines\".format(arr,arr),attrs=['bold'])\n",
        "    for i in range(len(np.unique(y_test))):         #one vs all method(6 different labels are there hence 6 SVM)\n",
        "        y = y_train.copy()\n",
        "        y[y != i] = -1\n",
        "        y[y == i] = 1\n",
        "        y = y.reshape(-1,1)\n",
        "        yt = y_test.copy()    #yt = labels for test data \n",
        "        yt[yt != i] = -1\n",
        "        yt[yt == i] = 1\n",
        "        yt = yt.reshape(-1,1)\n",
        "        cprint(\"training SVM {} of 6\".format(i+1), attrs=['bold'])\n",
        "        w,b,loss,acc = train_svm(train_set.to_numpy(),y,0.01,0.1,1000)  \n",
        "        cprint(\"Test set accuracy = {}\".format(predict(w,b,test_set,yt)), attrs=['bold'])\n",
        "        parameters[i] = {}\n",
        "        parameters[i][\"accuracy\"] = acc\n",
        "        parameters[i][\"test_accuracy\"] = predict(w,b,test_set,yt)\n",
        "        parameters[i][\"loss\"] = loss\n",
        "        parameters[i][\"w\"] = w\n",
        "        parameters[i][\"b\"] = b\n",
        "    return parameters"
      ],
      "execution_count": 83,
      "outputs": []
    },
    {
      "cell_type": "code",
      "metadata": {
        "id": "r9l4xVteo9cw"
      },
      "source": [
        "le = LabelEncoder()\n",
        "le.fit(['WALKING_UPSTAIRS', 'SITTING', 'LAYING', 'WALKING_DOWNSTAIRS', 'WALKING', 'STANDING'])\n",
        "\n",
        "y_train = traindata[\"Activity\"]\n",
        "y_train = le.fit_transform(y_train)\n",
        "\n",
        "y_test = testdata[\"Activity\"]\n",
        "y_test = le.fit_transform(y_test)\n",
        "\n",
        "traindata = traindata.drop([\"Activity\"],axis = 1)\n",
        "train_set = traindata.drop([\"subject\"],axis = 1)\n",
        "testdata = testdata.drop([\"Activity\"],axis = 1)\n",
        "test_set = testdata.drop([\"subject\"],axis =1)"
      ],
      "execution_count": 84,
      "outputs": []
    },
    {
      "cell_type": "code",
      "metadata": {
        "colab": {
          "base_uri": "https://localhost:8080/"
        },
        "id": "4x6jj2Gcox7y",
        "outputId": "92f2502d-d51e-4070-8bef-5717126c44e5"
      },
      "source": [
        "parameters = train_multi_svm(train_set,test_set,y_train,y_test)"
      ],
      "execution_count": 85,
      "outputs": [
        {
          "output_type": "stream",
          "name": "stdout",
          "text": [
            "\u001b[1mFound 6 unique labels. Training 6 Support vector machines\u001b[0m\n",
            "\u001b[1mtraining SVM 1 of 6\u001b[0m\n",
            "epoch 0, loss = 7352.0, accuracy = 80.83514689880305.\n",
            "\u001b[1m\u001b[34mepoch 33, loss = 1867.8084593498118, accuracy = 99.10228509249184.\n",
            "Terminating due to reaching threshold of train accuracy > 99\u001b[0m\n",
            "\u001b[1mTest set accuracy = 98.30335934848999\u001b[0m\n",
            "\u001b[1mtraining SVM 2 of 6\u001b[0m\n",
            "epoch 0, loss = 7352.0, accuracy = 82.48095756256801.\n",
            "epoch 100, loss = 2372.0724933633783, accuracy = 82.50816104461371.\n",
            "epoch 500, loss = 1858.0507856110503, accuracy = 89.89390642002176.\n",
            "epoch 999, loss = 1564.1127232960614, accuracy = 91.879760609358.\n",
            "\u001b[1mTest set accuracy = 92.26331862911435\u001b[0m\n",
            "\u001b[1mtraining SVM 3 of 6\u001b[0m\n",
            "epoch 0, loss = 7352.0, accuracy = 81.28400435255713.\n",
            "epoch 100, loss = 2294.1519861998036, accuracy = 81.40642002176278.\n",
            "epoch 500, loss = 1441.5690709544076, accuracy = 93.37595212187159.\n",
            "epoch 999, loss = 1294.915580367408, accuracy = 93.93362350380848.\n",
            "\u001b[1mTest set accuracy = 93.79029521547336\u001b[0m\n",
            "\u001b[1mtraining SVM 4 of 6\u001b[0m\n",
            "epoch 0, loss = 7352.0, accuracy = 83.21545157780196.\n",
            "epoch 100, loss = 1919.032285849828, accuracy = 83.69151251360174.\n",
            "epoch 500, loss = 830.0434427024235, accuracy = 97.95973884657236.\n",
            "epoch 999, loss = 620.0189416512067, accuracy = 98.65342763873775.\n",
            "\u001b[1mTest set accuracy = 99.01594842212418\u001b[0m\n",
            "\u001b[1mtraining SVM 5 of 6\u001b[0m\n",
            "epoch 0, loss = 7352.0, accuracy = 86.6974972796518.\n",
            "epoch 100, loss = 1293.549899121559, accuracy = 92.45103373231774.\n",
            "epoch 500, loss = 639.5368272793993, accuracy = 97.74211099020674.\n",
            "epoch 999, loss = 532.3975025703899, accuracy = 98.21817192600652.\n",
            "\u001b[1mTest set accuracy = 96.09772650152698\u001b[0m\n",
            "\u001b[1mtraining SVM 6 of 6\u001b[0m\n",
            "epoch 0, loss = 7352.0, accuracy = 85.32372143634385.\n",
            "epoch 100, loss = 1770.0845614792431, accuracy = 86.18063112078346.\n",
            "epoch 500, loss = 1064.5316474749761, accuracy = 95.25299238302503.\n",
            "epoch 999, loss = 849.7242683099629, accuracy = 96.84439608269858.\n",
            "\u001b[1mTest set accuracy = 94.57074991516797\u001b[0m\n"
          ]
        }
      ]
    },
    {
      "cell_type": "code",
      "metadata": {
        "colab": {
          "base_uri": "https://localhost:8080/"
        },
        "id": "Ut35gQc82JU1",
        "outputId": "3448930b-fa0e-4560-e04d-5f51dd986f33"
      },
      "source": [
        "print(parameters.keys())\n",
        "print(parameters[0].keys())"
      ],
      "execution_count": 86,
      "outputs": [
        {
          "output_type": "stream",
          "name": "stdout",
          "text": [
            "dict_keys([0, 1, 2, 3, 4, 5])\n",
            "dict_keys(['accuracy', 'test_accuracy', 'loss', 'w', 'b'])\n"
          ]
        }
      ]
    },
    {
      "cell_type": "code",
      "metadata": {
        "id": "IgLB-EH42KLr",
        "colab": {
          "base_uri": "https://localhost:8080/",
          "height": 551
        },
        "outputId": "22d0c537-1c43-4d5c-a42d-d456da5e20eb"
      },
      "source": [
        "avg = 0\n",
        "fig, axes = plt.subplots(1, 1, figsize=(15,7))\n",
        "for i in range(6):\n",
        "    print(\"SVM {} accuracy = {}\".format(i,parameters[i][\"test_accuracy\"]))\n",
        "    avg =avg + parameters[i][\"test_accuracy\"]\n",
        "    axes.plot(parameters[i][\"loss\"])\n",
        "axes.legend(le.inverse_transform([0,1,2,3,4,5]))\n",
        "cprint(\"Average accuracy = {}\".format(avg/6),'blue',attrs=['bold'])"
      ],
      "execution_count": 88,
      "outputs": [
        {
          "output_type": "stream",
          "name": "stdout",
          "text": [
            "SVM 0 accuracy = 98.30335934848999\n",
            "SVM 1 accuracy = 92.26331862911435\n",
            "SVM 2 accuracy = 93.79029521547336\n",
            "SVM 3 accuracy = 99.01594842212418\n",
            "SVM 4 accuracy = 96.09772650152698\n",
            "SVM 5 accuracy = 94.57074991516797\n",
            "\u001b[1m\u001b[34mAverage accuracy = 95.67356633864948\u001b[0m\n"
          ]
        },
        {
          "output_type": "display_data",
          "data": {
            "image/png": "[encoded data removed]",
            "text/plain": [
              "<Figure size 1080x504 with 1 Axes>"
            ]
          },
          "metadata": {
            "needs_background": "light"
          }
        }
      ]
    }
  ]
}