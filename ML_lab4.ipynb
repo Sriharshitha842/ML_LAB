{
  "nbformat": 4,
  "nbformat_minor": 0,
  "metadata": {
    "colab": {
      "name": "ML_lab4.ipynb",
      "provenance": [],
      "authorship_tag": "ABX9TyOPPhWfBGoKkFxnouQFjDNy",
      "include_colab_link": true
    },
    "kernelspec": {
      "name": "python3",
      "display_name": "Python 3"
    },
    "language_info": {
      "name": "python"
    }
  },
  "cells": [
    {
      "cell_type": "markdown",
      "metadata": {
        "id": "view-in-github",
        "colab_type": "text"
      },
      "source": [
        "<a href=\"https://colab.research.google.com/github/Sriharshitha842/ML_LAB/blob/main/ML_lab4.ipynb\" target=\"_parent\"><img src=\"https://colab.research.google.com/assets/colab-badge.svg\" alt=\"Open In Colab\"/></a>"
      ]
    },
    {
      "cell_type": "markdown",
      "metadata": {
        "id": "n8NC6X7KILqY"
      },
      "source": [
        "**NAME OF THE STUDENT : SRIHARSHITHA DEEPALA**\n",
        "\n",
        "**REG NO : 19BCD7246**\n",
        "\n",
        "**COURSE CODE : CSE3008**\n",
        "\n",
        "**LAB NO : 05**"
      ]
    },
    {
      "cell_type": "markdown",
      "metadata": {
        "id": "Kq25tLR6IdeO"
      },
      "source": [
        "# **UNIVARIATE LINEAR REGRESSION**"
      ]
    },
    {
      "cell_type": "code",
      "metadata": {
        "id": "Q2xoetkgGHmx"
      },
      "source": [
        "import pandas\n",
        "import math\n",
        "import matplotlib.pyplot as plt\n",
        "from sklearn import linear_model as lm\n",
        "from scipy import stats as sp"
      ],
      "execution_count": null,
      "outputs": []
    },
    {
      "cell_type": "code",
      "metadata": {
        "id": "N-rySmh0Imug"
      },
      "source": [
        "def import_data():\n",
        "    # import the data into a pandas dataframe\n",
        "    data = pandas.read_csv('/content/sample_data/housing.csv')\n",
        "\n",
        "    # set x to the chirps per second column\n",
        "    x = data[['total_rooms']]\n",
        "\n",
        "    # set y to the temperature column\n",
        "    y = data['population']\n",
        "\n",
        "    return x, y"
      ],
      "execution_count": null,
      "outputs": []
    },
    {
      "cell_type": "code",
      "metadata": {
        "id": "2cFE9qrOI6V3"
      },
      "source": [
        "def plot_data(intercept, coefficient):\n",
        "    # graph original data as a scatter-plot\n",
        "    plt.scatter(x, y)\n",
        "\n",
        "    # set axis labels\n",
        "    plt.xlabel('Total Rooms')\n",
        "    plt.ylabel('Population')\n",
        "\n",
        "    # get min and max values\n",
        "    x_min = math.floor(x.min())\n",
        "    x_max = math.ceil(x.max()) + 1\n",
        "\n",
        "    # get y values for best fit line\n",
        "    best_fit_line = [coefficient * i + intercept for i in range(x_min, x_max)]\n",
        "\n",
        "    # plot the original x values and the best fit y values\n",
        "    plt.plot(range(x_min, x_max), best_fit_line, 'r')\n",
        "    plt.show()"
      ],
      "execution_count": null,
      "outputs": []
    },
    {
      "cell_type": "code",
      "metadata": {
        "id": "-fn3AU-_JQ--"
      },
      "source": [
        "def print_results():\n",
        "    # print r^2 score\n",
        "    print(\"R^2: \" + r2_score.__str__())\n",
        "\n",
        "    # print coefficient\n",
        "    print(\"Coefficient: \" + coefficient[0].__str__())\n",
        "\n",
        "    # print intercept\n",
        "    print(\"Intercept: \" + intercept.__str__())\n",
        "\n",
        "    # print correlation oefficient\n",
        "    print(\"Correlation Coefficient: \" + cor_coef.__str__())\n",
        "\n",
        "    # print p-value\n",
        "    print(\"P-value: \" + p_value.__str__())"
      ],
      "execution_count": null,
      "outputs": []
    },
    {
      "cell_type": "code",
      "metadata": {
        "colab": {
          "base_uri": "https://localhost:8080/",
          "height": 363
        },
        "id": "kviLGZFJJbWo",
        "outputId": "4e1244c9-7f72-4ce7-ece7-4117ed6fe819"
      },
      "source": [
        "if __name__ == '__main__':\n",
        "\n",
        "    # get x and y dataframes\n",
        "    x, y = import_data()\n",
        "\n",
        "    # create our linear regression model\n",
        "    classifier = lm.LinearRegression()\n",
        "\n",
        "    # fit our model\n",
        "    results = classifier.fit(x, y)\n",
        "\n",
        "    # store coefficient\n",
        "    coefficient = results.coef_\n",
        "\n",
        "    # store intercept\n",
        "    intercept = results.intercept_\n",
        "\n",
        "    # get r^2 score\n",
        "    r2_score = classifier.score(x, y)\n",
        "\n",
        "    # get pearson correlation coefficient and p_value\n",
        "    cor_coef, p_value = get_pearson_stats(x, y)\n",
        "\n",
        "    # Plot the data and best fit line\n",
        "    plot_data(intercept, coefficient)\n",
        "\n",
        "    print_results()"
      ],
      "execution_count": null,
      "outputs": [
        {
          "output_type": "display_data",
          "data": {
            "image/png": "[encoded data removed]",
            "text/plain": [
              "<Figure size 432x288 with 1 Axes>"
            ]
          },
          "metadata": {
            "needs_background": "light"
          }
        },
        {
          "output_type": "stream",
          "name": "stdout",
          "text": [
            "R^2: 0.7036972167984379\n",
            "Coefficient: 0.4010441707367788\n",
            "Intercept: 360.2527960283121\n",
            "Correlation Coefficient: 0.8388666263467857\n",
            "P-value: 0.0\n"
          ]
        }
      ]
    }
  ]
}