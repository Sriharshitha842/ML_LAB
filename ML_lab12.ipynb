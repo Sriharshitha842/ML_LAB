{
  "nbformat": 4,
  "nbformat_minor": 0,
  "metadata": {
    "colab": {
      "name": "ML_lab12.ipynb",
      "provenance": [],
      "include_colab_link": true
    },
    "kernelspec": {
      "name": "python3",
      "display_name": "Python 3"
    },
    "language_info": {
      "name": "python"
    }
  },
  "cells": [
    {
      "cell_type": "markdown",
      "metadata": {
        "id": "view-in-github",
        "colab_type": "text"
      },
      "source": [
        "<a href=\"https://colab.research.google.com/github/Sriharshitha842/ML_LAB/blob/main/ML_lab12.ipynb\" target=\"_parent\"><img src=\"https://colab.research.google.com/assets/colab-badge.svg\" alt=\"Open In Colab\"/></a>"
      ]
    },
    {
      "cell_type": "markdown",
      "metadata": {
        "id": "VsJHLU6yJfQ1"
      },
      "source": [
        "**NAME OF THE STUDENT : SRIHARSHITHA D**\n",
        "\n",
        "**REGISTRATION NUMBER : 19BCD7246**\n",
        "\n",
        "**COURSE CODE : CSE3008**\n",
        "\n",
        "**LAB NUMBER : 12**"
      ]
    },
    {
      "cell_type": "markdown",
      "metadata": {
        "id": "XMH27AWoJvit"
      },
      "source": [
        "## **IMAGE CLASSIFICATION USING ANN**"
      ]
    },
    {
      "cell_type": "code",
      "metadata": {
        "id": "zjAnT8eyDTxF"
      },
      "source": [
        "import warnings\n",
        "warnings.filterwarnings('ignore')\n",
        "import tensorflow as tf\n",
        "import numpy as np\n",
        "import pandas as pd\n",
        "import matplotlib.pyplot as plt\n",
        "import itertools\n",
        "from tensorflow.keras.datasets import fashion_mnist\n",
        "from sklearn.metrics import confusion_matrix, accuracy_score"
      ],
      "execution_count": 1,
      "outputs": []
    },
    {
      "cell_type": "code",
      "metadata": {
        "colab": {
          "base_uri": "https://localhost:8080/"
        },
        "id": "nPgEkND-DcoY",
        "outputId": "fc889653-9934-4714-9a1b-fe2d8d2fe189"
      },
      "source": [
        "print(f\"Tensorflow Version: {tf.__version__}\")"
      ],
      "execution_count": 2,
      "outputs": [
        {
          "output_type": "stream",
          "name": "stdout",
          "text": [
            "Tensorflow Version: 2.7.0\n"
          ]
        }
      ]
    },
    {
      "cell_type": "code",
      "metadata": {
        "id": "FkczTWffDf2s",
        "outputId": "6b575afb-635a-4ea1-f7e3-154c4d965897",
        "colab": {
          "base_uri": "https://localhost:8080/"
        }
      },
      "source": [
        "# load the datasets from fashion_mnist into training and testing datasets\n",
        "(x_train, y_train),(x_test, y_test) = fashion_mnist.load_data()"
      ],
      "execution_count": 3,
      "outputs": [
        {
          "output_type": "stream",
          "name": "stdout",
          "text": [
            "Downloading data from https://storage.googleapis.com/tensorflow/tf-keras-datasets/train-labels-idx1-ubyte.gz\n",
            "32768/29515 [=================================] - 0s 0us/step\n",
            "40960/29515 [=========================================] - 0s 0us/step\n",
            "Downloading data from https://storage.googleapis.com/tensorflow/tf-keras-datasets/train-images-idx3-ubyte.gz\n",
            "26427392/26421880 [==============================] - 0s 0us/step\n",
            "26435584/26421880 [==============================] - 0s 0us/step\n",
            "Downloading data from https://storage.googleapis.com/tensorflow/tf-keras-datasets/t10k-labels-idx1-ubyte.gz\n",
            "16384/5148 [===============================================================================================] - 0s 0us/step\n",
            "Downloading data from https://storage.googleapis.com/tensorflow/tf-keras-datasets/t10k-images-idx3-ubyte.gz\n",
            "4423680/4422102 [==============================] - 0s 0us/step\n",
            "4431872/4422102 [==============================] - 0s 0us/step\n"
          ]
        }
      ]
    },
    {
      "cell_type": "code",
      "metadata": {
        "colab": {
          "base_uri": "https://localhost:8080/"
        },
        "id": "8OHU58gwDkaT",
        "outputId": "2f0b3065-54c9-4069-c1ae-787343c8a39d"
      },
      "source": [
        "print(f\"x_train shape: {x_train.shape}\")\n",
        "print(f\"y_train shape: {y_train.shape}\")\n",
        "print(f\"x_test shape:  {x_test.shape}\")\n",
        "print(f\"y_test shape:  {y_test.shape}\")"
      ],
      "execution_count": 4,
      "outputs": [
        {
          "output_type": "stream",
          "name": "stdout",
          "text": [
            "x_train shape: (60000, 28, 28)\n",
            "y_train shape: (60000,)\n",
            "x_test shape:  (10000, 28, 28)\n",
            "y_test shape:  (10000,)\n"
          ]
        }
      ]
    },
    {
      "cell_type": "code",
      "metadata": {
        "colab": {
          "base_uri": "https://localhost:8080/"
        },
        "id": "ecmI634zDoNy",
        "outputId": "5e057abd-9b81-4870-e99e-ed280262a2ef"
      },
      "source": [
        "# see the maximum, minimum, and mean values in x_train\n",
        "print(f\"x_train Max Value:  {np.max(x_train)}\")\n",
        "print(f\"x_train Min Value:  {np.min(x_train)}\")\n",
        "print(f\"x_train Mean Value: {np.mean(x_train):.1f}\")"
      ],
      "execution_count": 5,
      "outputs": [
        {
          "output_type": "stream",
          "name": "stdout",
          "text": [
            "x_train Max Value:  255\n",
            "x_train Min Value:  0\n",
            "x_train Mean Value: 72.9\n"
          ]
        }
      ]
    },
    {
      "cell_type": "code",
      "metadata": {
        "colab": {
          "base_uri": "https://localhost:8080/"
        },
        "id": "6jVkL1SPDzEv",
        "outputId": "842d0365-4ed3-4d5e-8567-2b6699678323"
      },
      "source": [
        "# see the maximum and minimum values in y_train\n",
        "print(f\"y_train Max Value:  {np.max(y_train)}\")\n",
        "print(f\"y_train Min Value:  {np.min(y_train)}\")"
      ],
      "execution_count": 6,
      "outputs": [
        {
          "output_type": "stream",
          "name": "stdout",
          "text": [
            "y_train Max Value:  9\n",
            "y_train Min Value:  0\n"
          ]
        }
      ]
    },
    {
      "cell_type": "code",
      "metadata": {
        "id": "hCcqClWVEPNr"
      },
      "source": [
        "# define the classes as a list\n",
        "class_names = ['0 Top/T-Shirt', '1 Trouser', '2 Pullover', '3 Dress', '4 Coat',\n",
        "               '5 Sandal', '6 Shirt', '7 Sneaker', '8 Bag', '9 Ankle boot']"
      ],
      "execution_count": 7,
      "outputs": []
    },
    {
      "cell_type": "markdown",
      "metadata": {
        "id": "4vbZ5ZIGD64a"
      },
      "source": [
        "**Data Exploration**"
      ]
    },
    {
      "cell_type": "code",
      "metadata": {
        "colab": {
          "base_uri": "https://localhost:8080/",
          "height": 265
        },
        "id": "hBAC6R56D5T2",
        "outputId": "bb305101-12ef-479e-e501-52291fbcaa5e"
      },
      "source": [
        "#first image in x_train\n",
        "plt.figure()\n",
        "plt.imshow(x_train[0])\n",
        "plt.colorbar()\n",
        "plt.show()"
      ],
      "execution_count": 8,
      "outputs": [
        {
          "output_type": "display_data",
          "data": {
            "image/png": "[encoded data removed]",
            "text/plain": [
              "<Figure size 432x288 with 2 Axes>"
            ]
          },
          "metadata": {
            "needs_background": "light"
          }
        }
      ]
    },
    {
      "cell_type": "code",
      "metadata": {
        "colab": {
          "base_uri": "https://localhost:8080/"
        },
        "id": "oKZrkkO7EDBL",
        "outputId": "c8aded84-0cb6-484b-b61a-e52be3483ee5"
      },
      "source": [
        "# show the label for the first image in x_train\n",
        "print(f\"x_train[0] = {class_names[y_train[0]]}\")"
      ],
      "execution_count": 9,
      "outputs": [
        {
          "output_type": "stream",
          "name": "stdout",
          "text": [
            "x_train[0] = 9 Ankle boot\n"
          ]
        }
      ]
    },
    {
      "cell_type": "markdown",
      "metadata": {
        "id": "zGv46MLVET9w"
      },
      "source": [
        "**Normalize the dataset**"
      ]
    },
    {
      "cell_type": "code",
      "metadata": {
        "id": "sJTUFgy1ESUZ"
      },
      "source": [
        "# this helps the neural network learn faster\n",
        "x_train = x_train / 255.0\n",
        "x_test = x_test / 255.0"
      ],
      "execution_count": 10,
      "outputs": []
    },
    {
      "cell_type": "code",
      "metadata": {
        "colab": {
          "base_uri": "https://localhost:8080/",
          "height": 269
        },
        "id": "Ccq1TFNgEbkk",
        "outputId": "ec809e31-72d4-43bd-cfa1-014cea547375"
      },
      "source": [
        "# show the image after it has been normalized\n",
        "plt.figure()\n",
        "plt.imshow(x_train[0])\n",
        "plt.colorbar()\n",
        "plt.show()"
      ],
      "execution_count": 11,
      "outputs": [
        {
          "output_type": "display_data",
          "data": {
            "image/png": "[encoded data removed]",
            "text/plain": [
              "<Figure size 432x288 with 2 Axes>"
            ]
          },
          "metadata": {
            "needs_background": "light"
          }
        }
      ]
    },
    {
      "cell_type": "markdown",
      "metadata": {
        "id": "wzPG3UW5EgQU"
      },
      "source": [
        "**Flatten the model**"
      ]
    },
    {
      "cell_type": "code",
      "metadata": {
        "colab": {
          "base_uri": "https://localhost:8080/"
        },
        "id": "GFyNQhenEfEW",
        "outputId": "1dc9f507-6a87-42ad-f6ca-9585fea41539"
      },
      "source": [
        "x_train.shape, x_test.shape"
      ],
      "execution_count": 12,
      "outputs": [
        {
          "output_type": "execute_result",
          "data": {
            "text/plain": [
              "((60000, 28, 28), (10000, 28, 28))"
            ]
          },
          "metadata": {},
          "execution_count": 12
        }
      ]
    },
    {
      "cell_type": "code",
      "metadata": {
        "id": "JatgRubWEnPD"
      },
      "source": [
        "# -1 selects all images in the dataset\n",
        "# 28*28 converts the 2D 28 x 28 dimension into a 1D dimension\n",
        "\n",
        "x_train = x_train.reshape(-1, 28*28)\n",
        "x_test = x_test.reshape(-1, 28*28)"
      ],
      "execution_count": 13,
      "outputs": []
    },
    {
      "cell_type": "code",
      "metadata": {
        "colab": {
          "base_uri": "https://localhost:8080/"
        },
        "id": "mP17IDCRErZV",
        "outputId": "a20e064f-6bb7-437b-9cec-1ebf82fe3618"
      },
      "source": [
        "x_train.shape, x_test.shape"
      ],
      "execution_count": 14,
      "outputs": [
        {
          "output_type": "execute_result",
          "data": {
            "text/plain": [
              "((60000, 784), (10000, 784))"
            ]
          },
          "metadata": {},
          "execution_count": 14
        }
      ]
    },
    {
      "cell_type": "markdown",
      "metadata": {
        "id": "jw_Z13POEutN"
      },
      "source": [
        "**Build a model**"
      ]
    },
    {
      "cell_type": "code",
      "metadata": {
        "id": "PBp_uMxIExro"
      },
      "source": [
        "# define an object\n",
        "model = tf.keras.models.Sequential()\n",
        "\n",
        "# adding the first fully connected hidden layer parameters:\n",
        "# 1) units (number of neurons) = 128\n",
        "# 2) activation function = ReLU\n",
        "# 3) input shape = 784 entered as (784,)\n",
        "model.add(tf.keras.layers.Dense(units=128, activation='relu', input_shape=(784,)))\n",
        "\n",
        "# adding the second layer with dropout\n",
        "# dropout: a regularization technique where randomly selected neurons will be ignored during training to prevent overfitting\n",
        "model.add(tf.keras.layers.Dropout(rate=0.3))\n",
        "\n",
        "# adding the output layer parameters:\n",
        "# 1) units (neurons) = 10  \n",
        "# 2) activation = softmax     \n",
        "model.add(tf.keras.layers.Dense(units=10, activation='softmax'))"
      ],
      "execution_count": 15,
      "outputs": []
    },
    {
      "cell_type": "markdown",
      "metadata": {
        "id": "p3vtF3pGE-TL"
      },
      "source": [
        "**Train the model**"
      ]
    },
    {
      "cell_type": "code",
      "metadata": {
        "colab": {
          "base_uri": "https://localhost:8080/"
        },
        "id": "7NnDXe6GE9I5",
        "outputId": "317a1cf9-7e6c-4649-e03f-0e8aa3b01834"
      },
      "source": [
        "model.compile(optimizer='adam', loss='sparse_categorical_crossentropy', metrics=['sparse_categorical_accuracy'])\n",
        "model.summary()"
      ],
      "execution_count": 16,
      "outputs": [
        {
          "output_type": "stream",
          "name": "stdout",
          "text": [
            "Model: \"sequential\"\n",
            "_________________________________________________________________\n",
            " Layer (type)                Output Shape              Param #   \n",
            "=================================================================\n",
            " dense (Dense)               (None, 128)               100480    \n",
            "                                                                 \n",
            " dropout (Dropout)           (None, 128)               0         \n",
            "                                                                 \n",
            " dense_1 (Dense)             (None, 10)                1290      \n",
            "                                                                 \n",
            "=================================================================\n",
            "Total params: 101,770\n",
            "Trainable params: 101,770\n",
            "Non-trainable params: 0\n",
            "_________________________________________________________________\n"
          ]
        }
      ]
    },
    {
      "cell_type": "code",
      "metadata": {
        "colab": {
          "base_uri": "https://localhost:8080/"
        },
        "id": "BkvuYiTkFJQq",
        "outputId": "54937e19-656e-49a5-87b6-497a0d7b92a1"
      },
      "source": [
        "# begin training the model\n",
        "model.fit(x_train, y_train, epochs=10)"
      ],
      "execution_count": 17,
      "outputs": [
        {
          "output_type": "stream",
          "name": "stdout",
          "text": [
            "Epoch 1/10\n",
            "1875/1875 [==============================] - 6s 3ms/step - loss: 0.5584 - sparse_categorical_accuracy: 0.8034\n",
            "Epoch 2/10\n",
            "1875/1875 [==============================] - 5s 3ms/step - loss: 0.4217 - sparse_categorical_accuracy: 0.8489\n",
            "Epoch 3/10\n",
            "1875/1875 [==============================] - 5s 3ms/step - loss: 0.3893 - sparse_categorical_accuracy: 0.8586\n",
            "Epoch 4/10\n",
            "1875/1875 [==============================] - 5s 3ms/step - loss: 0.3687 - sparse_categorical_accuracy: 0.8649\n",
            "Epoch 5/10\n",
            "1875/1875 [==============================] - 5s 3ms/step - loss: 0.3545 - sparse_categorical_accuracy: 0.8684\n",
            "Epoch 6/10\n",
            "1875/1875 [==============================] - 5s 3ms/step - loss: 0.3415 - sparse_categorical_accuracy: 0.8737\n",
            "Epoch 7/10\n",
            "1875/1875 [==============================] - 5s 3ms/step - loss: 0.3325 - sparse_categorical_accuracy: 0.8771\n",
            "Epoch 8/10\n",
            "1875/1875 [==============================] - 5s 3ms/step - loss: 0.3248 - sparse_categorical_accuracy: 0.8789\n",
            "Epoch 9/10\n",
            "1875/1875 [==============================] - 5s 2ms/step - loss: 0.3151 - sparse_categorical_accuracy: 0.8841\n",
            "Epoch 10/10\n",
            "1875/1875 [==============================] - 5s 3ms/step - loss: 0.3126 - sparse_categorical_accuracy: 0.8847\n"
          ]
        },
        {
          "output_type": "execute_result",
          "data": {
            "text/plain": [
              "<keras.callbacks.History at 0x7f90a84fa650>"
            ]
          },
          "metadata": {},
          "execution_count": 17
        }
      ]
    },
    {
      "cell_type": "markdown",
      "metadata": {
        "id": "uOCYfjL-FQIb"
      },
      "source": [
        "**Model Evalution**"
      ]
    },
    {
      "cell_type": "code",
      "metadata": {
        "colab": {
          "base_uri": "https://localhost:8080/"
        },
        "id": "4u1vQaVFFTNG",
        "outputId": "3ee9f5ae-a935-46fc-a046-bd0bd9469139"
      },
      "source": [
        "# use the test data\n",
        "test_loss, test_accuracy = model.evaluate(x_test, y_test)\n",
        "\n",
        "# print the accuracy and loss\n",
        "print(f\"Test Accuracy: {test_accuracy:.4f}\")\n",
        "print(f\"Test Loss: {test_loss:.4f}\")"
      ],
      "execution_count": 18,
      "outputs": [
        {
          "output_type": "stream",
          "name": "stdout",
          "text": [
            "313/313 [==============================] - 1s 2ms/step - loss: 0.3357 - sparse_categorical_accuracy: 0.8790\n",
            "Test Accuracy: 0.8790\n",
            "Test Loss: 0.3357\n"
          ]
        }
      ]
    },
    {
      "cell_type": "markdown",
      "metadata": {
        "id": "O1UYzj2_FhaI"
      },
      "source": [
        "**Model Prediction**"
      ]
    },
    {
      "cell_type": "code",
      "metadata": {
        "id": "h5y-7xCdFf57"
      },
      "source": [
        "# predictions\n",
        "y_Pred=model.predict(x_test) \n",
        "y_pred=np.argmax(y_Pred,axis=1)"
      ],
      "execution_count": 19,
      "outputs": []
    },
    {
      "cell_type": "code",
      "metadata": {
        "colab": {
          "base_uri": "https://localhost:8080/"
        },
        "id": "ghLDnsv_GoR-",
        "outputId": "7cc1e034-71f1-4315-aa5e-aec2a0bdd0ab"
      },
      "source": [
        "# print the predicted class and actual class\n",
        "print(f\"y_pred[0] = {class_names[0]}\")\n",
        "print(f\"y_test[0] = {class_names[0]}\")"
      ],
      "execution_count": 20,
      "outputs": [
        {
          "output_type": "stream",
          "name": "stdout",
          "text": [
            "y_pred[0] = 0 Top/T-Shirt\n",
            "y_test[0] = 0 Top/T-Shirt\n"
          ]
        }
      ]
    },
    {
      "cell_type": "markdown",
      "metadata": {
        "id": "vmT1KjW4Gsf7"
      },
      "source": [
        "**Confusion Matrix**"
      ]
    },
    {
      "cell_type": "code",
      "metadata": {
        "id": "Q-w5pLyvGvi7"
      },
      "source": [
        "label_names = ['Top/T-Shirt', 'Trouser', 'Pullover', 'Dress', 'Coat',\n",
        "               'Sandal', 'Shirt', 'Sneaker', 'Bag', 'Ankle boot']\n",
        "\n",
        "cm = confusion_matrix(y_test, y_pred)\n",
        "\n",
        "nr_rows = cm.shape[0]\n",
        "nr_cols = cm.shape[1]"
      ],
      "execution_count": 21,
      "outputs": []
    },
    {
      "cell_type": "code",
      "metadata": {
        "colab": {
          "base_uri": "https://localhost:8080/",
          "height": 761
        },
        "id": "I3oGeHD2HRWG",
        "outputId": "f1636790-fe79-4987-cab9-c2aacba25ede"
      },
      "source": [
        "plt.figure(figsize=(10,10), dpi=95)\n",
        "plt.imshow(cm, cmap=plt.cm.Greens)\n",
        "\n",
        "plt.title('Confusion Matrix', fontsize=16)\n",
        "plt.ylabel('Actual Labels', fontsize=12)\n",
        "plt.xlabel('Predicted Labels', fontsize=12)\n",
        "\n",
        "tick_marks = np.arange(10)\n",
        "plt.yticks(tick_marks, label_names)\n",
        "plt.xticks(tick_marks, label_names)\n",
        "\n",
        "plt.colorbar()\n",
        "\n",
        "for i, j in itertools.product(range(nr_rows), range(nr_cols)):\n",
        "    plt.text(j, i, cm[i, j], horizontalalignment='center',\n",
        "            color='white' if cm[i, j] > cm.max()/2 else 'black')\n",
        "    \n",
        "\n",
        "plt.show()"
      ],
      "execution_count": 22,
      "outputs": [
        {
          "output_type": "display_data",
          "data": {
            "image/png": "[encoded data removed]",
            "text/plain": [
              "<Figure size 950x950 with 2 Axes>"
            ]
          },
          "metadata": {
            "needs_background": "light"
          }
        }
      ]
    },
    {
      "cell_type": "code",
      "metadata": {
        "colab": {
          "base_uri": "https://localhost:8080/"
        },
        "id": "QEnndvEhHVUI",
        "outputId": "6ab05d25-9da1-41f4-b66f-854149e2889c"
      },
      "source": [
        "# print the accuracy\n",
        "acc_cm = accuracy_score(y_test, y_pred)\n",
        "print(f\"Accuracy = {acc_cm * 100}%\")"
      ],
      "execution_count": 23,
      "outputs": [
        {
          "output_type": "stream",
          "name": "stdout",
          "text": [
            "Accuracy = 87.9%\n"
          ]
        }
      ]
    }
  ]
}