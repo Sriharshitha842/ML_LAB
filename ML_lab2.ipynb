{
  "nbformat": 4,
  "nbformat_minor": 0,
  "metadata": {
    "colab": {
      "name": "ML_lab2.ipynb",
      "provenance": [],
      "authorship_tag": "ABX9TyPmvtF2idt3DRgIE3aqZ+nv",
      "include_colab_link": true
    },
    "kernelspec": {
      "name": "python3",
      "display_name": "Python 3"
    },
    "language_info": {
      "name": "python"
    }
  },
  "cells": [
    {
      "cell_type": "markdown",
      "metadata": {
        "id": "view-in-github",
        "colab_type": "text"
      },
      "source": [
        "<a href=\"https://colab.research.google.com/github/Sriharshitha842/ML_LAB/blob/main/ML_lab2.ipynb\" target=\"_parent\"><img src=\"https://colab.research.google.com/assets/colab-badge.svg\" alt=\"Open In Colab\"/></a>"
      ]
    },
    {
      "cell_type": "markdown",
      "metadata": {
        "id": "QIa0z14-SJah"
      },
      "source": [
        "**Name of the Student : Sriharshitha Deepala**\n",
        "\n",
        "**Reg No : 19BCD7246**\n",
        "\n",
        "**Course Code : CSE3008**\n",
        "\n",
        "**Slot : L1+L2+L11+L12+L43+L44**\n",
        "\n",
        "**Lab No : 02**\n",
        "\n",
        "**Submission Date : 20-10-2021**"
      ]
    },
    {
      "cell_type": "markdown",
      "metadata": {
        "id": "QgFqes9GTRcK"
      },
      "source": [
        "# **Candidate Elimination Algorithm :**\n",
        "\n",
        "**1. EconomyCar.csv :**"
      ]
    },
    {
      "cell_type": "code",
      "metadata": {
        "colab": {
          "base_uri": "https://localhost:8080/"
        },
        "id": "WtGIkQtWOCf9",
        "outputId": "302ca6c9-f260-40d6-8992-20e07e729933"
      },
      "source": [
        "from google.colab import drive\n",
        "drive.mount('/content/drive')\n"
      ],
      "execution_count": 27,
      "outputs": [
        {
          "output_type": "stream",
          "name": "stdout",
          "text": [
            "Drive already mounted at /content/drive; to attempt to forcibly remount, call drive.mount(\"/content/drive\", force_remount=True).\n"
          ]
        }
      ]
    },
    {
      "cell_type": "code",
      "metadata": {
        "colab": {
          "base_uri": "https://localhost:8080/"
        },
        "id": "gqgNWeE2QGAg",
        "outputId": "d5d1cb1d-a689-4c9d-e553-340bcd5ae72c"
      },
      "source": [
        "import csv\n",
        "with open('/content/drive/My Drive/19BCD7246_ML_lab/EconomyCar.csv') as csvFile:\n",
        "    EconomyCar = [tuple(line) for line in csv.reader(csvFile)]\n",
        "    print(EconomyCar)\n"
      ],
      "execution_count": 28,
      "outputs": [
        {
          "output_type": "stream",
          "name": "stdout",
          "text": [
            "[('Japan ', 'Honda', 'Blue ', '1980', 'Economy', 'Yes'), ('Japan ', 'Toyota', 'Green', '1970', 'Sports', 'No'), ('Japan ', 'Toyota', 'Blue ', '1990', 'Economy', 'Yes'), ('USA', 'Chrysler', 'Red', '1980', 'Economy', 'No'), ('Japan ', 'Honda', 'White', '1980', 'Economy', 'Yes')]\n"
          ]
        }
      ]
    },
    {
      "cell_type": "code",
      "metadata": {
        "colab": {
          "base_uri": "https://localhost:8080/"
        },
        "id": "kxHTUYUKQSqG",
        "outputId": "43468edc-9b53-49a7-b63d-e08f7f2e3d91"
      },
      "source": [
        "def get_domains(EconomyCar):\n",
        "    d = [set() for i in EconomyCar[0]] \n",
        "    for x in EconomyCar:\n",
        "        for i, xi in enumerate(x):\n",
        "            d[i].add(xi)\n",
        "    return [list(sorted(x)) for x in d]\n",
        "get_domains(EconomyCar)\n"
      ],
      "execution_count": 29,
      "outputs": [
        {
          "output_type": "execute_result",
          "data": {
            "text/plain": [
              "[['Japan ', 'USA'],\n",
              " ['Chrysler', 'Honda', 'Toyota'],\n",
              " ['Blue ', 'Green', 'Red', 'White'],\n",
              " ['1970', '1980', '1990'],\n",
              " ['Economy', 'Sports'],\n",
              " ['No', 'Yes']]"
            ]
          },
          "metadata": {},
          "execution_count": 29
        }
      ]
    },
    {
      "cell_type": "code",
      "metadata": {
        "colab": {
          "base_uri": "https://localhost:8080/"
        },
        "id": "nd3g4AqiQaBU",
        "outputId": "cd6253d6-9fff-427b-969e-153a45295a75"
      },
      "source": [
        "def g0(n):\n",
        "    return ('?',)*n\n",
        "\n",
        "def s0(n):\n",
        "    return ('Phi',)*n\n",
        "def more_general(h1, h2):\n",
        "    more_general_parts = []\n",
        "    for x, y in zip(h1, h2):\n",
        "        mg = x == '?' or (x != 'Phi' and (x == y or y == 'Phi'))\n",
        "        more_general_parts.append(mg)\n",
        "    return all(more_general_parts) \n",
        "\n",
        "def consistent(hypothesis,example):\n",
        "    return more_general(hypothesis, example)\n",
        "\n",
        "def min_generalizations(h, x):\n",
        "    h_new = list(h)\n",
        "    for i in range(len(h)):\n",
        "        if not consistent(h[i:i+1],x[i:i+1]):\n",
        "            if h[i] != 'Phi':\n",
        "                h_new[i] = '?'\n",
        "            else:\n",
        "                h_new[i] = x[i]\n",
        "    return [tuple(h_new)]\n",
        "\n",
        "def generalize_S(x, G, S):\n",
        "    S_prev = list(S)\n",
        "    for s in S_prev:\n",
        "        if s not in S:\n",
        "            continue\n",
        "        if not consistent(s,x):\n",
        "            S.remove(s)\n",
        "            Splus = min_generalizations(s, x)\n",
        "            S.update([h for h in Splus if any([more_general(g,h) \n",
        "                                               for g in G])])\n",
        "\n",
        "            S.difference_update([h for h in S if \n",
        "                                 any([more_general(h, h1) \n",
        "                                      for h1 in S if h != h1])])\n",
        "    return S\n",
        "\n",
        "def min_specializations(h, domains, x):\n",
        "    results = []\n",
        "    for i in range(len(h)):\n",
        "        if h[i] == '?':\n",
        "            for val in domains[i]:\n",
        "                if x[i] != val:\n",
        "                    h_new = h[:i] + (val,) + h[i+1:]\n",
        "                    results.append(h_new)\n",
        "        elif h[i] != 'Phi':\n",
        "            h_new = h[:i] + ('Phi',) + h[i+1:]\n",
        "            results.append(h_new)\n",
        "    return results\n",
        "\n",
        "def specialize_G(x, domains, G, S):\n",
        "    G_prev = list(G)\n",
        "    for g in G_prev:\n",
        "        if g not in G:\n",
        "            continue\n",
        "        if consistent(g,x):\n",
        "            G.remove(g)\n",
        "            Gminus = min_specializations(g, domains, x)\n",
        "            G.update([h for h in Gminus if any([more_general(h, s)\n",
        "                                                for s in S])])\n",
        "            G.difference_update([h for h in G if \n",
        "                                 any([more_general(g1, h) \n",
        "                                      for g1 in G if h != g1])])\n",
        "    return G\n",
        "\n",
        "def candidate_elimination(EconomyCar):\n",
        "    domains = get_domains(EconomyCar)[:-1] \n",
        "    \n",
        "    G = set([g0(len(domains))])\n",
        "    S = set([s0(len(domains))])\n",
        "    i=0\n",
        "    print('All the hypotheses in General and Specific boundary are:\\n')\n",
        "    print('\\n G[{0}]:'.format(i),G)\n",
        "    print('\\n S[{0}]:'.format(i),S)\n",
        "    for xcx in EconomyCar:\n",
        "        i=i+1\n",
        "        x, cx = xcx[:-1], xcx[-1]  \n",
        "        if cx=='Yes': \n",
        "            G = {g for g in G if consistent(g,x)}\n",
        "            S = generalize_S(x, G, S)\n",
        "        else: \n",
        "            S = {s for s in S if not consistent(s,x)}\n",
        "            G = specialize_G(x, domains, G, S)\n",
        "        print('\\n G[{0}]:'.format(i),G)\n",
        "        print('\\n S[{0}]:'.format(i),S)\n",
        "    return\n",
        "candidate_elimination(EconomyCar)\n"
      ],
      "execution_count": 30,
      "outputs": [
        {
          "output_type": "stream",
          "name": "stdout",
          "text": [
            "All the hypotheses in General and Specific boundary are:\n",
            "\n",
            "\n",
            " G[0]: {('?', '?', '?', '?', '?')}\n",
            "\n",
            " S[0]: {('Phi', 'Phi', 'Phi', 'Phi', 'Phi')}\n",
            "\n",
            " G[1]: {('?', '?', '?', '?', '?')}\n",
            "\n",
            " S[1]: {('Japan ', 'Honda', 'Blue ', '1980', 'Economy')}\n",
            "\n",
            " G[2]: {('?', 'Honda', '?', '?', '?'), ('?', '?', 'Blue ', '?', '?'), ('?', '?', '?', '?', 'Economy'), ('?', '?', '?', '1980', '?')}\n",
            "\n",
            " S[2]: {('Japan ', 'Honda', 'Blue ', '1980', 'Economy')}\n",
            "\n",
            " G[3]: {('?', '?', 'Blue ', '?', '?'), ('?', '?', '?', '?', 'Economy')}\n",
            "\n",
            " S[3]: {('Japan ', '?', 'Blue ', '?', 'Economy')}\n",
            "\n",
            " G[4]: {('Japan ', '?', '?', '?', 'Economy'), ('?', '?', 'Blue ', '?', '?')}\n",
            "\n",
            " S[4]: {('Japan ', '?', 'Blue ', '?', 'Economy')}\n",
            "\n",
            " G[5]: {('Japan ', '?', '?', '?', 'Economy')}\n",
            "\n",
            " S[5]: {('Japan ', '?', '?', '?', 'Economy')}\n"
          ]
        }
      ]
    },
    {
      "cell_type": "markdown",
      "metadata": {
        "id": "Hb23I7EHT4FD"
      },
      "source": [
        "**2. EnjoySport.csv :**"
      ]
    },
    {
      "cell_type": "code",
      "metadata": {
        "colab": {
          "base_uri": "https://localhost:8080/"
        },
        "id": "x3dNAYvGUA17",
        "outputId": "5dbbc74c-907c-479d-d98b-aadb24c0d031"
      },
      "source": [
        "import csv\n",
        "with open('/content/drive/My Drive/19BCD7246_ML_lab/EnjoySport.csv') as csvFile:\n",
        "    EnjoySport = [tuple(line) for line in csv.reader(csvFile)]\n",
        "    print(EnjoySport)"
      ],
      "execution_count": 31,
      "outputs": [
        {
          "output_type": "stream",
          "name": "stdout",
          "text": [
            "[('Sunny', 'Warm', 'Normal', 'Strong', 'Warm', 'Same', 'Yes'), ('Sunny', 'Warm', 'High', 'Strong', 'Warm', 'Same', 'Yes'), ('Rainy', 'Cold', 'High', 'Strong', 'Warm', 'Change', 'No'), ('Sunny', 'Warm', 'High', 'Strong', 'Cool', 'Change', 'Yes')]\n"
          ]
        }
      ]
    },
    {
      "cell_type": "code",
      "metadata": {
        "colab": {
          "base_uri": "https://localhost:8080/"
        },
        "id": "Up0NXaoXUS-c",
        "outputId": "64263b8c-ba18-4de5-8a71-156d3c9fa391"
      },
      "source": [
        "def get_domains(EnjoySport):\n",
        "    d = [set() for i in EnjoySport[0]] \n",
        "    for x in EnjoySport:\n",
        "        for i, xi in enumerate(x):\n",
        "            d[i].add(xi)\n",
        "    return [list(sorted(x)) for x in d]\n",
        "get_domains(EnjoySport)"
      ],
      "execution_count": 32,
      "outputs": [
        {
          "output_type": "execute_result",
          "data": {
            "text/plain": [
              "[['Rainy', 'Sunny'],\n",
              " ['Cold', 'Warm'],\n",
              " ['High', 'Normal'],\n",
              " ['Strong'],\n",
              " ['Cool', 'Warm'],\n",
              " ['Change', 'Same'],\n",
              " ['No', 'Yes']]"
            ]
          },
          "metadata": {},
          "execution_count": 32
        }
      ]
    },
    {
      "cell_type": "code",
      "metadata": {
        "colab": {
          "base_uri": "https://localhost:8080/"
        },
        "id": "neO_ufo8XlVf",
        "outputId": "0fbe793d-43a3-401e-ab76-285c7400b898"
      },
      "source": [
        "def g0(n):\n",
        "    return ('?',)*n\n",
        "\n",
        "def s0(n):\n",
        "    return ('Phi',)*n\n",
        "def more_general(h1, h2):\n",
        "    more_general_parts = []\n",
        "    for x, y in zip(h1, h2):\n",
        "        mg = x == '?' or (x != 'Phi' and (x == y or y == 'Phi'))\n",
        "        more_general_parts.append(mg)\n",
        "    return all(more_general_parts) \n",
        "\n",
        "def consistent(hypothesis,example):\n",
        "    return more_general(hypothesis, example)\n",
        "\n",
        "def min_generalizations(h, x):\n",
        "    h_new = list(h)\n",
        "    for i in range(len(h)):\n",
        "        if not consistent(h[i:i+1],x[i:i+1]):\n",
        "            if h[i] != 'Phi':\n",
        "                h_new[i] = '?'\n",
        "            else:\n",
        "                h_new[i] = x[i]\n",
        "    return [tuple(h_new)]\n",
        "\n",
        "def generalize_S(x, G, S):\n",
        "    S_prev = list(S)\n",
        "    for s in S_prev:\n",
        "        if s not in S:\n",
        "            continue\n",
        "        if not consistent(s,x):\n",
        "            S.remove(s)\n",
        "            Splus = min_generalizations(s, x)\n",
        "            S.update([h for h in Splus if any([more_general(g,h) \n",
        "                                               for g in G])])\n",
        "\n",
        "            S.difference_update([h for h in S if \n",
        "                                 any([more_general(h, h1) \n",
        "                                      for h1 in S if h != h1])])\n",
        "    return S\n",
        "\n",
        "def min_specializations(h, domains, x):\n",
        "    results = []\n",
        "    for i in range(len(h)):\n",
        "        if h[i] == '?':\n",
        "            for val in domains[i]:\n",
        "                if x[i] != val:\n",
        "                    h_new = h[:i] + (val,) + h[i+1:]\n",
        "                    results.append(h_new)\n",
        "        elif h[i] != 'Phi':\n",
        "            h_new = h[:i] + ('Phi',) + h[i+1:]\n",
        "            results.append(h_new)\n",
        "    return results\n",
        "\n",
        "def specialize_G(x, domains, G, S):\n",
        "    G_prev = list(G)\n",
        "    for g in G_prev:\n",
        "        if g not in G:\n",
        "            continue\n",
        "        if consistent(g,x):\n",
        "            G.remove(g)\n",
        "            Gminus = min_specializations(g, domains, x)\n",
        "            G.update([h for h in Gminus if any([more_general(h, s)\n",
        "                                                for s in S])])\n",
        "            G.difference_update([h for h in G if \n",
        "                                 any([more_general(g1, h) \n",
        "                                      for g1 in G if h != g1])])\n",
        "    return G\n",
        "\n",
        "def candidate_elimination(EnjoySport):\n",
        "    domains = get_domains(EnjoySport)[:-1] \n",
        "    \n",
        "    G = set([g0(len(domains))])\n",
        "    S = set([s0(len(domains))])\n",
        "    i=0\n",
        "    print('All the hypotheses in General and Specific boundary are:\\n')\n",
        "    print('\\n G[{0}]:'.format(i),G)\n",
        "    print('\\n S[{0}]:'.format(i),S)\n",
        "    for xcx in EnjoySport:\n",
        "        i=i+1\n",
        "        x, cx = xcx[:-1], xcx[-1]  \n",
        "        if cx=='Yes': \n",
        "            G = {g for g in G if consistent(g,x)}\n",
        "            S = generalize_S(x, G, S)\n",
        "        else: \n",
        "            S = {s for s in S if not consistent(s,x)}\n",
        "            G = specialize_G(x, domains, G, S)\n",
        "        print('\\n G[{0}]:'.format(i),G)\n",
        "        print('\\n S[{0}]:'.format(i),S)\n",
        "    return\n",
        "candidate_elimination(EnjoySport)\n"
      ],
      "execution_count": 33,
      "outputs": [
        {
          "output_type": "stream",
          "name": "stdout",
          "text": [
            "All the hypotheses in General and Specific boundary are:\n",
            "\n",
            "\n",
            " G[0]: {('?', '?', '?', '?', '?', '?')}\n",
            "\n",
            " S[0]: {('Phi', 'Phi', 'Phi', 'Phi', 'Phi', 'Phi')}\n",
            "\n",
            " G[1]: {('?', '?', '?', '?', '?', '?')}\n",
            "\n",
            " S[1]: {('Sunny', 'Warm', 'Normal', 'Strong', 'Warm', 'Same')}\n",
            "\n",
            " G[2]: {('?', '?', '?', '?', '?', '?')}\n",
            "\n",
            " S[2]: {('Sunny', 'Warm', '?', 'Strong', 'Warm', 'Same')}\n",
            "\n",
            " G[3]: {('Sunny', '?', '?', '?', '?', '?'), ('?', 'Warm', '?', '?', '?', '?'), ('?', '?', '?', '?', '?', 'Same')}\n",
            "\n",
            " S[3]: {('Sunny', 'Warm', '?', 'Strong', 'Warm', 'Same')}\n",
            "\n",
            " G[4]: {('Sunny', '?', '?', '?', '?', '?'), ('?', 'Warm', '?', '?', '?', '?')}\n",
            "\n",
            " S[4]: {('Sunny', 'Warm', '?', 'Strong', '?', '?')}\n"
          ]
        }
      ]
    }
  ]
}