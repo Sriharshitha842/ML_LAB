{
  "nbformat": 4,
  "nbformat_minor": 0,
  "metadata": {
    "colab": {
      "name": "ML_lab3.ipynb",
      "provenance": [],
      "authorship_tag": "ABX9TyNZfkplMGxPbuAuDmGZtrJT",
      "include_colab_link": true
    },
    "kernelspec": {
      "name": "python3",
      "display_name": "Python 3"
    },
    "language_info": {
      "name": "python"
    }
  },
  "cells": [
    {
      "cell_type": "markdown",
      "metadata": {
        "id": "view-in-github",
        "colab_type": "text"
      },
      "source": [
        "<a href=\"https://colab.research.google.com/github/Sriharshitha842/ML_LAB/blob/main/ML_lab3.ipynb\" target=\"_parent\"><img src=\"https://colab.research.google.com/assets/colab-badge.svg\" alt=\"Open In Colab\"/></a>"
      ]
    },
    {
      "cell_type": "markdown",
      "metadata": {
        "id": "wD8MGJ68JpdK"
      },
      "source": [
        "**Name : Sriharshitha Deepala**\n",
        "\n",
        "**Reg No : 19BCD7246**\n",
        "\n",
        "**Course Code : CSE3008**\n",
        "\n",
        "**Lab No : 03**"
      ]
    },
    {
      "cell_type": "markdown",
      "metadata": {
        "id": "WIW6Wr27J7ow"
      },
      "source": [
        "# **ID3 DECISION TREE FOR CLASSIFICATION**"
      ]
    },
    {
      "cell_type": "markdown",
      "metadata": {
        "id": "BZSw_DfFKFuk"
      },
      "source": [
        "**1. PlayTennis.csv**"
      ]
    },
    {
      "cell_type": "code",
      "metadata": {
        "colab": {
          "base_uri": "https://localhost:8080/"
        },
        "id": "haES-Pt7ABhX",
        "outputId": "78c21d6c-87e7-4309-a124-d5ed9410c610"
      },
      "source": [
        "#importing data from csv file as DataFrame using pandas library\n",
        "import pandas as pd\n",
        "#reading data using pd.read_csv() method\n",
        "df_given = pd.read_csv(\"/content/sample_data/PlayTennis.csv\")\n",
        "print(\"\\n The given set of data are(from csv file):\\n\\n\", df_given)"
      ],
      "execution_count": 184,
      "outputs": [
        {
          "output_type": "stream",
          "name": "stdout",
          "text": [
            "\n",
            " The given set of data are(from csv file):\n",
            "\n",
            "      Outlook Temperature Humidity    Wind PlayTennis\n",
            "0      Sunny         Hot     High    Weak         No\n",
            "1      Sunny         Hot     High  Strong         No\n",
            "2   Overcast         Hot     High    Weak        Yes\n",
            "3       Rain        Mild     High    Weak        Yes\n",
            "4       Rain        Cool   Normal    Weak        Yes\n",
            "5       Rain        Cool   Normal  Strong         No\n",
            "6   Overcast        Cool   Normal  Strong        Yes\n",
            "7      Sunny        Mild     High    Weak         No\n",
            "8      Sunny        Cool   Normal    Weak        Yes\n",
            "9       Rain        Mild   Normal    Weak        Yes\n",
            "10     Sunny        Mild   Normal  Strong        Yes\n",
            "11  Overcast        Mild     High  Strong        Yes\n",
            "12  Overcast         Hot   Normal    Weak        Yes\n",
            "13      Rain        Mild     High  Strong         No\n"
          ]
        }
      ]
    },
    {
      "cell_type": "code",
      "metadata": {
        "colab": {
          "base_uri": "https://localhost:8080/"
        },
        "id": "maVjIt_iFSsq",
        "outputId": "3c12fe77-3360-4b6d-d7db-1865d93970ad"
      },
      "source": [
        "df_tennis.keys()"
      ],
      "execution_count": 185,
      "outputs": [
        {
          "output_type": "execute_result",
          "data": {
            "text/plain": [
              "Index(['Outlook', 'Temperature', 'Humidity', 'Wind', 'PlayTennis',\n",
              "       'predicted'],\n",
              "      dtype='object')"
            ]
          },
          "metadata": {},
          "execution_count": 185
        }
      ]
    },
    {
      "cell_type": "code",
      "metadata": {
        "colab": {
          "base_uri": "https://localhost:8080/"
        },
        "id": "UTFsdTOiB2qj",
        "outputId": "3482797c-3d77-494a-db1f-2fb44563cb54"
      },
      "source": [
        "# Defining two method to calculate Entropy using formula from textbook.\n",
        "# entropy method will evaluate -p/(p+n)log2(p/(p+n))- n/(p+n)log2 (n/(p+n))\n",
        "def entropy(probs):  \n",
        "    import math\n",
        "    return sum( [-prob*math.log(prob, 2) for prob in probs] )\n",
        "\n",
        "# This method take input list and calulates its probability\n",
        "# and pass probability value to entropy method to calculate entropy \n",
        "def entropyOfGivenData(a_list):  \n",
        "    from collections import Counter\n",
        "    cnt = Counter(x for x in a_list)\n",
        "    num_instances = len(a_list)*1.0\n",
        "    probs = [x/num_instances for x in cnt.values()]\n",
        "    return entropy(probs) \n",
        "    \n",
        "# printing input data for which we are calculating entropy\n",
        "print(\"\\n  Calculating entropy for input data set:\\n\\n\", df_given['PlayTennis'])\n",
        "\n",
        "#calculating entropy of Play_Tennis list using entropyOfGivenData and storing value in totalEntropy\n",
        "totalEntropy = entropyOfGivenData(df_given['PlayTennis'])\n",
        "\n",
        "print(\"\\n The total Entropy of Give Data Set is:\",totalEntropy)"
      ],
      "execution_count": 186,
      "outputs": [
        {
          "output_type": "stream",
          "name": "stdout",
          "text": [
            "\n",
            "  Calculating entropy for input data set:\n",
            "\n",
            " 0      No\n",
            "1      No\n",
            "2     Yes\n",
            "3     Yes\n",
            "4     Yes\n",
            "5      No\n",
            "6     Yes\n",
            "7      No\n",
            "8     Yes\n",
            "9     Yes\n",
            "10    Yes\n",
            "11    Yes\n",
            "12    Yes\n",
            "13     No\n",
            "Name: PlayTennis, dtype: object\n",
            "\n",
            " The total Entropy of Give Data Set is: 0.9402859586706309\n"
          ]
        }
      ]
    },
    {
      "cell_type": "code",
      "metadata": {
        "colab": {
          "base_uri": "https://localhost:8080/"
        },
        "id": "E-rxN1l9B90Z",
        "outputId": "f6bc7626-40a7-4997-dd87-31d783aabc73"
      },
      "source": [
        "def information_gain(df, attributeNameToSplit, targetAttribute, trace=0):\n",
        "    df_split = df.groupby(attributeNameToSplit)\n",
        "    nobs = len(df.index) * 1.0\n",
        "    df_agg_ent = df_split.agg({targetAttribute : [entropyOfGivenData, lambda x: len(x)/nobs] })[targetAttribute]\n",
        "    df_agg_ent.columns = ['Entropy', 'PropObservations']\n",
        "    new_entropy = sum( df_agg_ent['Entropy'] * df_agg_ent['PropObservations'] )\n",
        "    old_entropy = entropyOfGivenData(df[targetAttribute])\n",
        "    return old_entropy - new_entropy\n",
        "\n",
        "\n",
        "print(' Information gain for Outlook is :'+str( information_gain(df_given, 'Outlook', 'PlayTennis')),\"\\n\")\n",
        "print(' Information gain for Humidity is: ' + str( information_gain(df_given, 'Humidity', 'PlayTennis')),\"\\n\")\n",
        "print(' Information gain for Wind is:' + str( information_gain(df_given, 'Wind', 'PlayTennis')),\"\\n\")\n",
        "print(' Information gain for Temperature is:' + str( information_gain(df_given, 'Temperature','PlayTennis')),\"\\n\")"
      ],
      "execution_count": 187,
      "outputs": [
        {
          "output_type": "stream",
          "name": "stdout",
          "text": [
            " Information gain for Outlook is :0.2467498197744391 \n",
            "\n",
            " Information gain for Humidity is: 0.15183550136234136 \n",
            "\n",
            " Information gain for Wind is:0.04812703040826927 \n",
            "\n",
            " Information gain for Temperature is:0.029222565658954647 \n",
            "\n"
          ]
        }
      ]
    },
    {
      "cell_type": "code",
      "metadata": {
        "id": "2vtRcqi9CUhx"
      },
      "source": [
        "def id3(df, target_attribute_name, attNames, default_class=None):\n",
        "    \n",
        "    from collections import Counter\n",
        "    cnt = Counter(x for x in df[target_attribute_name])\n",
        "    if len(cnt) == 1:\n",
        "        return next(iter(cnt))  \n",
        "    elif df.empty or (not attNames):\n",
        "        return default_class  \n",
        "    else:\n",
        "        \n",
        "        default_class = max(cnt.keys()) \n",
        "        gainz = [information_gain(df, attr, target_attribute_name) for attr in attNames] #\n",
        "        index_of_max = gainz.index(max(gainz)) \n",
        "        best_attr = attNames[index_of_max]\n",
        "        tree = {best_attr:{}} \n",
        "        remaining_attribute_names = [i for i in attNames if i != best_attr]\n",
        "        \n",
        "        \n",
        "        for attr_val, data_subset in df.groupby(best_attr):\n",
        "            subtree = id3(data_subset,\n",
        "                        target_attribute_name,\n",
        "                        remaining_attribute_names,\n",
        "                        default_class)\n",
        "            tree[best_attr][attr_val] = subtree\n",
        "        return tree"
      ],
      "execution_count": 188,
      "outputs": []
    },
    {
      "cell_type": "code",
      "metadata": {
        "colab": {
          "base_uri": "https://localhost:8080/"
        },
        "id": "ah_equ1WDJXd",
        "outputId": "2638a884-7741-41c8-e236-0c6f5f2766ae"
      },
      "source": [
        "attNames = list(df_given.columns)\n",
        "print(\"List of all attributes in given data:\", attNames) \n",
        "attNames.remove('PlayTennis') #removing target attribute name\n",
        "print(\"List of attributes used for:\", attNames)"
      ],
      "execution_count": 189,
      "outputs": [
        {
          "output_type": "stream",
          "name": "stdout",
          "text": [
            "List of all attributes in given data: ['Outlook', 'Temperature', 'Humidity', 'Wind', 'PlayTennis']\n",
            "List of attributes used for: ['Outlook', 'Temperature', 'Humidity', 'Wind']\n"
          ]
        }
      ]
    },
    {
      "cell_type": "code",
      "metadata": {
        "colab": {
          "base_uri": "https://localhost:8080/"
        },
        "id": "4Ck3bLyWHSHy",
        "outputId": "3df794cf-9bba-4ba7-b0f2-98e4216b27ab"
      },
      "source": [
        "# using pprint to print tree(type:dict) in herarical manner\n",
        "from pprint import pprint\n",
        "tree = id3(df_given,'PlayTennis',attNames)\n",
        "print(\"\\n\\nThe Resultant Decision Tree is :\\n\")\n",
        "pprint(tree)\n",
        "attribute = next(iter(tree))\n",
        "print(\"Best Attribute :\\n\",attribute,\"\\n\")\n",
        "print(\"Tree Keys:\\n\",tree[attribute].keys())"
      ],
      "execution_count": 190,
      "outputs": [
        {
          "output_type": "stream",
          "name": "stdout",
          "text": [
            "\n",
            "\n",
            "The Resultant Decision Tree is :\n",
            "\n",
            "{'Outlook': {'Overcast': 'Yes',\n",
            "             'Rain': {'Wind': {'Strong': 'No', 'Weak': 'Yes'}},\n",
            "             'Sunny': {'Humidity': {'High': 'No', 'Normal': 'Yes'}}}}\n",
            "Best Attribute :\n",
            " Outlook \n",
            "\n",
            "Tree Keys:\n",
            " dict_keys(['Overcast', 'Rain', 'Sunny'])\n"
          ]
        }
      ]
    },
    {
      "cell_type": "code",
      "metadata": {
        "id": "KqdxJOd7IZ8m"
      },
      "source": [
        "#classification accuracy\n",
        "def classify(instance, tree, default=None):\n",
        "    attribute = next(iter(tree))  \n",
        "    if instance[attribute] in tree[attribute].keys():   \n",
        "        result = tree[attribute][instance[attribute]]\n",
        "        if isinstance(result, dict): \n",
        "            return classify(instance, result)\n",
        "        else:\n",
        "            return result\n",
        "    else:\n",
        "        return default"
      ],
      "execution_count": 191,
      "outputs": []
    },
    {
      "cell_type": "code",
      "metadata": {
        "colab": {
          "base_uri": "https://localhost:8080/",
          "height": 529
        },
        "id": "XCo7LCpgJTS1",
        "outputId": "2c1e2c0b-2401-4732-e5c7-2440e7e9beff"
      },
      "source": [
        "# Checking accuracy of all training data with given data\n",
        "# here also considering test data and training data as given data\n",
        "df_given['predicted'] = df_given.apply(classify, axis=1, args=(tree,'No') ) \n",
        "accuracy1=sum(df_given['PlayTennis']==df_given['predicted'] )*100/len(df_given)\n",
        "print('\\n Accuracy is: ',accuracy1,\"%\\n\")\n",
        "\n",
        "df_given[['PlayTennis', 'predicted']]"
      ],
      "execution_count": 192,
      "outputs": [
        {
          "output_type": "stream",
          "name": "stdout",
          "text": [
            "\n",
            " Accuracy is:  100.0 %\n",
            "\n"
          ]
        },
        {
          "output_type": "execute_result",
          "data": {
            "text/html": [
              "<div>\n",
              "<style scoped>\n",
              "    .dataframe tbody tr th:only-of-type {\n",
              "        vertical-align: middle;\n",
              "    }\n",
              "\n",
              "    .dataframe tbody tr th {\n",
              "        vertical-align: top;\n",
              "    }\n",
              "\n",
              "    .dataframe thead th {\n",
              "        text-align: right;\n",
              "    }\n",
              "</style>\n",
              "<table border=\"1\" class=\"dataframe\">\n",
              "  <thead>\n",
              "    <tr style=\"text-align: right;\">\n",
              "      <th></th>\n",
              "      <th>PlayTennis</th>\n",
              "      <th>predicted</th>\n",
              "    </tr>\n",
              "  </thead>\n",
              "  <tbody>\n",
              "    <tr>\n",
              "      <th>0</th>\n",
              "      <td>No</td>\n",
              "      <td>No</td>\n",
              "    </tr>\n",
              "    <tr>\n",
              "      <th>1</th>\n",
              "      <td>No</td>\n",
              "      <td>No</td>\n",
              "    </tr>\n",
              "    <tr>\n",
              "      <th>2</th>\n",
              "      <td>Yes</td>\n",
              "      <td>Yes</td>\n",
              "    </tr>\n",
              "    <tr>\n",
              "      <th>3</th>\n",
              "      <td>Yes</td>\n",
              "      <td>Yes</td>\n",
              "    </tr>\n",
              "    <tr>\n",
              "      <th>4</th>\n",
              "      <td>Yes</td>\n",
              "      <td>Yes</td>\n",
              "    </tr>\n",
              "    <tr>\n",
              "      <th>5</th>\n",
              "      <td>No</td>\n",
              "      <td>No</td>\n",
              "    </tr>\n",
              "    <tr>\n",
              "      <th>6</th>\n",
              "      <td>Yes</td>\n",
              "      <td>Yes</td>\n",
              "    </tr>\n",
              "    <tr>\n",
              "      <th>7</th>\n",
              "      <td>No</td>\n",
              "      <td>No</td>\n",
              "    </tr>\n",
              "    <tr>\n",
              "      <th>8</th>\n",
              "      <td>Yes</td>\n",
              "      <td>Yes</td>\n",
              "    </tr>\n",
              "    <tr>\n",
              "      <th>9</th>\n",
              "      <td>Yes</td>\n",
              "      <td>Yes</td>\n",
              "    </tr>\n",
              "    <tr>\n",
              "      <th>10</th>\n",
              "      <td>Yes</td>\n",
              "      <td>Yes</td>\n",
              "    </tr>\n",
              "    <tr>\n",
              "      <th>11</th>\n",
              "      <td>Yes</td>\n",
              "      <td>Yes</td>\n",
              "    </tr>\n",
              "    <tr>\n",
              "      <th>12</th>\n",
              "      <td>Yes</td>\n",
              "      <td>Yes</td>\n",
              "    </tr>\n",
              "    <tr>\n",
              "      <th>13</th>\n",
              "      <td>No</td>\n",
              "      <td>No</td>\n",
              "    </tr>\n",
              "  </tbody>\n",
              "</table>\n",
              "</div>"
            ],
            "text/plain": [
              "   PlayTennis predicted\n",
              "0          No        No\n",
              "1          No        No\n",
              "2         Yes       Yes\n",
              "3         Yes       Yes\n",
              "4         Yes       Yes\n",
              "5          No        No\n",
              "6         Yes       Yes\n",
              "7          No        No\n",
              "8         Yes       Yes\n",
              "9         Yes       Yes\n",
              "10        Yes       Yes\n",
              "11        Yes       Yes\n",
              "12        Yes       Yes\n",
              "13         No        No"
            ]
          },
          "metadata": {},
          "execution_count": 192
        }
      ]
    },
    {
      "cell_type": "markdown",
      "metadata": {
        "id": "aYTLcw6kKMis"
      },
      "source": [
        "**2. PlayTennisTest.csv**"
      ]
    },
    {
      "cell_type": "code",
      "metadata": {
        "id": "FJ7EBjY0KR4k"
      },
      "source": [
        "import pandas as pd\n",
        "import numpy as np"
      ],
      "execution_count": 210,
      "outputs": []
    },
    {
      "cell_type": "code",
      "metadata": {
        "colab": {
          "base_uri": "https://localhost:8080/",
          "height": 110
        },
        "id": "UQJ8U1fmwBRY",
        "outputId": "91ecff2f-0a4f-483c-d5ad-4de0219a7a98"
      },
      "source": [
        "train_data_m = pd.read_csv('/content/sample_data/PlayTennisTest.csv')\n",
        "train_data_m"
      ],
      "execution_count": 211,
      "outputs": [
        {
          "output_type": "execute_result",
          "data": {
            "text/html": [
              "<div>\n",
              "<style scoped>\n",
              "    .dataframe tbody tr th:only-of-type {\n",
              "        vertical-align: middle;\n",
              "    }\n",
              "\n",
              "    .dataframe tbody tr th {\n",
              "        vertical-align: top;\n",
              "    }\n",
              "\n",
              "    .dataframe thead th {\n",
              "        text-align: right;\n",
              "    }\n",
              "</style>\n",
              "<table border=\"1\" class=\"dataframe\">\n",
              "  <thead>\n",
              "    <tr style=\"text-align: right;\">\n",
              "      <th></th>\n",
              "      <th>Outlook</th>\n",
              "      <th>Temperature</th>\n",
              "      <th>Humidity</th>\n",
              "      <th>Wind</th>\n",
              "      <th>PlayTennis</th>\n",
              "    </tr>\n",
              "  </thead>\n",
              "  <tbody>\n",
              "    <tr>\n",
              "      <th>0</th>\n",
              "      <td>Sunny</td>\n",
              "      <td>Hot</td>\n",
              "      <td>Normal</td>\n",
              "      <td>Weak</td>\n",
              "      <td>?</td>\n",
              "    </tr>\n",
              "    <tr>\n",
              "      <th>1</th>\n",
              "      <td>Rain</td>\n",
              "      <td>Mild</td>\n",
              "      <td>High</td>\n",
              "      <td>Strong</td>\n",
              "      <td>?</td>\n",
              "    </tr>\n",
              "  </tbody>\n",
              "</table>\n",
              "</div>"
            ],
            "text/plain": [
              "  Outlook Temperature Humidity    Wind PlayTennis\n",
              "0   Sunny         Hot   Normal    Weak          ?\n",
              "1    Rain        Mild     High  Strong          ?"
            ]
          },
          "metadata": {},
          "execution_count": 211
        }
      ]
    },
    {
      "cell_type": "code",
      "metadata": {
        "id": "quVaEgwV0y6U"
      },
      "source": [
        "def calc_total_entropy(train_data, label, class_list):\n",
        "    total_row = train_data.shape[0] \n",
        "    total_entr = 0\n",
        "    \n",
        "    for c in class_list: \n",
        "        total_class_count = train_data[train_data[label] == c].shape[0] \n",
        "        total_class_entr = - (total_class_count/total_row)*np.log2(total_class_count/total_row) \n",
        "        total_entr += total_class_entr \n",
        "    \n",
        "    return total_entr"
      ],
      "execution_count": 212,
      "outputs": []
    },
    {
      "cell_type": "code",
      "metadata": {
        "id": "qqWA05wbDker"
      },
      "source": [
        "def calc_entropy(feature_value_data, label, class_list):\n",
        "    class_count = feature_value_data.shape[0]\n",
        "    entropy = 0\n",
        "    \n",
        "    for c in class_list:\n",
        "        label_class_count = feature_value_data[feature_value_data[label] == c].shape[0] #row count of class c \n",
        "        entropy_class = 0\n",
        "        if label_class_count != 0:\n",
        "            probability_class = label_class_count/class_count #probability of the class\n",
        "            entropy_class = - probability_class * np.log2(probability_class)  #entropy\n",
        "        entropy += entropy_class\n",
        "    return entropy"
      ],
      "execution_count": 213,
      "outputs": []
    },
    {
      "cell_type": "code",
      "metadata": {
        "id": "BM4h11j2Dr2l"
      },
      "source": [
        "def calc_info_gain(feature_name, train_data, label, class_list):\n",
        "    feature_value_list = train_data[feature_name].unique() \n",
        "    total_row = train_data.shape[0]\n",
        "    feature_info = 0.0\n",
        "    \n",
        "    for feature_value in feature_value_list:\n",
        "        feature_value_data = train_data[train_data[feature_name] == feature_value] \n",
        "        feature_value_count = feature_value_data.shape[0]\n",
        "        feature_value_entropy = calc_entropy(feature_value_data, label, class_list) \n",
        "        feature_value_probability = feature_value_count/total_row\n",
        "        feature_info += feature_value_probability * feature_value_entropy \n",
        "        \n",
        "    return calc_total_entropy(train_data, label, class_list) - feature_info "
      ],
      "execution_count": 215,
      "outputs": []
    },
    {
      "cell_type": "code",
      "metadata": {
        "id": "Kl-1ooNMDzLM"
      },
      "source": [
        "def find_most_informative_feature(train_data, label, class_list):\n",
        "    feature_list = train_data.columns.drop(label) \n",
        "                                      \n",
        "    max_info_gain = -1\n",
        "    max_info_feature = None\n",
        "    \n",
        "    for feature in feature_list:  \n",
        "        feature_info_gain = calc_info_gain(feature, train_data, label, class_list)\n",
        "        if max_info_gain < feature_info_gain: \n",
        "            max_info_gain = feature_info_gain\n",
        "            max_info_feature = feature\n",
        "            \n",
        "    return max_info_feature"
      ],
      "execution_count": 216,
      "outputs": []
    },
    {
      "cell_type": "code",
      "metadata": {
        "id": "AfSPOVbkD27s"
      },
      "source": [
        "def generate_sub_tree(feature_name, train_data, label, class_list):\n",
        "    feature_value_count_dict = train_data[feature_name].value_counts(sort=False) \n",
        "    tree = {} #sub tree or node\n",
        "    \n",
        "    for feature_value, count in feature_value_count_dict.iteritems():\n",
        "        feature_value_data = train_data[train_data[feature_name] == feature_value] \n",
        "        \n",
        "        assigned_to_node = False \n",
        "        for c in class_list: \n",
        "            class_count = feature_value_data[feature_value_data[label] == c].shape[0] \n",
        "\n",
        "            if class_count == count: \n",
        "                tree[feature_value] = c \n",
        "                train_data = train_data[train_data[feature_name] != feature_value] \n",
        "                assigned_to_node = True\n",
        "        if not assigned_to_node: \n",
        "            tree[feature_value] = \"?\" \n",
        "            \n",
        "    return tree, train_data"
      ],
      "execution_count": 217,
      "outputs": []
    },
    {
      "cell_type": "code",
      "metadata": {
        "id": "gyrz6iAWEK88"
      },
      "source": [
        "def make_tree(root, prev_feature_value, train_data, label, class_list):\n",
        "    if train_data.shape[0] != 0: \n",
        "        max_info_feature = find_most_informative_feature(train_data, label, class_list) \n",
        "        tree, train_data = generate_sub_tree(max_info_feature, train_data, label, class_list) \n",
        "        next_root = None\n",
        "        \n",
        "        if prev_feature_value != None: \n",
        "            root[prev_feature_value] = dict()\n",
        "            root[prev_feature_value][max_info_feature] = tree\n",
        "            next_root = root[prev_feature_value][max_info_feature]\n",
        "        else: #add to root of the tree\n",
        "            root[max_info_feature] = tree\n",
        "            next_root = root[max_info_feature]\n",
        "        \n",
        "        for node, branch in list(next_root.items()): \n",
        "            if branch == \"?\": \n",
        "                feature_value_data = train_data[train_data[max_info_feature] == node] \n",
        "                make_tree(next_root, node, feature_value_data, label, class_list) \n",
        "                "
      ],
      "execution_count": 218,
      "outputs": []
    },
    {
      "cell_type": "code",
      "metadata": {
        "id": "92uDVKKEEYpK"
      },
      "source": [
        "def id3(train_data_m, label):\n",
        "    train_data = train_data_m.copy() \n",
        "    tree = {} \n",
        "    class_list = train_data[label].unique() \n",
        "    make_tree(tree, None, train_data_m, label, class_list) \n",
        "    return tree"
      ],
      "execution_count": 219,
      "outputs": []
    },
    {
      "cell_type": "code",
      "metadata": {
        "id": "fAle2IkkEdPq"
      },
      "source": [
        "tree = id3(train_data_m, 'PlayTennis')"
      ],
      "execution_count": 220,
      "outputs": []
    },
    {
      "cell_type": "code",
      "metadata": {
        "id": "QCHXI-4mEfir"
      },
      "source": [
        "def evaluate(tree, test_data_m, label):\n",
        "    correct_preditct = 0\n",
        "    wrong_preditct = 0\n",
        "    for index, row in test_data_m.iterrows(): \n",
        "        result = predict(tree, test_data_m.iloc[index]) \n",
        "        if result == test_data_m[label].iloc[index]:\n",
        "            correct_preditct += 1\n",
        "        else:\n",
        "            wrong_preditct += 1 \n",
        "    accuracy = correct_preditct / (correct_preditct + wrong_preditct) \n",
        "    return accuracy"
      ],
      "execution_count": 221,
      "outputs": []
    },
    {
      "cell_type": "code",
      "metadata": {
        "colab": {
          "base_uri": "https://localhost:8080/"
        },
        "id": "hYMsuZ1XEh61",
        "outputId": "3f92f73a-a103-4445-a115-82950e5b5681"
      },
      "source": [
        "print(tree)"
      ],
      "execution_count": 225,
      "outputs": [
        {
          "output_type": "stream",
          "name": "stdout",
          "text": [
            "{'Outlook': {'Sunny': '?', 'Rain': '?'}}\n"
          ]
        }
      ]
    },
    {
      "cell_type": "code",
      "metadata": {
        "colab": {
          "base_uri": "https://localhost:8080/",
          "height": 177
        },
        "id": "V5ia9E0fEmPp",
        "outputId": "1d1c95ef-6a77-4e9c-c034-7a9f4b5d8067"
      },
      "source": [
        "test_data_m = pd.read_csv(\"/content/sample_data/PlayTennisTest.csv\")\n",
        "accuracy = evaluate(tree, test_data_m, 'PlayTennis')\n",
        "test_data_m['predicted'] = test_data_m.apply(classify, axis=1, args=(tree,'No') ) \n",
        "print(test_data_m['predicted'])\n",
        "print(\"Accuracy is \",accuracy)\n",
        "test_data_m[['PlayTennis', 'predicted']]\n"
      ],
      "execution_count": 224,
      "outputs": [
        {
          "output_type": "stream",
          "name": "stdout",
          "text": [
            "0    ?\n",
            "1    ?\n",
            "Name: predicted, dtype: object\n",
            "Accuracy is  1.0\n"
          ]
        },
        {
          "output_type": "execute_result",
          "data": {
            "text/html": [
              "<div>\n",
              "<style scoped>\n",
              "    .dataframe tbody tr th:only-of-type {\n",
              "        vertical-align: middle;\n",
              "    }\n",
              "\n",
              "    .dataframe tbody tr th {\n",
              "        vertical-align: top;\n",
              "    }\n",
              "\n",
              "    .dataframe thead th {\n",
              "        text-align: right;\n",
              "    }\n",
              "</style>\n",
              "<table border=\"1\" class=\"dataframe\">\n",
              "  <thead>\n",
              "    <tr style=\"text-align: right;\">\n",
              "      <th></th>\n",
              "      <th>PlayTennis</th>\n",
              "      <th>predicted</th>\n",
              "    </tr>\n",
              "  </thead>\n",
              "  <tbody>\n",
              "    <tr>\n",
              "      <th>0</th>\n",
              "      <td>?</td>\n",
              "      <td>?</td>\n",
              "    </tr>\n",
              "    <tr>\n",
              "      <th>1</th>\n",
              "      <td>?</td>\n",
              "      <td>?</td>\n",
              "    </tr>\n",
              "  </tbody>\n",
              "</table>\n",
              "</div>"
            ],
            "text/plain": [
              "  PlayTennis predicted\n",
              "0          ?         ?\n",
              "1          ?         ?"
            ]
          },
          "metadata": {},
          "execution_count": 224
        }
      ]
    }
  ]
}