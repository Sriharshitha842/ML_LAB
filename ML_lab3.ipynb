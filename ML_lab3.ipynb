{
  "nbformat": 4,
  "nbformat_minor": 0,
  "metadata": {
    "colab": {
      "name": "ML_lab3.ipynb",
      "provenance": [],
      "authorship_tag": "ABX9TyOnE2u0Vakdc7Ju06858CfL",
      "include_colab_link": true
    },
    "kernelspec": {
      "name": "python3",
      "display_name": "Python 3"
    },
    "language_info": {
      "name": "python"
    }
  },
  "cells": [
    {
      "cell_type": "markdown",
      "metadata": {
        "id": "view-in-github",
        "colab_type": "text"
      },
      "source": [
        "<a href=\"https://colab.research.google.com/github/Sriharshitha842/ML_LAB/blob/main/ML_lab3.ipynb\" target=\"_parent\"><img src=\"https://colab.research.google.com/assets/colab-badge.svg\" alt=\"Open In Colab\"/></a>"
      ]
    },
    {
      "cell_type": "markdown",
      "metadata": {
        "id": "CWMvTeQan9Id"
      },
      "source": [
        "**Name of the Student : Sriharshitha Deepala**\n",
        "\n",
        "**Reg No : 19BCD7246**\n",
        "\n",
        "**Course Code : CSE3008**\n",
        "\n",
        "**Lab No : 03**"
      ]
    },
    {
      "cell_type": "markdown",
      "metadata": {
        "id": "CWawb6NIohcN"
      },
      "source": [
        "# **ID3 decision tree for classification**"
      ]
    },
    {
      "cell_type": "markdown",
      "metadata": {
        "id": "ahn5MOyYtpnm"
      },
      "source": [
        "**1. PlayTennis.csv**"
      ]
    },
    {
      "cell_type": "code",
      "metadata": {
        "id": "aGmyBR79msqf"
      },
      "source": [
        "import numpy as np\n",
        "import pandas as pd"
      ],
      "execution_count": 26,
      "outputs": []
    },
    {
      "cell_type": "code",
      "metadata": {
        "colab": {
          "base_uri": "https://localhost:8080/"
        },
        "id": "O9z2W_kuo0OK",
        "outputId": "051a7aeb-b831-413e-d679-88ab692a2aba"
      },
      "source": [
        "playtennis = pd.read_csv('/content/sample_data/PlayTennis.csv')\n",
        "print(playtennis)"
      ],
      "execution_count": 27,
      "outputs": [
        {
          "output_type": "stream",
          "name": "stdout",
          "text": [
            "     Outlook Temperature Humidity    Wind PlayTennis\n",
            "0      Sunny         Hot     High    Weak         No\n",
            "1      Sunny         Hot     High  Strong         No\n",
            "2   Overcast         Hot     High    Weak        Yes\n",
            "3       Rain        Mild     High    Weak        Yes\n",
            "4       Rain        Cool   Normal    Weak        Yes\n",
            "5       Rain        Cool   Normal  Strong         No\n",
            "6   Overcast        Cool   Normal  Strong        Yes\n",
            "7      Sunny        Mild     High    Weak         No\n",
            "8      Sunny        Cool   Normal    Weak        Yes\n",
            "9       Rain        Mild   Normal    Weak        Yes\n",
            "10     Sunny        Mild   Normal  Strong        Yes\n",
            "11  Overcast        Mild     High  Strong        Yes\n",
            "12  Overcast         Hot   Normal    Weak        Yes\n",
            "13      Rain        Mild     High  Strong         No\n"
          ]
        }
      ]
    },
    {
      "cell_type": "code",
      "metadata": {
        "colab": {
          "base_uri": "https://localhost:8080/"
        },
        "id": "dKx9SMRnpRbl",
        "outputId": "937c9cf1-e108-46c3-fc04-3f8f86a871bf"
      },
      "source": [
        "from sklearn.preprocessing import LabelEncoder\n",
        "L = LabelEncoder()\n",
        "playtennis['Outlook']=L.fit_transform(playtennis['Outlook'])\n",
        "playtennis['Temperature']=L.fit_transform(playtennis['Temperature'])\n",
        "playtennis['Humidity']=L.fit_transform(playtennis['Humidity'])\n",
        "playtennis['Wind']=L.fit_transform(playtennis['Wind'])\n",
        "playtennis['PlayTennis']=L.fit_transform(playtennis['PlayTennis'])\n",
        "print(playtennis)\n",
        "\n",
        "\n"
      ],
      "execution_count": 28,
      "outputs": [
        {
          "output_type": "stream",
          "name": "stdout",
          "text": [
            "    Outlook  Temperature  Humidity  Wind  PlayTennis\n",
            "0         2            1         0     1           0\n",
            "1         2            1         0     0           0\n",
            "2         0            1         0     1           1\n",
            "3         1            2         0     1           1\n",
            "4         1            0         1     1           1\n",
            "5         1            0         1     0           0\n",
            "6         0            0         1     0           1\n",
            "7         2            2         0     1           0\n",
            "8         2            0         1     1           1\n",
            "9         1            2         1     1           1\n",
            "10        2            2         1     0           1\n",
            "11        0            2         0     0           1\n",
            "12        0            1         1     1           1\n",
            "13        1            2         0     0           0\n"
          ]
        }
      ]
    },
    {
      "cell_type": "code",
      "metadata": {
        "colab": {
          "base_uri": "https://localhost:8080/",
          "height": 285
        },
        "id": "Dtnid663rtWP",
        "outputId": "e2cb3568-f018-40eb-b248-7f34b7000093"
      },
      "source": [
        "from sklearn import tree\n",
        "Y = playtennis['PlayTennis']\n",
        "X = playtennis.drop(['PlayTennis'], axis =1)\n",
        "c = tree.DecisionTreeClassifier(criterion = 'entropy')\n",
        "c = c.fit(X,Y)\n",
        "print(tree.plot_tree(c))"
      ],
      "execution_count": 29,
      "outputs": [
        {
          "output_type": "stream",
          "name": "stdout",
          "text": [
            "[Text(148.8, 195.696, 'X[0] <= 0.5\\nentropy = 0.94\\nsamples = 14\\nvalue = [5, 9]'), Text(111.60000000000001, 152.208, 'entropy = 0.0\\nsamples = 4\\nvalue = [0, 4]'), Text(186.0, 152.208, 'X[2] <= 0.5\\nentropy = 1.0\\nsamples = 10\\nvalue = [5, 5]'), Text(111.60000000000001, 108.72, 'X[0] <= 1.5\\nentropy = 0.722\\nsamples = 5\\nvalue = [4, 1]'), Text(74.4, 65.232, 'X[3] <= 0.5\\nentropy = 1.0\\nsamples = 2\\nvalue = [1, 1]'), Text(37.2, 21.744, 'entropy = 0.0\\nsamples = 1\\nvalue = [1, 0]'), Text(111.60000000000001, 21.744, 'entropy = 0.0\\nsamples = 1\\nvalue = [0, 1]'), Text(148.8, 65.232, 'entropy = 0.0\\nsamples = 3\\nvalue = [3, 0]'), Text(260.40000000000003, 108.72, 'X[3] <= 0.5\\nentropy = 0.722\\nsamples = 5\\nvalue = [1, 4]'), Text(223.20000000000002, 65.232, 'X[1] <= 1.0\\nentropy = 1.0\\nsamples = 2\\nvalue = [1, 1]'), Text(186.0, 21.744, 'entropy = 0.0\\nsamples = 1\\nvalue = [1, 0]'), Text(260.40000000000003, 21.744, 'entropy = 0.0\\nsamples = 1\\nvalue = [0, 1]'), Text(297.6, 65.232, 'entropy = 0.0\\nsamples = 3\\nvalue = [0, 3]')]\n"
          ]
        },
        {
          "output_type": "display_data",
          "data": {
            "image/png": "[encoded data removed]",
            "text/plain": [
              "<Figure size 432x288 with 1 Axes>"
            ]
          },
          "metadata": {
            "needs_background": "light"
          }
        }
      ]
    },
    {
      "cell_type": "code",
      "metadata": {
        "id": "f0sImRqJsodP"
      },
      "source": [
        "import graphviz\n",
        "\n",
        "data = tree.export_graphviz(c)\n",
        "graph = graphviz.Source(data)\n"
      ],
      "execution_count": 30,
      "outputs": []
    },
    {
      "cell_type": "code",
      "metadata": {
        "colab": {
          "base_uri": "https://localhost:8080/",
          "height": 657
        },
        "id": "x_Vve8xXtYom",
        "outputId": "c4b791c7-1b6d-4929-f220-f6c64b564ad3"
      },
      "source": [
        "graph"
      ],
      "execution_count": 31,
      "outputs": [
        {
          "output_type": "execute_result",
          "data": {
            "text/plain": [
              "<graphviz.files.Source at 0x7fc3810b0990>"
            ],
            "image/svg+xml": "<?xml version=\"1.0\" encoding=\"UTF-8\" standalone=\"no\"?>\n<!DOCTYPE svg PUBLIC \"-//W3C//DTD SVG 1.1//EN\"\n \"http://www.w3.org/Graphics/SVG/1.1/DTD/svg11.dtd\">\n<!-- Generated by graphviz version 2.40.1 (20161225.0304)\n -->\n<!-- Title: Tree Pages: 1 -->\n<svg width=\"502pt\" height=\"477pt\"\n viewBox=\"0.00 0.00 502.00 477.00\" xmlns=\"http://www.w3.org/2000/svg\" xmlns:xlink=\"http://www.w3.org/1999/xlink\">\n<g id=\"graph0\" class=\"graph\" transform=\"scale(1 1) rotate(0) translate(4 473)\">\n<title>Tree</title>\n<polygon fill=\"#ffffff\" stroke=\"transparent\" points=\"-4,4 -4,-473 498,-473 498,4 -4,4\"/>\n<!-- 0 -->\n<g id=\"node1\" class=\"node\">\n<title>0</title>\n<polygon fill=\"none\" stroke=\"#000000\" points=\"268,-469 165,-469 165,-401 268,-401 268,-469\"/>\n<text text-anchor=\"middle\" x=\"216.5\" y=\"-453.8\" font-family=\"Times,serif\" font-size=\"14.00\" fill=\"#000000\">X[0] &lt;= 0.5</text>\n<text text-anchor=\"middle\" x=\"216.5\" y=\"-438.8\" font-family=\"Times,serif\" font-size=\"14.00\" fill=\"#000000\">entropy = 0.94</text>\n<text text-anchor=\"middle\" x=\"216.5\" y=\"-423.8\" font-family=\"Times,serif\" font-size=\"14.00\" fill=\"#000000\">samples = 14</text>\n<text text-anchor=\"middle\" x=\"216.5\" y=\"-408.8\" font-family=\"Times,serif\" font-size=\"14.00\" fill=\"#000000\">value = [5, 9]</text>\n</g>\n<!-- 1 -->\n<g id=\"node2\" class=\"node\">\n<title>1</title>\n<polygon fill=\"none\" stroke=\"#000000\" points=\"208,-357.5 113,-357.5 113,-304.5 208,-304.5 208,-357.5\"/>\n<text text-anchor=\"middle\" x=\"160.5\" y=\"-342.3\" font-family=\"Times,serif\" font-size=\"14.00\" fill=\"#000000\">entropy = 0.0</text>\n<text text-anchor=\"middle\" x=\"160.5\" y=\"-327.3\" font-family=\"Times,serif\" font-size=\"14.00\" fill=\"#000000\">samples = 4</text>\n<text text-anchor=\"middle\" x=\"160.5\" y=\"-312.3\" font-family=\"Times,serif\" font-size=\"14.00\" fill=\"#000000\">value = [0, 4]</text>\n</g>\n<!-- 0&#45;&gt;1 -->\n<g id=\"edge1\" class=\"edge\">\n<title>0&#45;&gt;1</title>\n<path fill=\"none\" stroke=\"#000000\" d=\"M198.1635,-400.9465C192.2324,-389.9316 185.6419,-377.6922 179.6532,-366.5703\"/>\n<polygon fill=\"#000000\" stroke=\"#000000\" points=\"182.6146,-364.6875 174.7919,-357.5422 176.4513,-368.0063 182.6146,-364.6875\"/>\n<text text-anchor=\"middle\" x=\"167.6082\" y=\"-377.7878\" font-family=\"Times,serif\" font-size=\"14.00\" fill=\"#000000\">True</text>\n</g>\n<!-- 2 -->\n<g id=\"node3\" class=\"node\">\n<title>2</title>\n<polygon fill=\"none\" stroke=\"#000000\" points=\"321,-365 226,-365 226,-297 321,-297 321,-365\"/>\n<text text-anchor=\"middle\" x=\"273.5\" y=\"-349.8\" font-family=\"Times,serif\" font-size=\"14.00\" fill=\"#000000\">X[2] &lt;= 0.5</text>\n<text text-anchor=\"middle\" x=\"273.5\" y=\"-334.8\" font-family=\"Times,serif\" font-size=\"14.00\" fill=\"#000000\">entropy = 1.0</text>\n<text text-anchor=\"middle\" x=\"273.5\" y=\"-319.8\" font-family=\"Times,serif\" font-size=\"14.00\" fill=\"#000000\">samples = 10</text>\n<text text-anchor=\"middle\" x=\"273.5\" y=\"-304.8\" font-family=\"Times,serif\" font-size=\"14.00\" fill=\"#000000\">value = [5, 5]</text>\n</g>\n<!-- 0&#45;&gt;2 -->\n<g id=\"edge2\" class=\"edge\">\n<title>0&#45;&gt;2</title>\n<path fill=\"none\" stroke=\"#000000\" d=\"M235.1639,-400.9465C239.888,-392.3271 245.0231,-382.9579 249.954,-373.9611\"/>\n<polygon fill=\"#000000\" stroke=\"#000000\" points=\"253.0571,-375.5815 254.7941,-365.13 246.9186,-372.2171 253.0571,-375.5815\"/>\n<text text-anchor=\"middle\" x=\"261.7999\" y=\"-385.4283\" font-family=\"Times,serif\" font-size=\"14.00\" fill=\"#000000\">False</text>\n</g>\n<!-- 3 -->\n<g id=\"node4\" class=\"node\">\n<title>3</title>\n<polygon fill=\"none\" stroke=\"#000000\" points=\"264.5,-261 154.5,-261 154.5,-193 264.5,-193 264.5,-261\"/>\n<text text-anchor=\"middle\" x=\"209.5\" y=\"-245.8\" font-family=\"Times,serif\" font-size=\"14.00\" fill=\"#000000\">X[0] &lt;= 1.5</text>\n<text text-anchor=\"middle\" x=\"209.5\" y=\"-230.8\" font-family=\"Times,serif\" font-size=\"14.00\" fill=\"#000000\">entropy = 0.722</text>\n<text text-anchor=\"middle\" x=\"209.5\" y=\"-215.8\" font-family=\"Times,serif\" font-size=\"14.00\" fill=\"#000000\">samples = 5</text>\n<text text-anchor=\"middle\" x=\"209.5\" y=\"-200.8\" font-family=\"Times,serif\" font-size=\"14.00\" fill=\"#000000\">value = [4, 1]</text>\n</g>\n<!-- 2&#45;&gt;3 -->\n<g id=\"edge3\" class=\"edge\">\n<title>2&#45;&gt;3</title>\n<path fill=\"none\" stroke=\"#000000\" d=\"M252.544,-296.9465C247.1845,-288.2373 241.3539,-278.7626 235.7647,-269.6801\"/>\n<polygon fill=\"#000000\" stroke=\"#000000\" points=\"238.7249,-267.8122 230.5031,-261.13 232.7633,-271.481 238.7249,-267.8122\"/>\n</g>\n<!-- 8 -->\n<g id=\"node9\" class=\"node\">\n<title>8</title>\n<polygon fill=\"none\" stroke=\"#000000\" points=\"392.5,-261 282.5,-261 282.5,-193 392.5,-193 392.5,-261\"/>\n<text text-anchor=\"middle\" x=\"337.5\" y=\"-245.8\" font-family=\"Times,serif\" font-size=\"14.00\" fill=\"#000000\">X[3] &lt;= 0.5</text>\n<text text-anchor=\"middle\" x=\"337.5\" y=\"-230.8\" font-family=\"Times,serif\" font-size=\"14.00\" fill=\"#000000\">entropy = 0.722</text>\n<text text-anchor=\"middle\" x=\"337.5\" y=\"-215.8\" font-family=\"Times,serif\" font-size=\"14.00\" fill=\"#000000\">samples = 5</text>\n<text text-anchor=\"middle\" x=\"337.5\" y=\"-200.8\" font-family=\"Times,serif\" font-size=\"14.00\" fill=\"#000000\">value = [1, 4]</text>\n</g>\n<!-- 2&#45;&gt;8 -->\n<g id=\"edge8\" class=\"edge\">\n<title>2&#45;&gt;8</title>\n<path fill=\"none\" stroke=\"#000000\" d=\"M294.456,-296.9465C299.8155,-288.2373 305.6461,-278.7626 311.2353,-269.6801\"/>\n<polygon fill=\"#000000\" stroke=\"#000000\" points=\"314.2367,-271.481 316.4969,-261.13 308.2751,-267.8122 314.2367,-271.481\"/>\n</g>\n<!-- 4 -->\n<g id=\"node5\" class=\"node\">\n<title>4</title>\n<polygon fill=\"none\" stroke=\"#000000\" points=\"148,-157 53,-157 53,-89 148,-89 148,-157\"/>\n<text text-anchor=\"middle\" x=\"100.5\" y=\"-141.8\" font-family=\"Times,serif\" font-size=\"14.00\" fill=\"#000000\">X[3] &lt;= 0.5</text>\n<text text-anchor=\"middle\" x=\"100.5\" y=\"-126.8\" font-family=\"Times,serif\" font-size=\"14.00\" fill=\"#000000\">entropy = 1.0</text>\n<text text-anchor=\"middle\" x=\"100.5\" y=\"-111.8\" font-family=\"Times,serif\" font-size=\"14.00\" fill=\"#000000\">samples = 2</text>\n<text text-anchor=\"middle\" x=\"100.5\" y=\"-96.8\" font-family=\"Times,serif\" font-size=\"14.00\" fill=\"#000000\">value = [1, 1]</text>\n</g>\n<!-- 3&#45;&gt;4 -->\n<g id=\"edge4\" class=\"edge\">\n<title>3&#45;&gt;4</title>\n<path fill=\"none\" stroke=\"#000000\" d=\"M173.8093,-192.9465C164.2109,-183.7884 153.7253,-173.7838 143.7634,-164.2788\"/>\n<polygon fill=\"#000000\" stroke=\"#000000\" points=\"145.9221,-161.5009 136.2709,-157.13 141.0898,-166.5655 145.9221,-161.5009\"/>\n</g>\n<!-- 7 -->\n<g id=\"node8\" class=\"node\">\n<title>7</title>\n<polygon fill=\"none\" stroke=\"#000000\" points=\"261,-149.5 166,-149.5 166,-96.5 261,-96.5 261,-149.5\"/>\n<text text-anchor=\"middle\" x=\"213.5\" y=\"-134.3\" font-family=\"Times,serif\" font-size=\"14.00\" fill=\"#000000\">entropy = 0.0</text>\n<text text-anchor=\"middle\" x=\"213.5\" y=\"-119.3\" font-family=\"Times,serif\" font-size=\"14.00\" fill=\"#000000\">samples = 3</text>\n<text text-anchor=\"middle\" x=\"213.5\" y=\"-104.3\" font-family=\"Times,serif\" font-size=\"14.00\" fill=\"#000000\">value = [3, 0]</text>\n</g>\n<!-- 3&#45;&gt;7 -->\n<g id=\"edge7\" class=\"edge\">\n<title>3&#45;&gt;7</title>\n<path fill=\"none\" stroke=\"#000000\" d=\"M210.8097,-192.9465C211.2207,-182.2621 211.6759,-170.4254 212.0933,-159.5742\"/>\n<polygon fill=\"#000000\" stroke=\"#000000\" points=\"215.5921,-159.6693 212.4791,-149.5422 208.5973,-159.4002 215.5921,-159.6693\"/>\n</g>\n<!-- 5 -->\n<g id=\"node6\" class=\"node\">\n<title>5</title>\n<polygon fill=\"none\" stroke=\"#000000\" points=\"95,-53 0,-53 0,0 95,0 95,-53\"/>\n<text text-anchor=\"middle\" x=\"47.5\" y=\"-37.8\" font-family=\"Times,serif\" font-size=\"14.00\" fill=\"#000000\">entropy = 0.0</text>\n<text text-anchor=\"middle\" x=\"47.5\" y=\"-22.8\" font-family=\"Times,serif\" font-size=\"14.00\" fill=\"#000000\">samples = 1</text>\n<text text-anchor=\"middle\" x=\"47.5\" y=\"-7.8\" font-family=\"Times,serif\" font-size=\"14.00\" fill=\"#000000\">value = [1, 0]</text>\n</g>\n<!-- 4&#45;&gt;5 -->\n<g id=\"edge5\" class=\"edge\">\n<title>4&#45;&gt;5</title>\n<path fill=\"none\" stroke=\"#000000\" d=\"M81.8142,-88.9777C77.0364,-80.2786 71.8865,-70.9018 67.0659,-62.1247\"/>\n<polygon fill=\"#000000\" stroke=\"#000000\" points=\"70.0726,-60.3286 62.1909,-53.2485 63.9371,-63.6984 70.0726,-60.3286\"/>\n</g>\n<!-- 6 -->\n<g id=\"node7\" class=\"node\">\n<title>6</title>\n<polygon fill=\"none\" stroke=\"#000000\" points=\"208,-53 113,-53 113,0 208,0 208,-53\"/>\n<text text-anchor=\"middle\" x=\"160.5\" y=\"-37.8\" font-family=\"Times,serif\" font-size=\"14.00\" fill=\"#000000\">entropy = 0.0</text>\n<text text-anchor=\"middle\" x=\"160.5\" y=\"-22.8\" font-family=\"Times,serif\" font-size=\"14.00\" fill=\"#000000\">samples = 1</text>\n<text text-anchor=\"middle\" x=\"160.5\" y=\"-7.8\" font-family=\"Times,serif\" font-size=\"14.00\" fill=\"#000000\">value = [0, 1]</text>\n</g>\n<!-- 4&#45;&gt;6 -->\n<g id=\"edge6\" class=\"edge\">\n<title>4&#45;&gt;6</title>\n<path fill=\"none\" stroke=\"#000000\" d=\"M121.6538,-88.9777C127.1195,-80.187 133.0154,-70.7044 138.5222,-61.8477\"/>\n<polygon fill=\"#000000\" stroke=\"#000000\" points=\"141.5609,-63.5889 143.8688,-53.2485 135.6163,-59.8927 141.5609,-63.5889\"/>\n</g>\n<!-- 9 -->\n<g id=\"node10\" class=\"node\">\n<title>9</title>\n<polygon fill=\"none\" stroke=\"#000000\" points=\"381,-157 286,-157 286,-89 381,-89 381,-157\"/>\n<text text-anchor=\"middle\" x=\"333.5\" y=\"-141.8\" font-family=\"Times,serif\" font-size=\"14.00\" fill=\"#000000\">X[1] &lt;= 1.0</text>\n<text text-anchor=\"middle\" x=\"333.5\" y=\"-126.8\" font-family=\"Times,serif\" font-size=\"14.00\" fill=\"#000000\">entropy = 1.0</text>\n<text text-anchor=\"middle\" x=\"333.5\" y=\"-111.8\" font-family=\"Times,serif\" font-size=\"14.00\" fill=\"#000000\">samples = 2</text>\n<text text-anchor=\"middle\" x=\"333.5\" y=\"-96.8\" font-family=\"Times,serif\" font-size=\"14.00\" fill=\"#000000\">value = [1, 1]</text>\n</g>\n<!-- 8&#45;&gt;9 -->\n<g id=\"edge9\" class=\"edge\">\n<title>8&#45;&gt;9</title>\n<path fill=\"none\" stroke=\"#000000\" d=\"M336.1903,-192.9465C335.876,-184.776 335.5358,-175.9318 335.2065,-167.3697\"/>\n<polygon fill=\"#000000\" stroke=\"#000000\" points=\"338.6945,-166.9881 334.8127,-157.13 331.6997,-167.2572 338.6945,-166.9881\"/>\n</g>\n<!-- 12 -->\n<g id=\"node13\" class=\"node\">\n<title>12</title>\n<polygon fill=\"none\" stroke=\"#000000\" points=\"494,-149.5 399,-149.5 399,-96.5 494,-96.5 494,-149.5\"/>\n<text text-anchor=\"middle\" x=\"446.5\" y=\"-134.3\" font-family=\"Times,serif\" font-size=\"14.00\" fill=\"#000000\">entropy = 0.0</text>\n<text text-anchor=\"middle\" x=\"446.5\" y=\"-119.3\" font-family=\"Times,serif\" font-size=\"14.00\" fill=\"#000000\">samples = 3</text>\n<text text-anchor=\"middle\" x=\"446.5\" y=\"-104.3\" font-family=\"Times,serif\" font-size=\"14.00\" fill=\"#000000\">value = [0, 3]</text>\n</g>\n<!-- 8&#45;&gt;12 -->\n<g id=\"edge12\" class=\"edge\">\n<title>8&#45;&gt;12</title>\n<path fill=\"none\" stroke=\"#000000\" d=\"M373.1907,-192.9465C385.4278,-181.2707 399.107,-168.219 411.3046,-156.5809\"/>\n<polygon fill=\"#000000\" stroke=\"#000000\" points=\"413.8628,-158.9777 418.6818,-149.5422 409.0306,-153.9131 413.8628,-158.9777\"/>\n</g>\n<!-- 10 -->\n<g id=\"node11\" class=\"node\">\n<title>10</title>\n<polygon fill=\"none\" stroke=\"#000000\" points=\"351,-53 256,-53 256,0 351,0 351,-53\"/>\n<text text-anchor=\"middle\" x=\"303.5\" y=\"-37.8\" font-family=\"Times,serif\" font-size=\"14.00\" fill=\"#000000\">entropy = 0.0</text>\n<text text-anchor=\"middle\" x=\"303.5\" y=\"-22.8\" font-family=\"Times,serif\" font-size=\"14.00\" fill=\"#000000\">samples = 1</text>\n<text text-anchor=\"middle\" x=\"303.5\" y=\"-7.8\" font-family=\"Times,serif\" font-size=\"14.00\" fill=\"#000000\">value = [1, 0]</text>\n</g>\n<!-- 9&#45;&gt;10 -->\n<g id=\"edge10\" class=\"edge\">\n<title>9&#45;&gt;10</title>\n<path fill=\"none\" stroke=\"#000000\" d=\"M322.9231,-88.9777C320.3041,-80.5533 317.4876,-71.4934 314.8341,-62.9579\"/>\n<polygon fill=\"#000000\" stroke=\"#000000\" points=\"318.1265,-61.7586 311.8156,-53.2485 311.4421,-63.8367 318.1265,-61.7586\"/>\n</g>\n<!-- 11 -->\n<g id=\"node12\" class=\"node\">\n<title>11</title>\n<polygon fill=\"none\" stroke=\"#000000\" points=\"464,-53 369,-53 369,0 464,0 464,-53\"/>\n<text text-anchor=\"middle\" x=\"416.5\" y=\"-37.8\" font-family=\"Times,serif\" font-size=\"14.00\" fill=\"#000000\">entropy = 0.0</text>\n<text text-anchor=\"middle\" x=\"416.5\" y=\"-22.8\" font-family=\"Times,serif\" font-size=\"14.00\" fill=\"#000000\">samples = 1</text>\n<text text-anchor=\"middle\" x=\"416.5\" y=\"-7.8\" font-family=\"Times,serif\" font-size=\"14.00\" fill=\"#000000\">value = [0, 1]</text>\n</g>\n<!-- 9&#45;&gt;11 -->\n<g id=\"edge11\" class=\"edge\">\n<title>9&#45;&gt;11</title>\n<path fill=\"none\" stroke=\"#000000\" d=\"M362.7627,-88.9777C370.5599,-79.9123 378.99,-70.111 386.8099,-61.0192\"/>\n<polygon fill=\"#000000\" stroke=\"#000000\" points=\"389.6262,-63.1123 393.4935,-53.2485 384.3191,-58.5477 389.6262,-63.1123\"/>\n</g>\n</g>\n</svg>\n"
          },
          "metadata": {},
          "execution_count": 31
        }
      ]
    },
    {
      "cell_type": "markdown",
      "metadata": {
        "id": "dzxd1F8Lt2je"
      },
      "source": [
        "**2. PlayTennisTest.csv**"
      ]
    },
    {
      "cell_type": "code",
      "metadata": {
        "colab": {
          "base_uri": "https://localhost:8080/"
        },
        "id": "9Wax0nf2uMa2",
        "outputId": "32d23148-5983-4cbd-93fd-57d6fc4d19c2"
      },
      "source": [
        "playtennistest = pd.read_csv('/content/sample_data/PlayTennisTest.csv')\n",
        "print(playtennistest)"
      ],
      "execution_count": 32,
      "outputs": [
        {
          "output_type": "stream",
          "name": "stdout",
          "text": [
            "  Outlook Temperature Humidity    Wind PlayTennis\n",
            "0   Sunny         Hot   Normal    Weak          ?\n",
            "1    Rain        Mild     High  Strong          ?\n"
          ]
        }
      ]
    },
    {
      "cell_type": "code",
      "metadata": {
        "colab": {
          "base_uri": "https://localhost:8080/"
        },
        "id": "EAe88zVkudON",
        "outputId": "cac43781-27f9-4086-97b8-5d4265d0bd34"
      },
      "source": [
        "from sklearn.preprocessing import LabelEncoder\n",
        "l = LabelEncoder()\n",
        "playtennistest['Outlook']=l.fit_transform(playtennistest['Outlook'])\n",
        "playtennistest['Temperature']=l.fit_transform(playtennistest['Temperature'])\n",
        "playtennistest['Humidity']=l.fit_transform(playtennistest['Humidity'])\n",
        "playtennistest['Wind']=l.fit_transform(playtennistest['Wind'])\n",
        "playtennistest['PlayTennis']=l.fit_transform(playtennistest['PlayTennis'])\n",
        "print(playtennistest)"
      ],
      "execution_count": 33,
      "outputs": [
        {
          "output_type": "stream",
          "name": "stdout",
          "text": [
            "   Outlook  Temperature  Humidity  Wind  PlayTennis\n",
            "0        1            0         1     1           0\n",
            "1        0            1         0     0           0\n"
          ]
        }
      ]
    },
    {
      "cell_type": "code",
      "metadata": {
        "colab": {
          "base_uri": "https://localhost:8080/",
          "height": 265
        },
        "id": "Dq46RAJXu3Pa",
        "outputId": "e9dcbf0b-e6d8-4100-e322-db36ffe39a12"
      },
      "source": [
        "from sklearn import tree\n",
        "Y = playtennistest['PlayTennis']\n",
        "X = playtennistest.drop(['PlayTennis'], axis =1)\n",
        "C = tree.DecisionTreeClassifier(criterion = 'entropy')\n",
        "C = C.fit(X,Y)\n",
        "print(tree.plot_tree(C))"
      ],
      "execution_count": 34,
      "outputs": [
        {
          "output_type": "stream",
          "name": "stdout",
          "text": [
            "[Text(167.4, 108.72, 'entropy = 0.0\\nsamples = 2\\nvalue = 2.0')]\n"
          ]
        },
        {
          "output_type": "display_data",
          "data": {
            "image/png": "[encoded data removed]",
            "text/plain": [
              "<Figure size 432x288 with 1 Axes>"
            ]
          },
          "metadata": {
            "needs_background": "light"
          }
        }
      ]
    },
    {
      "cell_type": "code",
      "metadata": {
        "id": "z0PcEBQqvUGW"
      },
      "source": [
        "import graphviz\n",
        "\n",
        "Data = tree.export_graphviz(C)\n",
        "Graph = graphviz.Source(Data)"
      ],
      "execution_count": 35,
      "outputs": []
    },
    {
      "cell_type": "code",
      "metadata": {
        "colab": {
          "base_uri": "https://localhost:8080/",
          "height": 102
        },
        "id": "8Pz8XQP-vYru",
        "outputId": "5ff1513b-f31b-45d8-e80c-965ab2cdd9fc"
      },
      "source": [
        "Graph"
      ],
      "execution_count": 36,
      "outputs": [
        {
          "output_type": "execute_result",
          "data": {
            "text/plain": [
              "<graphviz.files.Source at 0x7fc38109ec50>"
            ],
            "image/svg+xml": "<?xml version=\"1.0\" encoding=\"UTF-8\" standalone=\"no\"?>\n<!DOCTYPE svg PUBLIC \"-//W3C//DTD SVG 1.1//EN\"\n \"http://www.w3.org/Graphics/SVG/1.1/DTD/svg11.dtd\">\n<!-- Generated by graphviz version 2.40.1 (20161225.0304)\n -->\n<!-- Title: Tree Pages: 1 -->\n<svg width=\"103pt\" height=\"61pt\"\n viewBox=\"0.00 0.00 103.00 61.00\" xmlns=\"http://www.w3.org/2000/svg\" xmlns:xlink=\"http://www.w3.org/1999/xlink\">\n<g id=\"graph0\" class=\"graph\" transform=\"scale(1 1) rotate(0) translate(4 57)\">\n<title>Tree</title>\n<polygon fill=\"#ffffff\" stroke=\"transparent\" points=\"-4,4 -4,-57 99,-57 99,4 -4,4\"/>\n<!-- 0 -->\n<g id=\"node1\" class=\"node\">\n<title>0</title>\n<polygon fill=\"none\" stroke=\"#000000\" points=\"95,-53 0,-53 0,0 95,0 95,-53\"/>\n<text text-anchor=\"middle\" x=\"47.5\" y=\"-37.8\" font-family=\"Times,serif\" font-size=\"14.00\" fill=\"#000000\">entropy = 0.0</text>\n<text text-anchor=\"middle\" x=\"47.5\" y=\"-22.8\" font-family=\"Times,serif\" font-size=\"14.00\" fill=\"#000000\">samples = 2</text>\n<text text-anchor=\"middle\" x=\"47.5\" y=\"-7.8\" font-family=\"Times,serif\" font-size=\"14.00\" fill=\"#000000\">value = 2.0</text>\n</g>\n</g>\n</svg>\n"
          },
          "metadata": {},
          "execution_count": 36
        }
      ]
    }
  ]
}